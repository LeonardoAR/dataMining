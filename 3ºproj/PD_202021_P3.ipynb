{
 "cells": [
  {
   "cell_type": "markdown",
   "metadata": {},
   "source": [
    "# Data Mining / Prospeção de Dados\n",
    "\n",
    "## Diogo F. Soares and Sara C. Madeira, 2020/21\n",
    "\n",
    "# Project 3 - Classification/Regression"
   ]
  },
  {
   "cell_type": "markdown",
   "metadata": {},
   "source": [
    "## Logistics\n",
    "\n",
    "**_Read Carefully_**\n",
    "\n",
    "**Students should work in teams of 2 or 3 people**. \n",
    "\n",
    "Individual projects might be allowed (with valid justification), but will not have better grades for this reason. \n",
    "\n",
    "* Tasks **1 to 4** should be done by **all** groups **BUT**\n",
    "    * In Tasks **2 and 3** the number of classifiers/regressors to use is **`X` = 3 and 4**  for groups of 2 and 3 students, respectively.\n",
    "    * In Task **4**, groups of 2 and 3 students should try 2 and 3 ensemble approaches, respectively.\n",
    "\n",
    "The quality of the project will dictate its grade, not the number of people working.\n",
    "\n",
    "**The project's solution should be uploaded in Moodle before the end of ~~`May, 9th (23:59)`~~ `May, 16th (23:59)`.** \n",
    "\n",
    "Students should **upload a `.zip` file** containing all the files necessary for project evaluation. \n",
    "Groups should be registered in [Moodle](https://moodle.ciencias.ulisboa.pt/mod/groupselect/view.php?id=139096) and the zip file should be identified as `PDnn.zip` where `nn` is the number of your group.\n",
    "\n",
    "**It is mandatory to produce a Jupyter notebook containing code and text/images/tables/etc describing the solution and the results. Projects not delivered in this format will not be graded. You can use `PD_202021_P3.ipynb`as template. In your `.zip` folder you should also include an HTML version of your notebook with all the outputs** (File > Download as > HTML).\n",
    "\n",
    "**Decisions should be justified and results should be critically discussed.** \n",
    "\n",
    "_Project solutions containing only code and outputs without discussions will achieve a maximum grade 10 out of 20._"
   ]
  },
  {
   "cell_type": "markdown",
   "metadata": {},
   "source": [
    "## Dataset and Tools\n",
    "\n",
    "In this project you should use [Python 3](https://www.python.org), [Jupyter Notebook](http://jupyter.org) and **[Scikit-learn](http://scikit-learn.org/stable/). You are also allowed to use [Orange3](https://orange.biolab.si).**\n",
    "\n",
    "The dataset to be analysed is **`RestaurantsRevenue.csv`**, a modified version of the test dataset used in Kaggle's competition [\"Restaurant Revenue Prediction\"](https://www.kaggle.com/c/restaurant-revenue-prediction/overview). \n",
    "\n",
    "**This project challenges you twice** by asking you to tackle a\n",
    "1. **Regression Task**: predict the revenue, and a\n",
    "2. **Classification Task**: predict a revenue category.\n",
    "\n",
    "The available variables are:\n",
    "\n",
    "* **Id :** Restaurant id. \n",
    "* **Open Date :** opening date for a restaurant\n",
    "* **City :** City that the restaurant is in. Note that there are unicode in the names. \n",
    "* **City Group:** Type of the city. Big cities, or Other. \n",
    "* **Type:** Type of the restaurant. FC: Food Court, IL: Inline, DT: Drive Thru, MB: Mobile\n",
    "* **P1, P2 - P37:** There are three categories of these obfuscated data. Demographic data are gathered from third party providers with GIS systems. These include population in any given area, age and gender distribution, development scales. Real estate data mainly relate to the m2 of the location, front facade of the location, car park availability. Commercial data mainly include the existence of points of interest including schools, banks, other QSR operators.\n",
    "\n",
    "\n",
    "The targets are:\n",
    "1. **`Revenue`:** The revenue column indicates a (transformed) revenue of the restaurant in a given year and is the target of predictive analysis. Please note that the values are transformed so they don't mean real dollar values. \n",
    "2. **`RevenueCategory`** - the revenue category, where price can be below 12000 (\"<12K\"), between 12000 and 20000 (\"12K-20K\"), or above 20000 (\">20K\"). This is the target variable that you're trying to predict in the classification task. "
   ]
  },
  {
   "cell_type": "markdown",
   "metadata": {},
   "source": [
    "## Team Identification\n",
    "\n",
    "**GROUP NNN**\n",
    "\n",
    "Students:\n",
    "\n",
    "* Student 1 - n_student1\n",
    "* Student 2 - n_student2\n",
    "* Student 3 - n_student3"
   ]
  },
  {
   "cell_type": "markdown",
   "metadata": {},
   "source": [
    "## 1. Load and Preprocess Dataset"
   ]
  },
  {
   "cell_type": "markdown",
   "metadata": {},
   "source": [
    "Here you might consider useful to think about:\n",
    "1. Missing Value Imputation\n",
    "2. Feature Selection\n",
    "3. Class Imbalance"
   ]
  },
  {
   "cell_type": "code",
   "execution_count": null,
   "metadata": {},
   "outputs": [],
   "source": []
  },
  {
   "cell_type": "markdown",
   "metadata": {},
   "source": [
    "## 2. Learning Simple Classifiers\n",
    "\n",
    "* Choose **`X` classifiers** (https://scikit-learn.org/stable/supervised_learning.html#supervised-learning).\n",
    "* Use **grid-search and stratified 10 fold cross-validation** to estimate the best parameters (https://scikit-learn.org/stable/model_selection.html#model-selection). \n",
    "* Present mean and standard deviation of accuracy, precision and recall.\n",
    "* Show confusion matrices."
   ]
  },
  {
   "cell_type": "code",
   "execution_count": null,
   "metadata": {},
   "outputs": [],
   "source": [
    "# Present and Discuss your results here\n",
    "# ..."
   ]
  },
  {
   "cell_type": "markdown",
   "metadata": {},
   "source": [
    "## 3. Learning Simple Regressors\n",
    "\n",
    "* Choose **`X` regressors** (https://scikit-learn.org/stable/supervised_learning.html#supervised-learning).\n",
    "* Use **grid-search and 10 fold cross-validation** to estimate the best parameters (https://scikit-learn.org/stable/model_selection.html#model-selection). \n",
    "* Use the mean absolute error regression loss, or other relevant metrics."
   ]
  },
  {
   "cell_type": "code",
   "execution_count": null,
   "metadata": {},
   "outputs": [],
   "source": [
    "# Present and Discuss your results here\n",
    "# ..."
   ]
  },
  {
   "cell_type": "markdown",
   "metadata": {},
   "source": [
    "## 4. Ensemble Learning"
   ]
  },
  {
   "cell_type": "markdown",
   "metadata": {},
   "source": [
    "### Voting Classifier/Regressor\n",
    "\n",
    "* Use a voting classifier (http://scikit-learn.org/stable/modules/ensemble.html#voting-classifier)/regressor(https://scikit-learn.org/stable/modules/generated/sklearn.ensemble.VotingRegressor.html) to combine the best results of the `X` classifiers/regressors from previous sections. "
   ]
  },
  {
   "cell_type": "code",
   "execution_count": null,
   "metadata": {},
   "outputs": [],
   "source": [
    "# Present and Discuss your results here\n",
    "# ..."
   ]
  },
  {
   "cell_type": "markdown",
   "metadata": {},
   "source": [
    "### XGBoost \n",
    "\n",
    "* Use [XGBoost](https://www.kaggle.com/stuarthallows/using-xgboost-with-scikit-learn)."
   ]
  },
  {
   "cell_type": "code",
   "execution_count": null,
   "metadata": {},
   "outputs": [],
   "source": [
    "# Present and Discuss your results here\n",
    "# ..."
   ]
  },
  {
   "cell_type": "markdown",
   "metadata": {},
   "source": [
    "### Random Forests\n",
    "\n",
    "* Use [Random Forests](http://scikit-learn.org/stable/modules/ensemble.html#random-forests)."
   ]
  },
  {
   "cell_type": "code",
   "execution_count": null,
   "metadata": {},
   "outputs": [],
   "source": [
    "# Present and Discuss your results here\n",
    "# ..."
   ]
  },
  {
   "cell_type": "markdown",
   "metadata": {},
   "source": [
    "## 5. Conclusions"
   ]
  },
  {
   "cell_type": "markdown",
   "metadata": {},
   "source": [
    "Draw some final conclusions about this project work"
   ]
  }
 ],
 "metadata": {
  "kernelspec": {
   "display_name": "Python 3",
   "language": "python",
   "name": "python3"
  },
  "language_info": {
   "codemirror_mode": {
    "name": "ipython",
    "version": 3
   },
   "file_extension": ".py",
   "mimetype": "text/x-python",
   "name": "python",
   "nbconvert_exporter": "python",
   "pygments_lexer": "ipython3",
   "version": "3.8.5"
  }
 },
 "nbformat": 4,
 "nbformat_minor": 2
}
