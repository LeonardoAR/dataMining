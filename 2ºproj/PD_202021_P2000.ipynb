{
 "cells": [
  {
   "cell_type": "markdown",
   "metadata": {},
   "source": [
    "# Data Mining / Prospecção de Dados\n",
    "\n",
    "## Diogo F. Soares and Sara C. Madeira, 2020/21\n",
    "\n",
    "# Project 2 - Clustering"
   ]
  },
  {
   "cell_type": "markdown",
   "metadata": {},
   "source": [
    "## Logistics \n",
    "\n",
    "**_Read Carefully_**\n",
    "\n",
    "**Students should work in teams of 2 or 3 people**. \n",
    "\n",
    "Individual projects might be allowed (with valid justification), but will not have better grades for this reason. \n",
    "\n",
    "The quality of the project will dictate its grade, not the number of people working.\n",
    "\n",
    "**The project's solution should be uploaded in Moodle before the end of `April, 18th (23:59)`.** \n",
    "\n",
    "Students should **upload a `.zip` file** containing all the files necessary for project evaluation. \n",
    "Groups should be registered in [Moodle](https://moodle.ciencias.ulisboa.pt/mod/groupselect/view.php?id=139096) and the zip file should be identified as `PDnn.zip` where `nn` is the number of your group.\n",
    "\n",
    "**It is mandatory to produce a Jupyter notebook containing code and text/images/tables/etc describing the solution and the results. Projects not delivered in this format will not be graded. You can use `PD_202021_P2.ipynb`as template. In your `.zip` folder you should also include an HTML version of your notebook with all the outputs** (File > Download as > HTML).\n",
    "\n",
    "**Decisions should be justified and results should be critically discussed.** \n",
    "\n",
    "_Project solutions containing only code and outputs without discussions will achieve a maximum grade 10 out of 20._"
   ]
  },
  {
   "cell_type": "markdown",
   "metadata": {},
   "source": [
    "## Dataset and Tools\n",
    "\n",
    "In this project you should use [Python 3](https://www.python.org), [Jupyter Notebook](http://jupyter.org) and **[Scikit-learn](http://scikit-learn.org/stable/)**.\n",
    "\n",
    "The dataset to be analysed is **`medulloblastoma_genes.csv`**. It includes 76 samples of medulloblastoma (MB) with respective expression levels of 54.675 genes measured in children with ages between 3 and 16 years. Medulloblastoma is a malignant childhood brain tumour comprising four discrete subgroups. \n",
    "\n",
    "In this project you will consider the labels of the samples included in the `labels.csv` file where samples are labelled as MB-CL or Other. In this case, we have 51 samples of classic medulloblastoma (MB-CL) and 25 other types (namely: 6 desmoplastic nodular, 17 anaplastic and 2 medullomyoblastoma).\n",
    "\n",
    "In `medulloblastoma_genes.csv` each line represents a sample and each column represents a gene.\n",
    "\n",
    "\n",
    "**The goal is to cluster samples and (ideally) find \"MB-CL\" groups and \"Other MB\" groups.** "
   ]
  },
  {
   "cell_type": "markdown",
   "metadata": {},
   "source": [
    "## Team Identification\n",
    "\n",
    "**GROUP NNN**\n",
    "\n",
    "Students:\n",
    "\n",
    "* Student 1 - n_student1\n",
    "* Student 2 - n_student2\n",
    "* Student 3 - n_student3"
   ]
  },
  {
   "cell_type": "markdown",
   "metadata": {},
   "source": [
    "## 1. Load and Preprocess Dataset"
   ]
  },
  {
   "cell_type": "code",
   "execution_count": 1,
   "metadata": {},
   "outputs": [],
   "source": [
    "import pandas as pd\n",
    "import matplotlib.pyplot as plt\n",
    "import numpy as np"
   ]
  },
  {
   "cell_type": "markdown",
   "metadata": {},
   "source": [
    "At the end of this step you should have:\n",
    "* a 76 rows × 54675 columns matrix, **X**, containing the values of the 54675 features for each of the 76 samples.\n",
    "* a vector, **y**, with the 76 type of medulloblastoma, which you can use later to evaluate clustering quality."
   ]
  },
  {
   "cell_type": "markdown",
   "metadata": {},
   "source": [
    "The dataset to be analysed is **`medulloblastoma_genes.csv`**. It includes 76 samples of medulloblastoma (MB) with respective expression levels of 54.675 genes measured in children with ages between 3 and 16 years. Medulloblastoma is a malignant childhood brain tumour comprising four discrete subgroups. "
   ]
  },
  {
   "cell_type": "code",
   "execution_count": 2,
   "metadata": {},
   "outputs": [],
   "source": [
    "X = pd.read_csv(\"medulloblastoma_genes.csv\")"
   ]
  },
  {
   "cell_type": "code",
   "execution_count": 3,
   "metadata": {},
   "outputs": [],
   "source": [
    "X.to_pickle(\"./medulloblastoma_genes.pkl\")"
   ]
  },
  {
   "cell_type": "code",
   "execution_count": 4,
   "metadata": {},
   "outputs": [],
   "source": [
    "X = pd.read_pickle('medulloblastoma_genes.pkl')"
   ]
  },
  {
   "cell_type": "code",
   "execution_count": 5,
   "metadata": {},
   "outputs": [
    {
     "data": {
      "text/plain": [
       "0"
      ]
     },
     "execution_count": 5,
     "metadata": {},
     "output_type": "execute_result"
    }
   ],
   "source": [
    "X.isna().sum().sum() #checking for null values"
   ]
  },
  {
   "cell_type": "code",
   "execution_count": 6,
   "metadata": {},
   "outputs": [
    {
     "data": {
      "text/plain": [
       "0"
      ]
     },
     "execution_count": 6,
     "metadata": {},
     "output_type": "execute_result"
    }
   ],
   "source": [
    "X.duplicated().sum() #checking for duplicated features"
   ]
  },
  {
   "cell_type": "code",
   "execution_count": 7,
   "metadata": {},
   "outputs": [],
   "source": [
    "X.rename(columns = {'Unnamed: 0': 'samples'}, inplace = True)"
   ]
  },
  {
   "cell_type": "code",
   "execution_count": 8,
   "metadata": {},
   "outputs": [
    {
     "data": {
      "text/plain": [
       "76"
      ]
     },
     "execution_count": 8,
     "metadata": {},
     "output_type": "execute_result"
    }
   ],
   "source": [
    "X.samples.nunique() #there are 76 unique samples"
   ]
  },
  {
   "cell_type": "code",
   "execution_count": 9,
   "metadata": {},
   "outputs": [],
   "source": [
    "X_samples = X.samples"
   ]
  },
  {
   "cell_type": "code",
   "execution_count": 10,
   "metadata": {},
   "outputs": [],
   "source": [
    "X.drop(['samples'],axis=1, inplace=True) #removing the id"
   ]
  },
  {
   "cell_type": "code",
   "execution_count": 11,
   "metadata": {},
   "outputs": [
    {
     "data": {
      "text/plain": [
       "(76, 54675)"
      ]
     },
     "execution_count": 11,
     "metadata": {},
     "output_type": "execute_result"
    }
   ],
   "source": [
    "X.shape"
   ]
  },
  {
   "cell_type": "markdown",
   "metadata": {},
   "source": [
    "we reatched the objective of having 76 sample and 54675 genes for each sample"
   ]
  },
  {
   "cell_type": "code",
   "execution_count": 12,
   "metadata": {},
   "outputs": [
    {
     "data": {
      "text/html": [
       "<div>\n",
       "<style scoped>\n",
       "    .dataframe tbody tr th:only-of-type {\n",
       "        vertical-align: middle;\n",
       "    }\n",
       "\n",
       "    .dataframe tbody tr th {\n",
       "        vertical-align: top;\n",
       "    }\n",
       "\n",
       "    .dataframe thead th {\n",
       "        text-align: right;\n",
       "    }\n",
       "</style>\n",
       "<table border=\"1\" class=\"dataframe\">\n",
       "  <thead>\n",
       "    <tr style=\"text-align: right;\">\n",
       "      <th></th>\n",
       "      <th>1007_s_at</th>\n",
       "      <th>1053_at</th>\n",
       "      <th>117_at</th>\n",
       "      <th>121_at</th>\n",
       "      <th>1255_g_at</th>\n",
       "      <th>1294_at</th>\n",
       "      <th>1316_at</th>\n",
       "      <th>1320_at</th>\n",
       "      <th>1405_i_at</th>\n",
       "      <th>1431_at</th>\n",
       "      <th>...</th>\n",
       "      <th>AFFX-r2-Ec-bioD-3_at</th>\n",
       "      <th>AFFX-r2-Ec-bioD-5_at</th>\n",
       "      <th>AFFX-r2-P1-cre-3_at</th>\n",
       "      <th>AFFX-r2-P1-cre-5_at</th>\n",
       "      <th>AFFX-ThrX-3_at</th>\n",
       "      <th>AFFX-ThrX-5_at</th>\n",
       "      <th>AFFX-ThrX-M_at</th>\n",
       "      <th>AFFX-TrpnX-3_at</th>\n",
       "      <th>AFFX-TrpnX-5_at</th>\n",
       "      <th>AFFX-TrpnX-M_at</th>\n",
       "    </tr>\n",
       "  </thead>\n",
       "  <tbody>\n",
       "    <tr>\n",
       "      <th>0</th>\n",
       "      <td>7.59594</td>\n",
       "      <td>6.14440</td>\n",
       "      <td>4.82431</td>\n",
       "      <td>5.67092</td>\n",
       "      <td>4.14155</td>\n",
       "      <td>5.48935</td>\n",
       "      <td>6.01078</td>\n",
       "      <td>5.17671</td>\n",
       "      <td>4.83708</td>\n",
       "      <td>4.77996</td>\n",
       "      <td>...</td>\n",
       "      <td>10.23640</td>\n",
       "      <td>10.12020</td>\n",
       "      <td>11.5560</td>\n",
       "      <td>11.2308</td>\n",
       "      <td>6.94803</td>\n",
       "      <td>6.42487</td>\n",
       "      <td>6.70991</td>\n",
       "      <td>4.48639</td>\n",
       "      <td>4.43082</td>\n",
       "      <td>3.48738</td>\n",
       "    </tr>\n",
       "    <tr>\n",
       "      <th>1</th>\n",
       "      <td>7.80665</td>\n",
       "      <td>6.19154</td>\n",
       "      <td>5.24439</td>\n",
       "      <td>5.62149</td>\n",
       "      <td>3.41773</td>\n",
       "      <td>5.70478</td>\n",
       "      <td>5.98896</td>\n",
       "      <td>3.45316</td>\n",
       "      <td>4.34121</td>\n",
       "      <td>4.28772</td>\n",
       "      <td>...</td>\n",
       "      <td>10.47470</td>\n",
       "      <td>10.48930</td>\n",
       "      <td>11.6799</td>\n",
       "      <td>11.3475</td>\n",
       "      <td>6.09785</td>\n",
       "      <td>4.38328</td>\n",
       "      <td>4.68583</td>\n",
       "      <td>3.40120</td>\n",
       "      <td>4.20916</td>\n",
       "      <td>4.40915</td>\n",
       "    </tr>\n",
       "    <tr>\n",
       "      <th>2</th>\n",
       "      <td>7.60080</td>\n",
       "      <td>5.97406</td>\n",
       "      <td>5.36270</td>\n",
       "      <td>5.78598</td>\n",
       "      <td>3.32863</td>\n",
       "      <td>6.13340</td>\n",
       "      <td>6.09108</td>\n",
       "      <td>3.63495</td>\n",
       "      <td>5.12218</td>\n",
       "      <td>4.75875</td>\n",
       "      <td>...</td>\n",
       "      <td>10.85320</td>\n",
       "      <td>10.71250</td>\n",
       "      <td>11.9298</td>\n",
       "      <td>11.6038</td>\n",
       "      <td>6.49375</td>\n",
       "      <td>3.24259</td>\n",
       "      <td>3.91999</td>\n",
       "      <td>3.13114</td>\n",
       "      <td>4.02892</td>\n",
       "      <td>4.93087</td>\n",
       "    </tr>\n",
       "    <tr>\n",
       "      <th>3</th>\n",
       "      <td>7.40141</td>\n",
       "      <td>5.90781</td>\n",
       "      <td>4.80566</td>\n",
       "      <td>5.97838</td>\n",
       "      <td>4.21804</td>\n",
       "      <td>5.43677</td>\n",
       "      <td>6.10166</td>\n",
       "      <td>3.37417</td>\n",
       "      <td>4.46706</td>\n",
       "      <td>4.87672</td>\n",
       "      <td>...</td>\n",
       "      <td>10.19600</td>\n",
       "      <td>10.23420</td>\n",
       "      <td>11.4141</td>\n",
       "      <td>11.0352</td>\n",
       "      <td>6.98869</td>\n",
       "      <td>5.42978</td>\n",
       "      <td>6.07764</td>\n",
       "      <td>3.95700</td>\n",
       "      <td>4.04480</td>\n",
       "      <td>3.32504</td>\n",
       "    </tr>\n",
       "    <tr>\n",
       "      <th>4</th>\n",
       "      <td>7.54550</td>\n",
       "      <td>6.17877</td>\n",
       "      <td>5.79088</td>\n",
       "      <td>6.21800</td>\n",
       "      <td>4.61413</td>\n",
       "      <td>5.67710</td>\n",
       "      <td>4.95301</td>\n",
       "      <td>3.39451</td>\n",
       "      <td>4.51743</td>\n",
       "      <td>5.06449</td>\n",
       "      <td>...</td>\n",
       "      <td>10.43980</td>\n",
       "      <td>10.35610</td>\n",
       "      <td>11.4329</td>\n",
       "      <td>11.0906</td>\n",
       "      <td>6.62791</td>\n",
       "      <td>4.48300</td>\n",
       "      <td>5.89798</td>\n",
       "      <td>3.47816</td>\n",
       "      <td>4.40183</td>\n",
       "      <td>3.17388</td>\n",
       "    </tr>\n",
       "    <tr>\n",
       "      <th>...</th>\n",
       "      <td>...</td>\n",
       "      <td>...</td>\n",
       "      <td>...</td>\n",
       "      <td>...</td>\n",
       "      <td>...</td>\n",
       "      <td>...</td>\n",
       "      <td>...</td>\n",
       "      <td>...</td>\n",
       "      <td>...</td>\n",
       "      <td>...</td>\n",
       "      <td>...</td>\n",
       "      <td>...</td>\n",
       "      <td>...</td>\n",
       "      <td>...</td>\n",
       "      <td>...</td>\n",
       "      <td>...</td>\n",
       "      <td>...</td>\n",
       "      <td>...</td>\n",
       "      <td>...</td>\n",
       "      <td>...</td>\n",
       "      <td>...</td>\n",
       "    </tr>\n",
       "    <tr>\n",
       "      <th>71</th>\n",
       "      <td>7.46691</td>\n",
       "      <td>6.05819</td>\n",
       "      <td>4.56331</td>\n",
       "      <td>5.99396</td>\n",
       "      <td>4.59915</td>\n",
       "      <td>5.82275</td>\n",
       "      <td>5.29832</td>\n",
       "      <td>3.90197</td>\n",
       "      <td>5.40042</td>\n",
       "      <td>3.44362</td>\n",
       "      <td>...</td>\n",
       "      <td>10.70730</td>\n",
       "      <td>10.59980</td>\n",
       "      <td>11.5175</td>\n",
       "      <td>11.2067</td>\n",
       "      <td>6.45363</td>\n",
       "      <td>4.41401</td>\n",
       "      <td>4.89485</td>\n",
       "      <td>3.22684</td>\n",
       "      <td>3.74242</td>\n",
       "      <td>3.47507</td>\n",
       "    </tr>\n",
       "    <tr>\n",
       "      <th>72</th>\n",
       "      <td>7.50064</td>\n",
       "      <td>6.38873</td>\n",
       "      <td>4.13677</td>\n",
       "      <td>5.98419</td>\n",
       "      <td>4.17285</td>\n",
       "      <td>4.11251</td>\n",
       "      <td>5.38907</td>\n",
       "      <td>4.28359</td>\n",
       "      <td>4.09101</td>\n",
       "      <td>4.18814</td>\n",
       "      <td>...</td>\n",
       "      <td>10.92920</td>\n",
       "      <td>10.79330</td>\n",
       "      <td>11.5540</td>\n",
       "      <td>11.2843</td>\n",
       "      <td>9.59624</td>\n",
       "      <td>8.20059</td>\n",
       "      <td>8.82366</td>\n",
       "      <td>3.49953</td>\n",
       "      <td>3.82864</td>\n",
       "      <td>3.23868</td>\n",
       "    </tr>\n",
       "    <tr>\n",
       "      <th>73</th>\n",
       "      <td>7.75074</td>\n",
       "      <td>6.54161</td>\n",
       "      <td>4.16356</td>\n",
       "      <td>6.11545</td>\n",
       "      <td>4.04480</td>\n",
       "      <td>5.55412</td>\n",
       "      <td>5.10595</td>\n",
       "      <td>3.76120</td>\n",
       "      <td>4.57780</td>\n",
       "      <td>4.23700</td>\n",
       "      <td>...</td>\n",
       "      <td>10.02130</td>\n",
       "      <td>9.90944</td>\n",
       "      <td>10.8855</td>\n",
       "      <td>10.6334</td>\n",
       "      <td>5.82865</td>\n",
       "      <td>3.59182</td>\n",
       "      <td>4.62203</td>\n",
       "      <td>3.65584</td>\n",
       "      <td>3.77963</td>\n",
       "      <td>3.21084</td>\n",
       "    </tr>\n",
       "    <tr>\n",
       "      <th>74</th>\n",
       "      <td>7.66767</td>\n",
       "      <td>6.60611</td>\n",
       "      <td>4.42963</td>\n",
       "      <td>5.43677</td>\n",
       "      <td>4.93087</td>\n",
       "      <td>5.23218</td>\n",
       "      <td>5.47939</td>\n",
       "      <td>3.95317</td>\n",
       "      <td>4.52070</td>\n",
       "      <td>4.50203</td>\n",
       "      <td>...</td>\n",
       "      <td>9.52511</td>\n",
       "      <td>9.47396</td>\n",
       "      <td>10.4149</td>\n",
       "      <td>10.0026</td>\n",
       "      <td>6.67380</td>\n",
       "      <td>5.20839</td>\n",
       "      <td>6.12184</td>\n",
       "      <td>3.80666</td>\n",
       "      <td>3.28466</td>\n",
       "      <td>3.09104</td>\n",
       "    </tr>\n",
       "    <tr>\n",
       "      <th>75</th>\n",
       "      <td>7.75773</td>\n",
       "      <td>6.89315</td>\n",
       "      <td>3.75654</td>\n",
       "      <td>6.09086</td>\n",
       "      <td>3.67630</td>\n",
       "      <td>5.92586</td>\n",
       "      <td>5.73399</td>\n",
       "      <td>4.28082</td>\n",
       "      <td>4.37952</td>\n",
       "      <td>3.43721</td>\n",
       "      <td>...</td>\n",
       "      <td>11.56740</td>\n",
       "      <td>11.39260</td>\n",
       "      <td>12.2007</td>\n",
       "      <td>11.8893</td>\n",
       "      <td>6.66109</td>\n",
       "      <td>4.48976</td>\n",
       "      <td>4.95512</td>\n",
       "      <td>3.45632</td>\n",
       "      <td>4.44030</td>\n",
       "      <td>3.53806</td>\n",
       "    </tr>\n",
       "  </tbody>\n",
       "</table>\n",
       "<p>76 rows × 54675 columns</p>\n",
       "</div>"
      ],
      "text/plain": [
       "    1007_s_at  1053_at   117_at   121_at  1255_g_at  1294_at  1316_at  \\\n",
       "0     7.59594  6.14440  4.82431  5.67092    4.14155  5.48935  6.01078   \n",
       "1     7.80665  6.19154  5.24439  5.62149    3.41773  5.70478  5.98896   \n",
       "2     7.60080  5.97406  5.36270  5.78598    3.32863  6.13340  6.09108   \n",
       "3     7.40141  5.90781  4.80566  5.97838    4.21804  5.43677  6.10166   \n",
       "4     7.54550  6.17877  5.79088  6.21800    4.61413  5.67710  4.95301   \n",
       "..        ...      ...      ...      ...        ...      ...      ...   \n",
       "71    7.46691  6.05819  4.56331  5.99396    4.59915  5.82275  5.29832   \n",
       "72    7.50064  6.38873  4.13677  5.98419    4.17285  4.11251  5.38907   \n",
       "73    7.75074  6.54161  4.16356  6.11545    4.04480  5.55412  5.10595   \n",
       "74    7.66767  6.60611  4.42963  5.43677    4.93087  5.23218  5.47939   \n",
       "75    7.75773  6.89315  3.75654  6.09086    3.67630  5.92586  5.73399   \n",
       "\n",
       "    1320_at  1405_i_at  1431_at  ...  AFFX-r2-Ec-bioD-3_at  \\\n",
       "0   5.17671    4.83708  4.77996  ...              10.23640   \n",
       "1   3.45316    4.34121  4.28772  ...              10.47470   \n",
       "2   3.63495    5.12218  4.75875  ...              10.85320   \n",
       "3   3.37417    4.46706  4.87672  ...              10.19600   \n",
       "4   3.39451    4.51743  5.06449  ...              10.43980   \n",
       "..      ...        ...      ...  ...                   ...   \n",
       "71  3.90197    5.40042  3.44362  ...              10.70730   \n",
       "72  4.28359    4.09101  4.18814  ...              10.92920   \n",
       "73  3.76120    4.57780  4.23700  ...              10.02130   \n",
       "74  3.95317    4.52070  4.50203  ...               9.52511   \n",
       "75  4.28082    4.37952  3.43721  ...              11.56740   \n",
       "\n",
       "    AFFX-r2-Ec-bioD-5_at  AFFX-r2-P1-cre-3_at  AFFX-r2-P1-cre-5_at  \\\n",
       "0               10.12020              11.5560              11.2308   \n",
       "1               10.48930              11.6799              11.3475   \n",
       "2               10.71250              11.9298              11.6038   \n",
       "3               10.23420              11.4141              11.0352   \n",
       "4               10.35610              11.4329              11.0906   \n",
       "..                   ...                  ...                  ...   \n",
       "71              10.59980              11.5175              11.2067   \n",
       "72              10.79330              11.5540              11.2843   \n",
       "73               9.90944              10.8855              10.6334   \n",
       "74               9.47396              10.4149              10.0026   \n",
       "75              11.39260              12.2007              11.8893   \n",
       "\n",
       "    AFFX-ThrX-3_at  AFFX-ThrX-5_at  AFFX-ThrX-M_at  AFFX-TrpnX-3_at  \\\n",
       "0          6.94803         6.42487         6.70991          4.48639   \n",
       "1          6.09785         4.38328         4.68583          3.40120   \n",
       "2          6.49375         3.24259         3.91999          3.13114   \n",
       "3          6.98869         5.42978         6.07764          3.95700   \n",
       "4          6.62791         4.48300         5.89798          3.47816   \n",
       "..             ...             ...             ...              ...   \n",
       "71         6.45363         4.41401         4.89485          3.22684   \n",
       "72         9.59624         8.20059         8.82366          3.49953   \n",
       "73         5.82865         3.59182         4.62203          3.65584   \n",
       "74         6.67380         5.20839         6.12184          3.80666   \n",
       "75         6.66109         4.48976         4.95512          3.45632   \n",
       "\n",
       "    AFFX-TrpnX-5_at  AFFX-TrpnX-M_at  \n",
       "0           4.43082          3.48738  \n",
       "1           4.20916          4.40915  \n",
       "2           4.02892          4.93087  \n",
       "3           4.04480          3.32504  \n",
       "4           4.40183          3.17388  \n",
       "..              ...              ...  \n",
       "71          3.74242          3.47507  \n",
       "72          3.82864          3.23868  \n",
       "73          3.77963          3.21084  \n",
       "74          3.28466          3.09104  \n",
       "75          4.44030          3.53806  \n",
       "\n",
       "[76 rows x 54675 columns]"
      ]
     },
     "execution_count": 12,
     "metadata": {},
     "output_type": "execute_result"
    }
   ],
   "source": [
    "X#.head(2)"
   ]
  },
  {
   "cell_type": "markdown",
   "metadata": {},
   "source": [
    "In this project you will consider the labels of the samples included in the `labels.csv` file where samples are labelled as MB-CL or Other. In this case, we have 51 samples of classic medulloblastoma (MB-CL) and 25 other types (namely: 6 desmoplastic nodular, 17 anaplastic and 2 medullomyoblastoma).\n",
    "\n",
    "In `medulloblastoma_genes.csv` each line represents a sample and each column represents a gene.\n",
    "\n",
    "\n",
    "**The goal is to cluster samples and (ideally) find \"MB-CL\" groups and \"Other MB\" groups.** "
   ]
  },
  {
   "cell_type": "code",
   "execution_count": 13,
   "metadata": {},
   "outputs": [
    {
     "data": {
      "text/html": [
       "<div>\n",
       "<style scoped>\n",
       "    .dataframe tbody tr th:only-of-type {\n",
       "        vertical-align: middle;\n",
       "    }\n",
       "\n",
       "    .dataframe tbody tr th {\n",
       "        vertical-align: top;\n",
       "    }\n",
       "\n",
       "    .dataframe thead th {\n",
       "        text-align: right;\n",
       "    }\n",
       "</style>\n",
       "<table border=\"1\" class=\"dataframe\">\n",
       "  <thead>\n",
       "    <tr style=\"text-align: right;\">\n",
       "      <th></th>\n",
       "      <th>samples</th>\n",
       "      <th>class</th>\n",
       "    </tr>\n",
       "  </thead>\n",
       "  <tbody>\n",
       "    <tr>\n",
       "      <th>0</th>\n",
       "      <td>GSM918578</td>\n",
       "      <td>MB-CL</td>\n",
       "    </tr>\n",
       "    <tr>\n",
       "      <th>1</th>\n",
       "      <td>GSM918579</td>\n",
       "      <td>MB-CL</td>\n",
       "    </tr>\n",
       "    <tr>\n",
       "      <th>2</th>\n",
       "      <td>GSM918580</td>\n",
       "      <td>MB-CL</td>\n",
       "    </tr>\n",
       "    <tr>\n",
       "      <th>3</th>\n",
       "      <td>GSM918581</td>\n",
       "      <td>MB-CL</td>\n",
       "    </tr>\n",
       "    <tr>\n",
       "      <th>4</th>\n",
       "      <td>GSM918582</td>\n",
       "      <td>Other</td>\n",
       "    </tr>\n",
       "    <tr>\n",
       "      <th>...</th>\n",
       "      <td>...</td>\n",
       "      <td>...</td>\n",
       "    </tr>\n",
       "    <tr>\n",
       "      <th>71</th>\n",
       "      <td>GSM918649</td>\n",
       "      <td>Other</td>\n",
       "    </tr>\n",
       "    <tr>\n",
       "      <th>72</th>\n",
       "      <td>GSM918650</td>\n",
       "      <td>MB-CL</td>\n",
       "    </tr>\n",
       "    <tr>\n",
       "      <th>73</th>\n",
       "      <td>GSM918651</td>\n",
       "      <td>Other</td>\n",
       "    </tr>\n",
       "    <tr>\n",
       "      <th>74</th>\n",
       "      <td>GSM918652</td>\n",
       "      <td>MB-CL</td>\n",
       "    </tr>\n",
       "    <tr>\n",
       "      <th>75</th>\n",
       "      <td>GSM918653</td>\n",
       "      <td>MB-CL</td>\n",
       "    </tr>\n",
       "  </tbody>\n",
       "</table>\n",
       "<p>76 rows × 2 columns</p>\n",
       "</div>"
      ],
      "text/plain": [
       "      samples  class\n",
       "0   GSM918578  MB-CL\n",
       "1   GSM918579  MB-CL\n",
       "2   GSM918580  MB-CL\n",
       "3   GSM918581  MB-CL\n",
       "4   GSM918582  Other\n",
       "..        ...    ...\n",
       "71  GSM918649  Other\n",
       "72  GSM918650  MB-CL\n",
       "73  GSM918651  Other\n",
       "74  GSM918652  MB-CL\n",
       "75  GSM918653  MB-CL\n",
       "\n",
       "[76 rows x 2 columns]"
      ]
     },
     "execution_count": 13,
     "metadata": {},
     "output_type": "execute_result"
    }
   ],
   "source": [
    "y = pd.read_csv(\"labels.csv\")\n",
    "y"
   ]
  },
  {
   "cell_type": "code",
   "execution_count": 14,
   "metadata": {},
   "outputs": [],
   "source": [
    "y_samples = y.samples"
   ]
  },
  {
   "cell_type": "code",
   "execution_count": 15,
   "metadata": {},
   "outputs": [
    {
     "name": "stdout",
     "output_type": "stream",
     "text": [
      "Total number of classes =  76\n",
      "Output classes =  ['GSM918578' 'GSM918579' 'GSM918580' 'GSM918581' 'GSM918582' 'GSM918583'\n",
      " 'GSM918584' 'GSM918585' 'GSM918586' 'GSM918587' 'GSM918588' 'GSM918589'\n",
      " 'GSM918590' 'GSM918591' 'GSM918592' 'GSM918593' 'GSM918594' 'GSM918595'\n",
      " 'GSM918596' 'GSM918597' 'GSM918598' 'GSM918599' 'GSM918600' 'GSM918601'\n",
      " 'GSM918602' 'GSM918603' 'GSM918604' 'GSM918605' 'GSM918606' 'GSM918607'\n",
      " 'GSM918608' 'GSM918609' 'GSM918610' 'GSM918611' 'GSM918612' 'GSM918613'\n",
      " 'GSM918614' 'GSM918615' 'GSM918616' 'GSM918617' 'GSM918618' 'GSM918619'\n",
      " 'GSM918620' 'GSM918621' 'GSM918622' 'GSM918623' 'GSM918624' 'GSM918625'\n",
      " 'GSM918626' 'GSM918627' 'GSM918628' 'GSM918629' 'GSM918630' 'GSM918631'\n",
      " 'GSM918632' 'GSM918633' 'GSM918634' 'GSM918635' 'GSM918636' 'GSM918637'\n",
      " 'GSM918638' 'GSM918639' 'GSM918640' 'GSM918641' 'GSM918642' 'GSM918643'\n",
      " 'GSM918644' 'GSM918645' 'GSM918646' 'GSM918647' 'GSM918648' 'GSM918649'\n",
      " 'GSM918650' 'GSM918651' 'GSM918652' 'GSM918653']\n"
     ]
    }
   ],
   "source": [
    "classes = np.unique(y_samples)\n",
    "n_classes = len(classes)\n",
    "print('Total number of classes = ', n_classes) #there are 76 unique values as we expect\n",
    "print('Output classes = ', classes)"
   ]
  },
  {
   "cell_type": "code",
   "execution_count": 16,
   "metadata": {},
   "outputs": [
    {
     "data": {
      "text/plain": [
       "True"
      ]
     },
     "execution_count": 16,
     "metadata": {},
     "output_type": "execute_result"
    }
   ],
   "source": [
    "#sanity check\n",
    "(X_samples == y_samples).all()"
   ]
  },
  {
   "cell_type": "code",
   "execution_count": 17,
   "metadata": {},
   "outputs": [],
   "source": [
    "y.drop(['samples'],axis=1, inplace=True)"
   ]
  },
  {
   "cell_type": "code",
   "execution_count": 18,
   "metadata": {},
   "outputs": [
    {
     "data": {
      "text/html": [
       "<div>\n",
       "<style scoped>\n",
       "    .dataframe tbody tr th:only-of-type {\n",
       "        vertical-align: middle;\n",
       "    }\n",
       "\n",
       "    .dataframe tbody tr th {\n",
       "        vertical-align: top;\n",
       "    }\n",
       "\n",
       "    .dataframe thead th {\n",
       "        text-align: right;\n",
       "    }\n",
       "</style>\n",
       "<table border=\"1\" class=\"dataframe\">\n",
       "  <thead>\n",
       "    <tr style=\"text-align: right;\">\n",
       "      <th></th>\n",
       "      <th>index</th>\n",
       "      <th>class</th>\n",
       "    </tr>\n",
       "  </thead>\n",
       "  <tbody>\n",
       "    <tr>\n",
       "      <th>0</th>\n",
       "      <td>0</td>\n",
       "      <td>MB-CL</td>\n",
       "    </tr>\n",
       "    <tr>\n",
       "      <th>1</th>\n",
       "      <td>1</td>\n",
       "      <td>MB-CL</td>\n",
       "    </tr>\n",
       "    <tr>\n",
       "      <th>2</th>\n",
       "      <td>2</td>\n",
       "      <td>MB-CL</td>\n",
       "    </tr>\n",
       "    <tr>\n",
       "      <th>3</th>\n",
       "      <td>3</td>\n",
       "      <td>MB-CL</td>\n",
       "    </tr>\n",
       "    <tr>\n",
       "      <th>4</th>\n",
       "      <td>4</td>\n",
       "      <td>Other</td>\n",
       "    </tr>\n",
       "    <tr>\n",
       "      <th>...</th>\n",
       "      <td>...</td>\n",
       "      <td>...</td>\n",
       "    </tr>\n",
       "    <tr>\n",
       "      <th>71</th>\n",
       "      <td>71</td>\n",
       "      <td>Other</td>\n",
       "    </tr>\n",
       "    <tr>\n",
       "      <th>72</th>\n",
       "      <td>72</td>\n",
       "      <td>MB-CL</td>\n",
       "    </tr>\n",
       "    <tr>\n",
       "      <th>73</th>\n",
       "      <td>73</td>\n",
       "      <td>Other</td>\n",
       "    </tr>\n",
       "    <tr>\n",
       "      <th>74</th>\n",
       "      <td>74</td>\n",
       "      <td>MB-CL</td>\n",
       "    </tr>\n",
       "    <tr>\n",
       "      <th>75</th>\n",
       "      <td>75</td>\n",
       "      <td>MB-CL</td>\n",
       "    </tr>\n",
       "  </tbody>\n",
       "</table>\n",
       "<p>76 rows × 2 columns</p>\n",
       "</div>"
      ],
      "text/plain": [
       "    index  class\n",
       "0       0  MB-CL\n",
       "1       1  MB-CL\n",
       "2       2  MB-CL\n",
       "3       3  MB-CL\n",
       "4       4  Other\n",
       "..    ...    ...\n",
       "71     71  Other\n",
       "72     72  MB-CL\n",
       "73     73  Other\n",
       "74     74  MB-CL\n",
       "75     75  MB-CL\n",
       "\n",
       "[76 rows x 2 columns]"
      ]
     },
     "execution_count": 18,
     "metadata": {},
     "output_type": "execute_result"
    }
   ],
   "source": [
    "y = y.reset_index()\n",
    "y"
   ]
  },
  {
   "cell_type": "code",
   "execution_count": 19,
   "metadata": {},
   "outputs": [],
   "source": [
    "y.drop('index',axis=1,inplace=True)"
   ]
  },
  {
   "cell_type": "code",
   "execution_count": 20,
   "metadata": {},
   "outputs": [
    {
     "data": {
      "text/html": [
       "<div>\n",
       "<style scoped>\n",
       "    .dataframe tbody tr th:only-of-type {\n",
       "        vertical-align: middle;\n",
       "    }\n",
       "\n",
       "    .dataframe tbody tr th {\n",
       "        vertical-align: top;\n",
       "    }\n",
       "\n",
       "    .dataframe thead th {\n",
       "        text-align: right;\n",
       "    }\n",
       "</style>\n",
       "<table border=\"1\" class=\"dataframe\">\n",
       "  <thead>\n",
       "    <tr style=\"text-align: right;\">\n",
       "      <th></th>\n",
       "      <th>class</th>\n",
       "    </tr>\n",
       "  </thead>\n",
       "  <tbody>\n",
       "    <tr>\n",
       "      <th>0</th>\n",
       "      <td>MB-CL</td>\n",
       "    </tr>\n",
       "    <tr>\n",
       "      <th>1</th>\n",
       "      <td>MB-CL</td>\n",
       "    </tr>\n",
       "    <tr>\n",
       "      <th>2</th>\n",
       "      <td>MB-CL</td>\n",
       "    </tr>\n",
       "    <tr>\n",
       "      <th>3</th>\n",
       "      <td>MB-CL</td>\n",
       "    </tr>\n",
       "    <tr>\n",
       "      <th>4</th>\n",
       "      <td>Other</td>\n",
       "    </tr>\n",
       "    <tr>\n",
       "      <th>...</th>\n",
       "      <td>...</td>\n",
       "    </tr>\n",
       "    <tr>\n",
       "      <th>71</th>\n",
       "      <td>Other</td>\n",
       "    </tr>\n",
       "    <tr>\n",
       "      <th>72</th>\n",
       "      <td>MB-CL</td>\n",
       "    </tr>\n",
       "    <tr>\n",
       "      <th>73</th>\n",
       "      <td>Other</td>\n",
       "    </tr>\n",
       "    <tr>\n",
       "      <th>74</th>\n",
       "      <td>MB-CL</td>\n",
       "    </tr>\n",
       "    <tr>\n",
       "      <th>75</th>\n",
       "      <td>MB-CL</td>\n",
       "    </tr>\n",
       "  </tbody>\n",
       "</table>\n",
       "<p>76 rows × 1 columns</p>\n",
       "</div>"
      ],
      "text/plain": [
       "    class\n",
       "0   MB-CL\n",
       "1   MB-CL\n",
       "2   MB-CL\n",
       "3   MB-CL\n",
       "4   Other\n",
       "..    ...\n",
       "71  Other\n",
       "72  MB-CL\n",
       "73  Other\n",
       "74  MB-CL\n",
       "75  MB-CL\n",
       "\n",
       "[76 rows x 1 columns]"
      ]
     },
     "execution_count": 20,
     "metadata": {},
     "output_type": "execute_result"
    }
   ],
   "source": [
    "y"
   ]
  },
  {
   "cell_type": "markdown",
   "metadata": {},
   "source": [
    "## 2. Dimensionality Reduction"
   ]
  },
  {
   "cell_type": "markdown",
   "metadata": {},
   "source": [
    "As you already noticed the number of features (genes) is extremely high when compared to the number of objects to cluster (samples). In this context, you should perform dimensionality reduction, that is, reduce the number of features, in two ways:\n",
    "\n",
    "* [**Removing features with low variance**](http://scikit-learn.org/stable/modules/feature_selection.html)\n",
    "\n",
    "* [**Using Principal Component Analysis**](http://scikit-learn.org/stable/modules/generated/sklearn.decomposition.PCA.html)\n",
    "\n",
    "At the end of this step you should have two new matrices with the same number of rows, each with a different number of columns (features): **X_variance** and **X_PCA**. \n",
    "\n",
    "**Don't change X you will need it!**"
   ]
  },
  {
   "cell_type": "markdown",
   "metadata": {},
   "source": [
    "## 2.1 Removing features with low variance"
   ]
  },
  {
   "cell_type": "markdown",
   "metadata": {},
   "source": [
    "- A low variance feature means a feature that lacks information. In our X dataframe we have different variables which take different values and, as such, they have different variances. So we will scaling the features to compare their information on the same scale."
   ]
  },
  {
   "cell_type": "markdown",
   "metadata": {},
   "source": [
    "- All columns with variance lower than a given threshold are removed. A word of caution: variance is range dependent; therefore normalization is required before applying this technique."
   ]
  },
  {
   "cell_type": "markdown",
   "metadata": {},
   "source": [
    "- Usually, VarianceThreshold is used to remove features with variance equal to zero, that is constants that provide no information whatsoever."
   ]
  },
  {
   "cell_type": "markdown",
   "metadata": {},
   "source": [
    "- In order to remove features with low variance, we need first to define what is the reasonable threshold for that specific feature."
   ]
  },
  {
   "cell_type": "markdown",
   "metadata": {},
   "source": [
    "    - StandardScaler: all your features will be cenetered and normed, so their mean will be zero, and variance 1 (except for the constants, of course)\n",
    "    - MinMaxScaler by default will bring your features into a range [0;1] (the basic idea of minmaxscaler is to normalize your data that means you will have less variance in it.)"
   ]
  },
  {
   "cell_type": "code",
   "execution_count": 21,
   "metadata": {},
   "outputs": [],
   "source": [
    "from sklearn.model_selection import train_test_split\n",
    "from sklearn.preprocessing import StandardScaler\n",
    "from sklearn import preprocessing\n",
    "from sklearn.feature_selection import VarianceThreshold\n",
    "from sklearn.decomposition import PCA"
   ]
  },
  {
   "cell_type": "code",
   "execution_count": 22,
   "metadata": {},
   "outputs": [],
   "source": [
    "threshold_n=[0.95,0.9,0.85,0.8,0.75,0.7,0.65,0.6,0.55,0.5,0.45,0.4,0.35,0.3,0.25,0.2,0.15,0.1,0.05,0.0]"
   ]
  },
  {
   "cell_type": "code",
   "execution_count": 23,
   "metadata": {},
   "outputs": [],
   "source": [
    "low_var_pd = []\n",
    "for i in threshold_n:\n",
    "    constant_filter = VarianceThreshold(threshold=i)\n",
    "    constant_filter.fit(X)\n",
    "    low_var_pd.append((i, \n",
    "                      len(X.columns[constant_filter.get_support()]), \n",
    "                       len(X.columns)-len(X.columns[constant_filter.get_support()])))"
   ]
  },
  {
   "cell_type": "code",
   "execution_count": 24,
   "metadata": {},
   "outputs": [
    {
     "data": {
      "text/html": [
       "<div>\n",
       "<style scoped>\n",
       "    .dataframe tbody tr th:only-of-type {\n",
       "        vertical-align: middle;\n",
       "    }\n",
       "\n",
       "    .dataframe tbody tr th {\n",
       "        vertical-align: top;\n",
       "    }\n",
       "\n",
       "    .dataframe thead th {\n",
       "        text-align: right;\n",
       "    }\n",
       "</style>\n",
       "<table border=\"1\" class=\"dataframe\">\n",
       "  <thead>\n",
       "    <tr style=\"text-align: right;\">\n",
       "      <th></th>\n",
       "      <th>Threshold</th>\n",
       "      <th>Columns Remaining</th>\n",
       "      <th>Columns Removed</th>\n",
       "    </tr>\n",
       "  </thead>\n",
       "  <tbody>\n",
       "    <tr>\n",
       "      <th>0</th>\n",
       "      <td>0.95</td>\n",
       "      <td>2256</td>\n",
       "      <td>52419</td>\n",
       "    </tr>\n",
       "    <tr>\n",
       "      <th>1</th>\n",
       "      <td>0.90</td>\n",
       "      <td>2527</td>\n",
       "      <td>52148</td>\n",
       "    </tr>\n",
       "    <tr>\n",
       "      <th>2</th>\n",
       "      <td>0.85</td>\n",
       "      <td>2861</td>\n",
       "      <td>51814</td>\n",
       "    </tr>\n",
       "    <tr>\n",
       "      <th>3</th>\n",
       "      <td>0.80</td>\n",
       "      <td>3257</td>\n",
       "      <td>51418</td>\n",
       "    </tr>\n",
       "    <tr>\n",
       "      <th>4</th>\n",
       "      <td>0.75</td>\n",
       "      <td>3658</td>\n",
       "      <td>51017</td>\n",
       "    </tr>\n",
       "    <tr>\n",
       "      <th>5</th>\n",
       "      <td>0.70</td>\n",
       "      <td>4201</td>\n",
       "      <td>50474</td>\n",
       "    </tr>\n",
       "    <tr>\n",
       "      <th>6</th>\n",
       "      <td>0.65</td>\n",
       "      <td>4800</td>\n",
       "      <td>49875</td>\n",
       "    </tr>\n",
       "    <tr>\n",
       "      <th>7</th>\n",
       "      <td>0.60</td>\n",
       "      <td>5530</td>\n",
       "      <td>49145</td>\n",
       "    </tr>\n",
       "    <tr>\n",
       "      <th>8</th>\n",
       "      <td>0.55</td>\n",
       "      <td>6436</td>\n",
       "      <td>48239</td>\n",
       "    </tr>\n",
       "    <tr>\n",
       "      <th>9</th>\n",
       "      <td>0.50</td>\n",
       "      <td>7533</td>\n",
       "      <td>47142</td>\n",
       "    </tr>\n",
       "    <tr>\n",
       "      <th>10</th>\n",
       "      <td>0.45</td>\n",
       "      <td>9036</td>\n",
       "      <td>45639</td>\n",
       "    </tr>\n",
       "    <tr>\n",
       "      <th>11</th>\n",
       "      <td>0.40</td>\n",
       "      <td>11036</td>\n",
       "      <td>43639</td>\n",
       "    </tr>\n",
       "    <tr>\n",
       "      <th>12</th>\n",
       "      <td>0.35</td>\n",
       "      <td>13754</td>\n",
       "      <td>40921</td>\n",
       "    </tr>\n",
       "    <tr>\n",
       "      <th>13</th>\n",
       "      <td>0.30</td>\n",
       "      <td>18063</td>\n",
       "      <td>36612</td>\n",
       "    </tr>\n",
       "    <tr>\n",
       "      <th>14</th>\n",
       "      <td>0.25</td>\n",
       "      <td>25123</td>\n",
       "      <td>29552</td>\n",
       "    </tr>\n",
       "    <tr>\n",
       "      <th>15</th>\n",
       "      <td>0.20</td>\n",
       "      <td>34456</td>\n",
       "      <td>20219</td>\n",
       "    </tr>\n",
       "    <tr>\n",
       "      <th>16</th>\n",
       "      <td>0.15</td>\n",
       "      <td>43175</td>\n",
       "      <td>11500</td>\n",
       "    </tr>\n",
       "    <tr>\n",
       "      <th>17</th>\n",
       "      <td>0.10</td>\n",
       "      <td>50362</td>\n",
       "      <td>4313</td>\n",
       "    </tr>\n",
       "    <tr>\n",
       "      <th>18</th>\n",
       "      <td>0.05</td>\n",
       "      <td>54230</td>\n",
       "      <td>445</td>\n",
       "    </tr>\n",
       "    <tr>\n",
       "      <th>19</th>\n",
       "      <td>0.00</td>\n",
       "      <td>54675</td>\n",
       "      <td>0</td>\n",
       "    </tr>\n",
       "  </tbody>\n",
       "</table>\n",
       "</div>"
      ],
      "text/plain": [
       "    Threshold  Columns Remaining  Columns Removed\n",
       "0        0.95               2256            52419\n",
       "1        0.90               2527            52148\n",
       "2        0.85               2861            51814\n",
       "3        0.80               3257            51418\n",
       "4        0.75               3658            51017\n",
       "5        0.70               4201            50474\n",
       "6        0.65               4800            49875\n",
       "7        0.60               5530            49145\n",
       "8        0.55               6436            48239\n",
       "9        0.50               7533            47142\n",
       "10       0.45               9036            45639\n",
       "11       0.40              11036            43639\n",
       "12       0.35              13754            40921\n",
       "13       0.30              18063            36612\n",
       "14       0.25              25123            29552\n",
       "15       0.20              34456            20219\n",
       "16       0.15              43175            11500\n",
       "17       0.10              50362             4313\n",
       "18       0.05              54230              445\n",
       "19       0.00              54675                0"
      ]
     },
     "execution_count": 24,
     "metadata": {},
     "output_type": "execute_result"
    }
   ],
   "source": [
    "low_var_pd = pd.DataFrame(low_var_pd, columns=('Threshold', 'Columns Remaining', 'Columns Removed'))\n",
    "low_var_pd"
   ]
  },
  {
   "cell_type": "markdown",
   "metadata": {},
   "source": [
    "We decided to go with a variance of 0.8 because--"
   ]
  },
  {
   "cell_type": "code",
   "execution_count": 25,
   "metadata": {},
   "outputs": [],
   "source": [
    "selector = VarianceThreshold(0.8)\n",
    "selector= selector.fit(X)"
   ]
  },
  {
   "cell_type": "code",
   "execution_count": 26,
   "metadata": {},
   "outputs": [],
   "source": [
    "X_low_variance = X.loc[:, selector.get_support()]"
   ]
  },
  {
   "cell_type": "code",
   "execution_count": 27,
   "metadata": {},
   "outputs": [
    {
     "data": {
      "text/plain": [
       "<AxesSubplot:xlabel='Threshold'>"
      ]
     },
     "execution_count": 27,
     "metadata": {},
     "output_type": "execute_result"
    },
    {
     "data": {
      "image/png": "[encoded data removed]",
      "text/plain": [
       "<Figure size 432x288 with 1 Axes>"
      ]
     },
     "metadata": {
      "needs_background": "light"
     },
     "output_type": "display_data"
    },
    {
     "data": {
      "image/png": "[encoded data removed]",
      "text/plain": [
       "<Figure size 432x288 with 1 Axes>"
      ]
     },
     "metadata": {
      "needs_background": "light"
     },
     "output_type": "display_data"
    }
   ],
   "source": [
    "low_var_pd.plot.line(x='Threshold', y='Columns Removed', c='r')\n",
    "low_var_pd.plot.line(x='Threshold', y='Columns Remaining', c='g')"
   ]
  },
  {
   "cell_type": "markdown",
   "metadata": {},
   "source": [
    "conclusion dos gráficos?"
   ]
  },
  {
   "cell_type": "markdown",
   "metadata": {},
   "source": [
    "## 2.2 Using Principal Component Analysis"
   ]
  },
  {
   "cell_type": "code",
   "execution_count": 28,
   "metadata": {},
   "outputs": [
    {
     "data": {
      "image/png": "[encoded data removed]",
      "text/plain": [
       "<Figure size 432x288 with 1 Axes>"
      ]
     },
     "metadata": {
      "needs_background": "light"
     },
     "output_type": "display_data"
    }
   ],
   "source": [
    "pca = PCA().fit(X) \n",
    "plt.plot(np.cumsum(pca.explained_variance_ratio_))\n",
    "plt.xlabel('number of components')\n",
    "plt.ylabel('cumulative explained variance');"
   ]
  },
  {
   "cell_type": "markdown",
   "metadata": {},
   "source": [
    "As we can see the first 10 components contain approximately 50% of the variance\n",
    "\n",
    "We'd need about 50 components to retain 90% of the variance (we would recover most of the essential characteristics of X_train)"
   ]
  },
  {
   "cell_type": "code",
   "execution_count": 29,
   "metadata": {},
   "outputs": [],
   "source": [
    "pca = PCA(0.95)\n",
    "X_pca = pca.fit_transform(X)"
   ]
  },
  {
   "cell_type": "code",
   "execution_count": 30,
   "metadata": {},
   "outputs": [],
   "source": [
    "explained_variance = pca.explained_variance_ratio_"
   ]
  },
  {
   "cell_type": "code",
   "execution_count": 31,
   "metadata": {},
   "outputs": [
    {
     "name": "stdout",
     "output_type": "stream",
     "text": [
      "Explained Variance: 66\n"
     ]
    }
   ],
   "source": [
    "print(\"Explained Variance: %s\" % len(pca.explained_variance_ratio_))"
   ]
  },
  {
   "cell_type": "markdown",
   "metadata": {},
   "source": [
    "At the end of this step you should have two new matrices with the same number of rows, each with a different number of columns (features): X_variance and X_PCA."
   ]
  },
  {
   "cell_type": "code",
   "execution_count": 32,
   "metadata": {},
   "outputs": [],
   "source": [
    "X_variance = X_low_variance\n",
    "X_PCA = X_pca"
   ]
  },
  {
   "cell_type": "code",
   "execution_count": 33,
   "metadata": {},
   "outputs": [
    {
     "data": {
      "text/plain": [
       "(76, 3257)"
      ]
     },
     "execution_count": 33,
     "metadata": {},
     "output_type": "execute_result"
    }
   ],
   "source": [
    "X_variance.shape"
   ]
  },
  {
   "cell_type": "code",
   "execution_count": 34,
   "metadata": {},
   "outputs": [
    {
     "data": {
      "text/plain": [
       "(76, 66)"
      ]
     },
     "execution_count": 34,
     "metadata": {},
     "output_type": "execute_result"
    }
   ],
   "source": [
    "X_PCA.shape"
   ]
  },
  {
   "cell_type": "markdown",
   "metadata": {},
   "source": [
    "With Removing features with low variance it reduced the number of features to 3257\n",
    "\n",
    "And with PCA to 66 features"
   ]
  },
  {
   "cell_type": "markdown",
   "metadata": {},
   "source": [
    "## 3. Clustering Samples using Partitional Clustering"
   ]
  },
  {
   "cell_type": "markdown",
   "metadata": {},
   "source": [
    "Use **`K`-means** to cluster the samples:\n",
    "\n",
    "* Cluster the original data (54.675 features): **X**.\n",
    "    * Use different values of `K`.\n",
    "    * For each value of `K` present the clustering by specifying how many samples MB-CL and Other are in each cluster.     \n",
    "    For instance, `{0: {'MB-CL': 51, 'Other': 0}, 1: {'MB-CL': 0, 'Other': 25}}` is the ideal clustering that we aimed at obtained with K-means when `K=2`, where the first cluster has 51 MB-CL samples and 0 Other samples and the second cluster has 0 MB-CL samples and 25 Other samples.\n",
    "    You can choose how to output this information.  **Tip**: You can explore the usage of contigency matrices.\n",
    "    * What is the best value of `K` ? Justify using the clustering results and the [Silhouette score](http://scikit-learn.org/stable/modules/generated/sklearn.metrics.silhouette_score.html).\n",
    "\n",
    "* Cluster the data obtained after removing features with low variance: **X_variance**.\n",
    "    * Study different values of `K` as above.\n",
    "\n",
    "* Cluster the data obtained after applying PCA: **X_PCA**.\n",
    "    * Study different values of `K` as above.\n",
    "\n",
    "* Compare the results obtained in the three datasets above for the best `K`. \n",
    "* Discuss the results."
   ]
  },
  {
   "cell_type": "code",
   "execution_count": 35,
   "metadata": {},
   "outputs": [],
   "source": [
    "from collections import Counter\n",
    "from sklearn.cluster import KMeans\n",
    "from sklearn.metrics import silhouette_score"
   ]
  },
  {
   "cell_type": "markdown",
   "metadata": {},
   "source": [
    "This function does: ------"
   ]
  },
  {
   "cell_type": "code",
   "execution_count": 36,
   "metadata": {},
   "outputs": [],
   "source": [
    "def get_samples_per_cluster_kmeans(k, X):\n",
    "    labels = np.array(y['class'])\n",
    "    for k in range(2, k):\n",
    "        kmeans = KMeans(n_clusters=k, random_state=0).fit(X)\n",
    "        pred_classes = kmeans.labels_\n",
    "        print('For K =', k)\n",
    "        for i in np.array(np.unique(pred_classes)):\n",
    "            print('Cluster ', i, dict(Counter(labels[np.where(pred_classes == i)]))) "
   ]
  },
  {
   "cell_type": "code",
   "execution_count": 37,
   "metadata": {},
   "outputs": [],
   "source": [
    "def get_ss_kmeans(k,X):\n",
    "    slc = {}\n",
    "    for k in range(2, k):\n",
    "        kmeans = KMeans(n_clusters=k, random_state=0).fit(X)\n",
    "        pred_classes = kmeans.labels_\n",
    "        slc[k] = silhouette_score(X,pred_classes)\n",
    "        print(\"For K =\", k, \"The avg SS is :\", np.round(silhouette_score(X, pred_classes),2))\n",
    "    plt.figure()\n",
    "    plt.plot(list(slc.keys()), list(slc.values()))\n",
    "    plt.xlabel(\"Number of clusters K\")\n",
    "    plt.ylabel(\"Silhouette scores\")\n",
    "    plt.show()  "
   ]
  },
  {
   "cell_type": "code",
   "execution_count": 38,
   "metadata": {},
   "outputs": [],
   "source": [
    "def comparing_ss_kmeans(k,X1, X2, X3):\n",
    "    slc1, slc2, slc3 = {}, {}, {}\n",
    "    for k in range(2, k):\n",
    "        kmeans1 = KMeans(n_clusters=k, random_state=0).fit(X1)\n",
    "        pred_classes1 = kmeans1.labels_\n",
    "        slc1[k] = silhouette_score(X1,pred_classes1)\n",
    "        \n",
    "        kmeans2 = KMeans(n_clusters=k, random_state=0).fit(X2)\n",
    "        pred_classes2 = kmeans2.labels_\n",
    "        slc2[k] = silhouette_score(X2,pred_classes2)\n",
    "        \n",
    "        kmeans3 = KMeans(n_clusters=k, random_state=0).fit(X3)\n",
    "        pred_classes3 = kmeans3.labels_\n",
    "        slc3[k] = silhouette_score(X3,pred_classes3)\n",
    "        \n",
    "    plt.figure()\n",
    "    plt.plot(list(slc1.keys()), list(slc1.values()), label='X')\n",
    "    plt.legend(loc=\"upper right\")\n",
    "    plt.plot(list(slc2.keys()), list(slc2.values()), label='X_variance')\n",
    "    plt.legend(loc=\"upper right\")\n",
    "    plt.plot(list(slc3.keys()), list(slc3.values()), label='X_PCA')\n",
    "    plt.legend(loc=\"upper right\")\n",
    "    plt.xlabel(\"Number of Clusters K\")\n",
    "    plt.ylabel(\"Silhouette Scores\")\n",
    "    plt.title('Comparing SS')\n",
    "    plt.show()  "
   ]
  },
  {
   "cell_type": "markdown",
   "metadata": {},
   "source": [
    "## 3.1 For the original data X"
   ]
  },
  {
   "cell_type": "markdown",
   "metadata": {},
   "source": [
    "* Cluster the original data (54.675 features): **X**.\n",
    "    * Use different values of `K`.\n",
    "    * For each value of `K` present the clustering by specifying how many samples MB-CL and Other are in each cluster.     \n",
    "    For instance, `{0: {'MB-CL': 51, 'Other': 0}, 1: {'MB-CL': 0, 'Other': 25}}` is the ideal clustering that we aimed at obtained with K-means when `K=2`, where the first cluster has 51 MB-CL samples and 0 Other samples and the second cluster has 0 MB-CL samples and 25 Other samples.\n",
    "    You can choose how to output this information.  **Tip**: You can explore the usage of contigency matrices.\n",
    "    * What is the best value of `K` ? Justify using the clustering results and the [Silhouette score](http://scikit-learn.org/stable/modules/generated/sklearn.metrics.silhouette_score.html).\n",
    "\n"
   ]
  },
  {
   "cell_type": "code",
   "execution_count": 39,
   "metadata": {},
   "outputs": [
    {
     "name": "stdout",
     "output_type": "stream",
     "text": [
      "For K = 2\n",
      "Cluster  0 {'MB-CL': 40, 'Other': 15}\n",
      "Cluster  1 {'MB-CL': 11, 'Other': 10}\n",
      "For K = 3\n",
      "Cluster  0 {'MB-CL': 11, 'Other': 9}\n",
      "Cluster  1 {'MB-CL': 28, 'Other': 5}\n",
      "Cluster  2 {'Other': 11, 'MB-CL': 12}\n",
      "For K = 4\n",
      "Cluster  0 {'MB-CL': 24, 'Other': 4}\n",
      "Cluster  1 {'Other': 12, 'MB-CL': 16}\n",
      "Cluster  2 {'Other': 7, 'MB-CL': 3}\n",
      "Cluster  3 {'MB-CL': 8, 'Other': 2}\n",
      "For K = 5\n",
      "Cluster  0 {'Other': 8, 'MB-CL': 3}\n",
      "Cluster  1 {'MB-CL': 23, 'Other': 6}\n",
      "Cluster  2 {'MB-CL': 11, 'Other': 2}\n",
      "Cluster  3 {'MB-CL': 8, 'Other': 1}\n",
      "Cluster  4 {'Other': 8, 'MB-CL': 6}\n"
     ]
    }
   ],
   "source": [
    "get_samples_per_cluster_kmeans(6, X) "
   ]
  },
  {
   "cell_type": "code",
   "execution_count": 40,
   "metadata": {},
   "outputs": [
    {
     "name": "stdout",
     "output_type": "stream",
     "text": [
      "For K = 2 The avg SS is : 0.1\n",
      "For K = 3 The avg SS is : 0.07\n",
      "For K = 4 The avg SS is : 0.09\n",
      "For K = 5 The avg SS is : 0.08\n"
     ]
    },
    {
     "data": {
      "image/png": "[encoded data removed]",
      "text/plain": [
       "<Figure size 432x288 with 1 Axes>"
      ]
     },
     "metadata": {
      "needs_background": "light"
     },
     "output_type": "display_data"
    }
   ],
   "source": [
    "get_ss_kmeans(6,X)"
   ]
  },
  {
   "cell_type": "markdown",
   "metadata": {},
   "source": [
    "## 3.2 X_variance"
   ]
  },
  {
   "cell_type": "code",
   "execution_count": 41,
   "metadata": {},
   "outputs": [
    {
     "name": "stdout",
     "output_type": "stream",
     "text": [
      "For K = 2\n",
      "Cluster  0 {'MB-CL': 40, 'Other': 15}\n",
      "Cluster  1 {'MB-CL': 11, 'Other': 10}\n",
      "For K = 3\n",
      "Cluster  0 {'Other': 8, 'MB-CL': 8}\n",
      "Cluster  1 {'MB-CL': 32, 'Other': 7}\n",
      "Cluster  2 {'MB-CL': 11, 'Other': 10}\n",
      "For K = 4\n",
      "Cluster  0 {'Other': 13, 'MB-CL': 18}\n",
      "Cluster  1 {'MB-CL': 8}\n",
      "Cluster  2 {'Other': 8, 'MB-CL': 3}\n",
      "Cluster  3 {'MB-CL': 22, 'Other': 4}\n",
      "For K = 5\n",
      "Cluster  0 {'Other': 8, 'MB-CL': 3}\n",
      "Cluster  1 {'Other': 6, 'MB-CL': 13}\n",
      "Cluster  2 {'MB-CL': 22, 'Other': 4}\n",
      "Cluster  3 {'MB-CL': 5, 'Other': 7}\n",
      "Cluster  4 {'MB-CL': 8}\n"
     ]
    }
   ],
   "source": [
    "get_samples_per_cluster_kmeans(6, X_variance)"
   ]
  },
  {
   "cell_type": "code",
   "execution_count": 42,
   "metadata": {},
   "outputs": [
    {
     "name": "stdout",
     "output_type": "stream",
     "text": [
      "For K = 2 The avg SS is : 0.2\n",
      "For K = 3 The avg SS is : 0.16\n",
      "For K = 4 The avg SS is : 0.18\n",
      "For K = 5 The avg SS is : 0.15\n"
     ]
    },
    {
     "data": {
      "image/png": "[encoded data removed]",
      "text/plain": [
       "<Figure size 432x288 with 1 Axes>"
      ]
     },
     "metadata": {
      "needs_background": "light"
     },
     "output_type": "display_data"
    }
   ],
   "source": [
    "get_ss_kmeans(6,X_variance)"
   ]
  },
  {
   "cell_type": "markdown",
   "metadata": {},
   "source": [
    "## 3.3 X_PCA"
   ]
  },
  {
   "cell_type": "code",
   "execution_count": 43,
   "metadata": {},
   "outputs": [
    {
     "name": "stdout",
     "output_type": "stream",
     "text": [
      "For K = 2\n",
      "Cluster  0 {'MB-CL': 40, 'Other': 15}\n",
      "Cluster  1 {'MB-CL': 11, 'Other': 10}\n",
      "For K = 3\n",
      "Cluster  0 {'MB-CL': 12, 'Other': 10}\n",
      "Cluster  1 {'MB-CL': 29, 'Other': 5}\n",
      "Cluster  2 {'Other': 10, 'MB-CL': 10}\n",
      "For K = 4\n",
      "Cluster  0 {'MB-CL': 24, 'Other': 4}\n",
      "Cluster  1 {'Other': 12, 'MB-CL': 16}\n",
      "Cluster  2 {'Other': 8, 'MB-CL': 3}\n",
      "Cluster  3 {'MB-CL': 8, 'Other': 1}\n",
      "For K = 5\n",
      "Cluster  0 {'MB-CL': 22, 'Other': 5}\n",
      "Cluster  1 {'MB-CL': 8, 'Other': 3}\n",
      "Cluster  2 {'Other': 7, 'MB-CL': 3}\n",
      "Cluster  3 {'Other': 8, 'MB-CL': 6}\n",
      "Cluster  4 {'MB-CL': 12, 'Other': 2}\n"
     ]
    }
   ],
   "source": [
    "get_samples_per_cluster_kmeans(6, X_PCA)"
   ]
  },
  {
   "cell_type": "code",
   "execution_count": 44,
   "metadata": {},
   "outputs": [
    {
     "name": "stdout",
     "output_type": "stream",
     "text": [
      "For K = 2 The avg SS is : 0.11\n",
      "For K = 3 The avg SS is : 0.08\n",
      "For K = 4 The avg SS is : 0.09\n",
      "For K = 5 The avg SS is : 0.09\n"
     ]
    },
    {
     "data": {
      "image/png": "[encoded data removed]",
      "text/plain": [
       "<Figure size 432x288 with 1 Axes>"
      ]
     },
     "metadata": {
      "needs_background": "light"
     },
     "output_type": "display_data"
    }
   ],
   "source": [
    "get_ss_kmeans(6,X_PCA)"
   ]
  },
  {
   "cell_type": "markdown",
   "metadata": {},
   "source": [
    "## 3.4 Comparing all"
   ]
  },
  {
   "cell_type": "code",
   "execution_count": 45,
   "metadata": {},
   "outputs": [
    {
     "data": {
      "image/png": "[encoded data removed]",
      "text/plain": [
       "<Figure size 432x288 with 1 Axes>"
      ]
     },
     "metadata": {
      "needs_background": "light"
     },
     "output_type": "display_data"
    }
   ],
   "source": [
    "comparing_ss_kmeans(6,X, X_variance, X_PCA)"
   ]
  },
  {
   "cell_type": "markdown",
   "metadata": {},
   "source": [
    "\n",
    "- Partitional clustering divides data objects into nonoverlapping groups. As such, object can be a member of more than one cluster, and every cluster must have at least one object.\n",
    "\n",
    "- Silhouette score is used to evaluate the quality of clusters (how well samples are clustered with other samples that are similar to each other.)\n",
    "\n",
    "\n",
    "- For all three datasets, we observed that the best K (the one that yieled the highest Silhouette Score) was 2, meaning that there are two clusters - which could indicate that when we proceed with feature selection with the selected variance threshold in (2), 2 can be the number of optimal clusters).\n",
    "\n",
    "- Keeping in mind that the best value for the SS is 1 and that values near 0 indicate overlapping clusters, we observed that when K=2, the average SS was the highest for the X_variance dataset (0.2), followed by X_PCA (0.12) and lastly the original X (0.1)"
   ]
  },
  {
   "cell_type": "markdown",
   "metadata": {},
   "source": [
    "## 4. Clustering Samples using Hierarchical Clustering"
   ]
  },
  {
   "cell_type": "markdown",
   "metadata": {},
   "source": [
    "Use a **Hierarchical Clustering Algorithm (HCA)** to cluster the samples: \n",
    "\n",
    "* Cluster the data in **X_variance**.\n",
    "    * Use **different linkage metrics**.\n",
    "    * Use different values of `K`.\n",
    "    * For each linkage metric and value of `K` present the clustering by specifying how many MB-CL and Other samples are in each cluster as you did before. \n",
    "    * What is the best linkage metric and the best value of `K`? Justify using the clustering results and the [Silhouette score](http://scikit-learn.org/stable/modules/generated/sklearn.metrics.silhouette_score.html).\n",
    "\n",
    "* Cluster the data in **X_PCA**.\n",
    "    * Study different linkage metrics and different values of `K` as above.\n",
    "\n",
    "* Compare the results obtained in the two datasets above for the best linkage metric and the best `K`. \n",
    "* Discuss the results"
   ]
  },
  {
   "cell_type": "code",
   "execution_count": 46,
   "metadata": {},
   "outputs": [],
   "source": [
    "from sklearn.cluster import AgglomerativeClustering"
   ]
  },
  {
   "cell_type": "markdown",
   "metadata": {},
   "source": [
    "descrever o q a função faz"
   ]
  },
  {
   "cell_type": "code",
   "execution_count": 47,
   "metadata": {},
   "outputs": [],
   "source": [
    "def get_samples_per_cluster_hca(k, X):\n",
    "    labels = np.array(y['class'])\n",
    "    linkage = ['ward', 'complete', 'average', 'single']\n",
    "    for k in range(2, k):\n",
    "        print('For K =', k)\n",
    "        for l in linkage:\n",
    "            print('Linkage method =',l)\n",
    "            clustering = AgglomerativeClustering(linkage=l,n_clusters=k).fit(X)\n",
    "            pred_classes = clustering.labels_\n",
    "            for i in np.array(np.unique(pred_classes)):\n",
    "                print('Cluster ', i, dict(Counter(labels[np.where(pred_classes == i)])))"
   ]
  },
  {
   "cell_type": "code",
   "execution_count": 48,
   "metadata": {},
   "outputs": [],
   "source": [
    "def comparing_ss_hca_methods(k,X):\n",
    "    slc1, slc2, slc3, slc4 = {}, {}, {}, {}\n",
    "    for k in range(2, k):\n",
    "        hca1 = AgglomerativeClustering(n_clusters=k, linkage='ward').fit(X)\n",
    "        pred_classes1 = hca1.labels_\n",
    "        slc1[k] = silhouette_score(X,pred_classes1)\n",
    "\n",
    "        hca2 = AgglomerativeClustering(n_clusters=k, linkage='complete').fit(X)\n",
    "        pred_classes2 = hca2.labels_\n",
    "        slc2[k] = silhouette_score(X,pred_classes2)\n",
    "\n",
    "        hca3 = AgglomerativeClustering(n_clusters=k, linkage='average').fit(X)\n",
    "        pred_classes3 = hca3.labels_\n",
    "        slc3[k] = silhouette_score(X,pred_classes3)\n",
    "             \n",
    "    plt.figure()\n",
    "    plt.plot(list(slc1.keys()), list(slc1.values()), label='Ward method')\n",
    "    plt.legend(loc=\"upper right\")\n",
    "    plt.plot(list(slc2.keys()), list(slc2.values()), label='Complete method')\n",
    "    plt.legend(loc=\"upper right\")\n",
    "    plt.plot(list(slc3.keys()), list(slc3.values()), label='Average method')\n",
    "    plt.legend(loc=\"upper right\")\n",
    "\n",
    "    plt.xlabel(\"Number of Clusters K\")\n",
    "    plt.ylabel(\"Silhouette Scores\")\n",
    "    plt.title('Comparing SS')\n",
    "    plt.show()  "
   ]
  },
  {
   "cell_type": "code",
   "execution_count": 49,
   "metadata": {},
   "outputs": [
    {
     "name": "stdout",
     "output_type": "stream",
     "text": [
      "For K = 2\n",
      "Linkage method = ward\n",
      "Cluster  0 {'MB-CL': 40, 'Other': 18}\n",
      "Cluster  1 {'MB-CL': 11, 'Other': 7}\n",
      "Linkage method = complete\n",
      "Cluster  0 {'MB-CL': 51, 'Other': 24}\n",
      "Cluster  1 {'Other': 1}\n",
      "Linkage method = average\n",
      "Cluster  0 {'MB-CL': 51, 'Other': 24}\n",
      "Cluster  1 {'Other': 1}\n",
      "Linkage method = single\n",
      "Cluster  0 {'MB-CL': 51, 'Other': 24}\n",
      "Cluster  1 {'Other': 1}\n",
      "For K = 3\n",
      "Linkage method = ward\n",
      "Cluster  0 {'MB-CL': 11, 'Other': 7}\n",
      "Cluster  1 {'MB-CL': 31, 'Other': 7}\n",
      "Cluster  2 {'Other': 11, 'MB-CL': 9}\n",
      "Linkage method = complete\n",
      "Cluster  0 {'MB-CL': 40, 'Other': 17}\n",
      "Cluster  1 {'Other': 1}\n",
      "Cluster  2 {'MB-CL': 11, 'Other': 7}\n",
      "Linkage method = average\n",
      "Cluster  0 {'MB-CL': 43, 'Other': 22}\n",
      "Cluster  1 {'Other': 1}\n",
      "Cluster  2 {'MB-CL': 8, 'Other': 2}\n",
      "Linkage method = single\n",
      "Cluster  0 {'MB-CL': 43, 'Other': 24}\n",
      "Cluster  1 {'Other': 1}\n",
      "Cluster  2 {'MB-CL': 8}\n",
      "For K = 4\n",
      "Linkage method = ward\n",
      "Cluster  0 {'MB-CL': 31, 'Other': 7}\n",
      "Cluster  1 {'MB-CL': 8}\n",
      "Cluster  2 {'Other': 11, 'MB-CL': 9}\n",
      "Cluster  3 {'Other': 7, 'MB-CL': 3}\n",
      "Linkage method = complete\n",
      "Cluster  0 {'MB-CL': 11, 'Other': 7}\n",
      "Cluster  1 {'MB-CL': 31, 'Other': 7}\n",
      "Cluster  2 {'Other': 10, 'MB-CL': 9}\n",
      "Cluster  3 {'Other': 1}\n",
      "Linkage method = average\n",
      "Cluster  0 {'MB-CL': 8, 'Other': 2}\n",
      "Cluster  1 {'Other': 7, 'MB-CL': 3}\n",
      "Cluster  2 {'MB-CL': 40, 'Other': 15}\n",
      "Cluster  3 {'Other': 1}\n",
      "Linkage method = single\n",
      "Cluster  0 {'MB-CL': 40, 'Other': 17}\n",
      "Cluster  1 {'Other': 7, 'MB-CL': 3}\n",
      "Cluster  2 {'MB-CL': 8}\n",
      "Cluster  3 {'Other': 1}\n",
      "For K = 5\n",
      "Linkage method = ward\n",
      "Cluster  0 {'Other': 11, 'MB-CL': 9}\n",
      "Cluster  1 {'Other': 3, 'MB-CL': 8}\n",
      "Cluster  2 {'MB-CL': 23, 'Other': 4}\n",
      "Cluster  3 {'Other': 7, 'MB-CL': 3}\n",
      "Cluster  4 {'MB-CL': 8}\n",
      "Linkage method = complete\n",
      "Cluster  0 {'Other': 10, 'MB-CL': 9}\n",
      "Cluster  1 {'MB-CL': 31, 'Other': 7}\n",
      "Cluster  2 {'MB-CL': 8}\n",
      "Cluster  3 {'Other': 1}\n",
      "Cluster  4 {'Other': 7, 'MB-CL': 3}\n",
      "Linkage method = average\n",
      "Cluster  0 {'MB-CL': 40, 'Other': 15}\n",
      "Cluster  1 {'MB-CL': 8}\n",
      "Cluster  2 {'Other': 2}\n",
      "Cluster  3 {'Other': 1}\n",
      "Cluster  4 {'Other': 7, 'MB-CL': 3}\n",
      "Linkage method = single\n",
      "Cluster  0 {'MB-CL': 40, 'Other': 16}\n",
      "Cluster  1 {'Other': 7, 'MB-CL': 3}\n",
      "Cluster  2 {'MB-CL': 8}\n",
      "Cluster  3 {'Other': 1}\n",
      "Cluster  4 {'Other': 1}\n"
     ]
    }
   ],
   "source": [
    "get_samples_per_cluster_hca(6, X_variance)"
   ]
  },
  {
   "cell_type": "code",
   "execution_count": 50,
   "metadata": {},
   "outputs": [
    {
     "name": "stdout",
     "output_type": "stream",
     "text": [
      "For K = 2\n",
      "Linkage method = ward\n",
      "Cluster  0 {'MB-CL': 21, 'Other': 18}\n",
      "Cluster  1 {'MB-CL': 30, 'Other': 7}\n",
      "Linkage method = complete\n",
      "Cluster  0 {'MB-CL': 50, 'Other': 24}\n",
      "Cluster  1 {'MB-CL': 1, 'Other': 1}\n",
      "Linkage method = average\n",
      "Cluster  0 {'MB-CL': 51, 'Other': 24}\n",
      "Cluster  1 {'Other': 1}\n",
      "Linkage method = single\n",
      "Cluster  0 {'MB-CL': 51, 'Other': 24}\n",
      "Cluster  1 {'Other': 1}\n",
      "For K = 3\n",
      "Linkage method = ward\n",
      "Cluster  0 {'MB-CL': 13, 'Other': 9}\n",
      "Cluster  1 {'MB-CL': 30, 'Other': 7}\n",
      "Cluster  2 {'Other': 9, 'MB-CL': 8}\n",
      "Linkage method = complete\n",
      "Cluster  0 {'MB-CL': 1, 'Other': 1}\n",
      "Cluster  1 {'MB-CL': 37, 'Other': 22}\n",
      "Cluster  2 {'MB-CL': 13, 'Other': 2}\n",
      "Linkage method = average\n",
      "Cluster  0 {'MB-CL': 50, 'Other': 24}\n",
      "Cluster  1 {'Other': 1}\n",
      "Cluster  2 {'MB-CL': 1}\n",
      "Linkage method = single\n",
      "Cluster  0 {'MB-CL': 50, 'Other': 24}\n",
      "Cluster  1 {'Other': 1}\n",
      "Cluster  2 {'MB-CL': 1}\n",
      "For K = 4\n",
      "Linkage method = ward\n",
      "Cluster  0 {'MB-CL': 30, 'Other': 7}\n",
      "Cluster  1 {'MB-CL': 10, 'Other': 2}\n",
      "Cluster  2 {'Other': 9, 'MB-CL': 8}\n",
      "Cluster  3 {'Other': 7, 'MB-CL': 3}\n",
      "Linkage method = complete\n",
      "Cluster  0 {'MB-CL': 37, 'Other': 22}\n",
      "Cluster  1 {'Other': 1}\n",
      "Cluster  2 {'MB-CL': 13, 'Other': 2}\n",
      "Cluster  3 {'MB-CL': 1}\n",
      "Linkage method = average\n",
      "Cluster  0 {'MB-CL': 45, 'Other': 24}\n",
      "Cluster  1 {'MB-CL': 5}\n",
      "Cluster  2 {'MB-CL': 1}\n",
      "Cluster  3 {'Other': 1}\n",
      "Linkage method = single\n",
      "Cluster  0 {'MB-CL': 49, 'Other': 24}\n",
      "Cluster  1 {'MB-CL': 1}\n",
      "Cluster  2 {'MB-CL': 1}\n",
      "Cluster  3 {'Other': 1}\n",
      "For K = 5\n",
      "Linkage method = ward\n",
      "Cluster  0 {'MB-CL': 10, 'Other': 2}\n",
      "Cluster  1 {'MB-CL': 13, 'Other': 2}\n",
      "Cluster  2 {'Other': 9, 'MB-CL': 8}\n",
      "Cluster  3 {'Other': 7, 'MB-CL': 3}\n",
      "Cluster  4 {'MB-CL': 17, 'Other': 5}\n",
      "Linkage method = complete\n",
      "Cluster  0 {'MB-CL': 30, 'Other': 12}\n",
      "Cluster  1 {'Other': 10, 'MB-CL': 7}\n",
      "Cluster  2 {'MB-CL': 13, 'Other': 2}\n",
      "Cluster  3 {'MB-CL': 1}\n",
      "Cluster  4 {'Other': 1}\n",
      "Linkage method = average\n",
      "Cluster  0 {'MB-CL': 44, 'Other': 23}\n",
      "Cluster  1 {'MB-CL': 1, 'Other': 1}\n",
      "Cluster  2 {'MB-CL': 1}\n",
      "Cluster  3 {'Other': 1}\n",
      "Cluster  4 {'MB-CL': 5}\n",
      "Linkage method = single\n",
      "Cluster  0 {'MB-CL': 49, 'Other': 23}\n",
      "Cluster  1 {'MB-CL': 1}\n",
      "Cluster  2 {'MB-CL': 1}\n",
      "Cluster  3 {'Other': 1}\n",
      "Cluster  4 {'Other': 1}\n"
     ]
    }
   ],
   "source": [
    "get_samples_per_cluster_hca(6, X_PCA)"
   ]
  },
  {
   "cell_type": "code",
   "execution_count": 51,
   "metadata": {},
   "outputs": [
    {
     "data": {
      "image/png": "[encoded data removed]",
      "text/plain": [
       "<Figure size 432x288 with 1 Axes>"
      ]
     },
     "metadata": {
      "needs_background": "light"
     },
     "output_type": "display_data"
    }
   ],
   "source": [
    "comparing_ss_hca_methods(6,X_variance)"
   ]
  },
  {
   "cell_type": "markdown",
   "metadata": {},
   "source": [
    "Analisar graºfico:--"
   ]
  },
  {
   "cell_type": "code",
   "execution_count": 52,
   "metadata": {},
   "outputs": [
    {
     "data": {
      "image/png": "[encoded data removed]",
      "text/plain": [
       "<Figure size 432x288 with 1 Axes>"
      ]
     },
     "metadata": {
      "needs_background": "light"
     },
     "output_type": "display_data"
    }
   ],
   "source": [
    "comparing_ss_hca_methods(6,X_PCA)"
   ]
  },
  {
   "cell_type": "markdown",
   "metadata": {},
   "source": [
    "Analisar graºfico:--"
   ]
  },
  {
   "cell_type": "markdown",
   "metadata": {},
   "source": [
    "## 5. Evaluating Clustering Results"
   ]
  },
  {
   "cell_type": "markdown",
   "metadata": {},
   "source": [
    "In this task you should compare the best results obtained using `K`-means and HCA \n",
    "1. **Without using ground truth**\n",
    "2. **Using ground truth (`Medulloblastoma Type`)**."
   ]
  },
  {
   "cell_type": "markdown",
   "metadata": {},
   "source": [
    "### 5.1. Without Using Ground Truth"
   ]
  },
  {
   "cell_type": "markdown",
   "metadata": {},
   "source": [
    "**Choose one adequate measure** from those available by Sciki-learn (https://scikit-learn.org/stable/modules/clustering.html#clustering-performance-evaluation) to evaluate the different clusterings. \n",
    "\n",
    "Discuss the results."
   ]
  },
  {
   "cell_type": "code",
   "execution_count": 53,
   "metadata": {},
   "outputs": [],
   "source": [
    "# Write code in cells like this ...\n",
    "#https://stats.stackexchange.com/questions/21807/evaluation-measures-of-goodness-or-validity-of-clustering-without-having-truth"
   ]
  },
  {
   "cell_type": "markdown",
   "metadata": {},
   "source": [
    "### 5.2. Using Ground Truth"
   ]
  },
  {
   "cell_type": "markdown",
   "metadata": {},
   "source": [
    "**Choose one adequate measure** from those available by Sciki-learn (https://scikit-learn.org/stable/modules/clustering.html#clustering-performance-evaluation) to evaluate the different clusterings. \n",
    "\n",
    "Discuss the results."
   ]
  },
  {
   "cell_type": "code",
   "execution_count": 54,
   "metadata": {},
   "outputs": [],
   "source": [
    "import operator"
   ]
  },
  {
   "cell_type": "code",
   "execution_count": 55,
   "metadata": {},
   "outputs": [],
   "source": [
    "def comparing_kmeans_ground_truth(k,X):\n",
    "    labels_true=y['class']\n",
    "    slc = {}\n",
    "    for k in range(2, k):\n",
    "        kmeans = KMeans(n_clusters=k, random_state=0).fit(X)\n",
    "        pred_classes = kmeans.labels_\n",
    "        slc[k] = silhouette_score(X,pred_classes)\n",
    "    highest_ss_k = max(mydict.items(), key=operator.itemgetter(1))[0]\n",
    "    kmeans = KMeans(n_clusters=highest_ss_k, random_state=0).fit(X)\n",
    "    labels = kmeans.labels_\n",
    "    print('For K =', highest_ss_k)\n",
    "    print(\"Homogeneity: %0.3f\" % metrics.homogeneity_score(labels_true, labels))\n",
    "    print(\"Completeness: %0.3f\" % metrics.completeness_score(labels_true, labels))\n",
    "    print(\"V-measure: %0.3f\" % metrics.v_measure_score(labels_true, labels))\n",
    "    print(\"Adjusted Rand Index: %0.3f\"\n",
    "          % metrics.adjusted_rand_score(labels_true, labels))\n",
    "    print(\"Adjusted Mutual Information: %0.3f\"\n",
    "      % metrics.adjusted_mutual_info_score(labels_true, labels))"
   ]
  },
  {
   "cell_type": "code",
   "execution_count": 56,
   "metadata": {},
   "outputs": [
    {
     "ename": "NameError",
     "evalue": "name 'mydict' is not defined",
     "output_type": "error",
     "traceback": [
      "\u001b[1;31m---------------------------------------------------------------------------\u001b[0m",
      "\u001b[1;31mNameError\u001b[0m                                 Traceback (most recent call last)",
      "\u001b[1;32m<ipython-input-56-a5cfdb1a4f76>\u001b[0m in \u001b[0;36m<module>\u001b[1;34m\u001b[0m\n\u001b[1;32m----> 1\u001b[1;33m \u001b[0mcomparing_kmeans_ground_truth\u001b[0m\u001b[1;33m(\u001b[0m\u001b[1;36m6\u001b[0m\u001b[1;33m,\u001b[0m\u001b[0mX\u001b[0m\u001b[1;33m)\u001b[0m\u001b[1;33m\u001b[0m\u001b[1;33m\u001b[0m\u001b[0m\n\u001b[0m",
      "\u001b[1;32m<ipython-input-55-2b3d8524ea8a>\u001b[0m in \u001b[0;36mcomparing_kmeans_ground_truth\u001b[1;34m(k, X)\u001b[0m\n\u001b[0;32m      6\u001b[0m         \u001b[0mpred_classes\u001b[0m \u001b[1;33m=\u001b[0m \u001b[0mkmeans\u001b[0m\u001b[1;33m.\u001b[0m\u001b[0mlabels_\u001b[0m\u001b[1;33m\u001b[0m\u001b[1;33m\u001b[0m\u001b[0m\n\u001b[0;32m      7\u001b[0m         \u001b[0mslc\u001b[0m\u001b[1;33m[\u001b[0m\u001b[0mk\u001b[0m\u001b[1;33m]\u001b[0m \u001b[1;33m=\u001b[0m \u001b[0msilhouette_score\u001b[0m\u001b[1;33m(\u001b[0m\u001b[0mX\u001b[0m\u001b[1;33m,\u001b[0m\u001b[0mpred_classes\u001b[0m\u001b[1;33m)\u001b[0m\u001b[1;33m\u001b[0m\u001b[1;33m\u001b[0m\u001b[0m\n\u001b[1;32m----> 8\u001b[1;33m     \u001b[0mhighest_ss_k\u001b[0m \u001b[1;33m=\u001b[0m \u001b[0mmax\u001b[0m\u001b[1;33m(\u001b[0m\u001b[0mmydict\u001b[0m\u001b[1;33m.\u001b[0m\u001b[0mitems\u001b[0m\u001b[1;33m(\u001b[0m\u001b[1;33m)\u001b[0m\u001b[1;33m,\u001b[0m \u001b[0mkey\u001b[0m\u001b[1;33m=\u001b[0m\u001b[0moperator\u001b[0m\u001b[1;33m.\u001b[0m\u001b[0mitemgetter\u001b[0m\u001b[1;33m(\u001b[0m\u001b[1;36m1\u001b[0m\u001b[1;33m)\u001b[0m\u001b[1;33m)\u001b[0m\u001b[1;33m[\u001b[0m\u001b[1;36m0\u001b[0m\u001b[1;33m]\u001b[0m\u001b[1;33m\u001b[0m\u001b[1;33m\u001b[0m\u001b[0m\n\u001b[0m\u001b[0;32m      9\u001b[0m     \u001b[0mkmeans\u001b[0m \u001b[1;33m=\u001b[0m \u001b[0mKMeans\u001b[0m\u001b[1;33m(\u001b[0m\u001b[0mn_clusters\u001b[0m\u001b[1;33m=\u001b[0m\u001b[0mhighest_ss_k\u001b[0m\u001b[1;33m,\u001b[0m \u001b[0mrandom_state\u001b[0m\u001b[1;33m=\u001b[0m\u001b[1;36m0\u001b[0m\u001b[1;33m)\u001b[0m\u001b[1;33m.\u001b[0m\u001b[0mfit\u001b[0m\u001b[1;33m(\u001b[0m\u001b[0mX\u001b[0m\u001b[1;33m)\u001b[0m\u001b[1;33m\u001b[0m\u001b[1;33m\u001b[0m\u001b[0m\n\u001b[0;32m     10\u001b[0m     \u001b[0mlabels\u001b[0m \u001b[1;33m=\u001b[0m \u001b[0mkmeans\u001b[0m\u001b[1;33m.\u001b[0m\u001b[0mlabels_\u001b[0m\u001b[1;33m\u001b[0m\u001b[1;33m\u001b[0m\u001b[0m\n",
      "\u001b[1;31mNameError\u001b[0m: name 'mydict' is not defined"
     ]
    }
   ],
   "source": [
    "comparing_kmeans_ground_truth(6,X)"
   ]
  },
  {
   "cell_type": "code",
   "execution_count": null,
   "metadata": {},
   "outputs": [],
   "source": [
    "comparing_kmeans_ground_truth(6,X_variance)"
   ]
  },
  {
   "cell_type": "code",
   "execution_count": null,
   "metadata": {},
   "outputs": [],
   "source": [
    "comparing_kmeans_ground_truth(6,X_PCA)"
   ]
  },
  {
   "cell_type": "code",
   "execution_count": null,
   "metadata": {},
   "outputs": [],
   "source": [
    "def comparing_hca_ground_truth(k,X):\n",
    "    labels_true=y['class']\n",
    "    slc = {}\n",
    "    for k in range(2, k):\n",
    "        hca = AgglomerativeClustering(n_clusters=k).fit(X)\n",
    "        pred_classes = hca.labels_\n",
    "        slc[k] = silhouette_score(X,pred_classes)\n",
    "        \n",
    "    highest_ss_k = max(mydict.items(), key=operator.itemgetter(1))[0]\n",
    "    hca1 = AgglomerativeClustering(n_clusters=highest_ss_k).fit(X)\n",
    "    labels = hca1.labels_\n",
    "    \n",
    "    print('For K =', highest_ss_k)\n",
    "    print(\"Homogeneity: %0.3f\" % metrics.homogeneity_score(labels_true, labels))\n",
    "    print(\"Completeness: %0.3f\" % metrics.completeness_score(labels_true, labels))\n",
    "    print(\"V-measure: %0.3f\" % metrics.v_measure_score(labels_true, labels))\n",
    "    print(\"Adjusted Rand Index: %0.3f\"\n",
    "          % metrics.adjusted_rand_score(labels_true, labels))\n",
    "    print(\"Adjusted Mutual Information: %0.3f\"\n",
    "      % metrics.adjusted_mutual_info_score(labels_true, labels))"
   ]
  },
  {
   "cell_type": "code",
   "execution_count": null,
   "metadata": {},
   "outputs": [],
   "source": [
    "comparing_hca_ground_truth(6,X)"
   ]
  },
  {
   "cell_type": "code",
   "execution_count": null,
   "metadata": {},
   "outputs": [],
   "source": [
    "comparing_hca_ground_truth(6,X_variance)"
   ]
  },
  {
   "cell_type": "code",
   "execution_count": null,
   "metadata": {},
   "outputs": [],
   "source": [
    "comparing_hca_ground_truth(11,X_PCA)"
   ]
  },
  {
   "cell_type": "markdown",
   "metadata": {},
   "source": [
    "## 6. Clustering Samples using Density-based Clustering"
   ]
  },
  {
   "cell_type": "markdown",
   "metadata": {},
   "source": [
    "Use DBSCAN (https://scikit-learn.org/stable/modules/generated/sklearn.cluster.DBSCAN.html) or OPTICS (https://scikit-learn.org/stable/modules/generated/sklearn.cluster.OPTICS.html) to cluster the samples.\n",
    "\n",
    "Compare the results with those of K-means and HCA."
   ]
  },
  {
   "cell_type": "markdown",
   "metadata": {},
   "source": [
    "https://www.kdnuggets.com/2020/04/dbscan-clustering-algorithm-machine-learning.html"
   ]
  },
  {
   "cell_type": "code",
   "execution_count": null,
   "metadata": {},
   "outputs": [],
   "source": [
    "from sklearn.cluster import DBSCAN\n",
    "from sklearn import metrics\n",
    "from sklearn.cluster import OPTICS, cluster_optics_dbscan"
   ]
  },
  {
   "cell_type": "code",
   "execution_count": null,
   "metadata": {},
   "outputs": [],
   "source": [
    "def dbscan_func(X):\n",
    "    db = DBSCAN(min_samples=10).fit(X)\n",
    "    core_samples_mask = np.zeros_like(db.labels_, dtype=bool)\n",
    "    core_samples_mask[db.core_sample_indices_] = True\n",
    "    labels = db.labels_\n",
    "    n_clusters_ = len(set(labels)) - (1 if -1 in labels else 0)\n",
    "    n_noise_ = list(labels).count(-1)\n",
    "\n",
    "    print('Estimated number of clusters = %d' % n_clusters_)\n",
    "    print('Estimated number of noise points = %d' % n_noise_)"
   ]
  },
  {
   "cell_type": "code",
   "execution_count": null,
   "metadata": {},
   "outputs": [],
   "source": [
    "dbscan_func(X)"
   ]
  },
  {
   "cell_type": "code",
   "execution_count": null,
   "metadata": {},
   "outputs": [],
   "source": [
    "dbscan_func(X_variance)"
   ]
  },
  {
   "cell_type": "code",
   "execution_count": null,
   "metadata": {},
   "outputs": [],
   "source": [
    "dbscan_func(X_PCA)"
   ]
  },
  {
   "cell_type": "markdown",
   "metadata": {},
   "source": [
    "## 7. Choose a Different Clustering Algorithm to Group the Samples\n",
    "\n",
    "Choose **a clustering algorithm** besides `K`-means, HCA and DBSCAN/OPTICS to cluster the samples. \n",
    "\n",
    "**Groups of 3 People** must choose two different algorithms.\n",
    "\n",
    "Justify your choice and compare the results with those of `K`-means, HCA and DBSCAN/OPTICS."
   ]
  },
  {
   "cell_type": "code",
   "execution_count": null,
   "metadata": {},
   "outputs": [],
   "source": [
    "from sklearn.cluster import MiniBatchKMeans\n",
    "from sklearn.cluster import SpectralClustering"
   ]
  },
  {
   "cell_type": "code",
   "execution_count": null,
   "metadata": {},
   "outputs": [],
   "source": [
    "def get_samples_per_cluster_mini_kmeans(k, X):\n",
    "    labels = np.array(y['class'])\n",
    "    for k in range(2, k):\n",
    "        mini_kmeans = MiniBatchKMeans(n_clusters=k, random_state=0).fit(X)\n",
    "        pred_classes = mini_kmeans.labels_\n",
    "\n",
    "        print('For K =', k)\n",
    "        for i in np.array(np.unique(pred_classes)):\n",
    "            print('Cluster ', i, dict(Counter(labels[np.where(pred_classes == i)]))) #labels -- ver"
   ]
  },
  {
   "cell_type": "code",
   "execution_count": null,
   "metadata": {},
   "outputs": [],
   "source": [
    "def get_ss_mini_kmeans(k,X):\n",
    "    slc = {}\n",
    "    for k in range(2, k):\n",
    "        kmeans = MiniBatchKMeans(n_clusters=k, random_state=0).fit(X)\n",
    "        pred_classes = kmeans.labels_\n",
    "        slc[k] = silhouette_score(X,pred_classes)\n",
    "        print(\"For K =\", k, \"The avg SS is :\", np.round(silhouette_score(X, pred_classes),2))\n",
    "    plt.figure()\n",
    "    plt.plot(list(slc.keys()), list(slc.values()))\n",
    "    plt.xlabel(\"Number of clusters K\")\n",
    "    plt.ylabel(\"Silhouette scores\")\n",
    "    plt.show()  "
   ]
  },
  {
   "cell_type": "code",
   "execution_count": null,
   "metadata": {},
   "outputs": [],
   "source": [
    "def get_samples_per_cluster_spec(k, X):\n",
    "    labels = np.array(y['class'])\n",
    "    for k in range(2, k):\n",
    "        mini_kmeans = SpectralClustering(n_clusters=k, random_state=0).fit(X)\n",
    "        pred_classes = mini_kmeans.labels_\n",
    "\n",
    "        print('For K =', k)\n",
    "        for i in np.array(np.unique(pred_classes)):\n",
    "            print('Cluster ', i, dict(Counter(labels[np.where(pred_classes == i)]))) #labels -- ver"
   ]
  },
  {
   "cell_type": "code",
   "execution_count": null,
   "metadata": {},
   "outputs": [],
   "source": [
    "def get_ss_mini_spec(k,X):\n",
    "    slc = {}\n",
    "    for k in range(2, k):\n",
    "        kmeans = SpectralClustering(n_clusters=k, random_state=0).fit(X)\n",
    "        pred_classes = kmeans.labels_\n",
    "        slc[k] = silhouette_score(X,pred_classes)\n",
    "        print(\"For K =\", k, \"The avg SS is :\", np.round(silhouette_score(X, pred_classes),2))\n",
    "    plt.figure()\n",
    "    plt.plot(list(slc.keys()), list(slc.values()))\n",
    "    plt.xlabel(\"Number of clusters K\")\n",
    "    plt.ylabel(\"Silhouette scores\")\n",
    "    plt.show()  "
   ]
  },
  {
   "cell_type": "code",
   "execution_count": null,
   "metadata": {},
   "outputs": [],
   "source": [
    "get_samples_per_cluster_mini_kmeans(6,X)"
   ]
  },
  {
   "cell_type": "code",
   "execution_count": null,
   "metadata": {},
   "outputs": [],
   "source": [
    "get_samples_per_cluster_mini_kmeans(6,X_variance)"
   ]
  },
  {
   "cell_type": "code",
   "execution_count": null,
   "metadata": {},
   "outputs": [],
   "source": [
    "get_samples_per_cluster_mini_kmeans(6,X_PCA)"
   ]
  },
  {
   "cell_type": "code",
   "execution_count": null,
   "metadata": {},
   "outputs": [],
   "source": [
    "get_ss_mini_kmeans(11,X)"
   ]
  },
  {
   "cell_type": "code",
   "execution_count": null,
   "metadata": {},
   "outputs": [],
   "source": [
    "get_ss_mini_kmeans(6,X_variance)"
   ]
  },
  {
   "cell_type": "code",
   "execution_count": null,
   "metadata": {},
   "outputs": [],
   "source": [
    "get_ss_mini_kmeans(6,X_PCA)"
   ]
  },
  {
   "cell_type": "code",
   "execution_count": null,
   "metadata": {},
   "outputs": [],
   "source": [
    "get_samples_per_cluster_spec(6, X)"
   ]
  },
  {
   "cell_type": "code",
   "execution_count": null,
   "metadata": {},
   "outputs": [],
   "source": [
    "get_samples_per_cluster_spec(6, X_variance)"
   ]
  },
  {
   "cell_type": "code",
   "execution_count": null,
   "metadata": {},
   "outputs": [],
   "source": [
    "get_samples_per_cluster_spec(11, X_PCA)"
   ]
  },
  {
   "cell_type": "code",
   "execution_count": null,
   "metadata": {},
   "outputs": [],
   "source": [
    "get_ss_mini_spec(11,X)"
   ]
  },
  {
   "cell_type": "code",
   "execution_count": null,
   "metadata": {},
   "outputs": [],
   "source": [
    "get_ss_mini_spec(6,X_variance)"
   ]
  },
  {
   "cell_type": "code",
   "execution_count": null,
   "metadata": {},
   "outputs": [],
   "source": [
    "get_ss_mini_spec(6,X_PCA)"
   ]
  },
  {
   "cell_type": "markdown",
   "metadata": {},
   "source": [
    "## 8. Conclusions"
   ]
  },
  {
   "cell_type": "markdown",
   "metadata": {},
   "source": [
    "Draw some conclusions about this project work. Can you highlight some insights about meduloblastoma types? "
   ]
  },
  {
   "cell_type": "code",
   "execution_count": null,
   "metadata": {},
   "outputs": [],
   "source": [
    "# Write code in cells like this ..."
   ]
  },
  {
   "cell_type": "markdown",
   "metadata": {},
   "source": [
    "Write text in cells like this..."
   ]
  }
 ],
 "metadata": {
  "kernelspec": {
   "display_name": "Python 3",
   "language": "python",
   "name": "python3"
  },
  "language_info": {
   "codemirror_mode": {
    "name": "ipython",
    "version": 3
   },
   "file_extension": ".py",
   "mimetype": "text/x-python",
   "name": "python",
   "nbconvert_exporter": "python",
   "pygments_lexer": "ipython3",
   "version": "3.8.3"
  }
 },
 "nbformat": 4,
 "nbformat_minor": 4
}
