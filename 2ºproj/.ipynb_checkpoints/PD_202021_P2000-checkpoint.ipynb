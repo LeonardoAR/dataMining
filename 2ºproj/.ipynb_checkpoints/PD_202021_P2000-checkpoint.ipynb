{
 "cells": [
  {
   "cell_type": "markdown",
   "metadata": {},
   "source": [
    "# Data Mining / Prospecção de Dados\n",
    "\n",
    "## Diogo F. Soares and Sara C. Madeira, 2020/21\n",
    "\n",
    "# Project 2 - Clustering"
   ]
  },
  {
   "cell_type": "markdown",
   "metadata": {},
   "source": [
    "## Logistics \n",
    "\n",
    "**_Read Carefully_**\n",
    "\n",
    "**Students should work in teams of 2 or 3 people**. \n",
    "\n",
    "Individual projects might be allowed (with valid justification), but will not have better grades for this reason. \n",
    "\n",
    "The quality of the project will dictate its grade, not the number of people working.\n",
    "\n",
    "**The project's solution should be uploaded in Moodle before the end of `April, 18th (23:59)`.** \n",
    "\n",
    "Students should **upload a `.zip` file** containing all the files necessary for project evaluation. \n",
    "Groups should be registered in [Moodle](https://moodle.ciencias.ulisboa.pt/mod/groupselect/view.php?id=139096) and the zip file should be identified as `PDnn.zip` where `nn` is the number of your group.\n",
    "\n",
    "**It is mandatory to produce a Jupyter notebook containing code and text/images/tables/etc describing the solution and the results. Projects not delivered in this format will not be graded. You can use `PD_202021_P2.ipynb`as template. In your `.zip` folder you should also include an HTML version of your notebook with all the outputs** (File > Download as > HTML).\n",
    "\n",
    "**Decisions should be justified and results should be critically discussed.** \n",
    "\n",
    "_Project solutions containing only code and outputs without discussions will achieve a maximum grade 10 out of 20._"
   ]
  },
  {
   "cell_type": "markdown",
   "metadata": {},
   "source": [
    "## Dataset and Tools\n",
    "\n",
    "In this project you should use [Python 3](https://www.python.org), [Jupyter Notebook](http://jupyter.org) and **[Scikit-learn](http://scikit-learn.org/stable/)**.\n",
    "\n",
    "The dataset to be analysed is **`medulloblastoma_genes.csv`**. It includes 76 samples of medulloblastoma (MB) with respective expression levels of 54.675 genes measured in children with ages between 3 and 16 years. Medulloblastoma is a malignant childhood brain tumour comprising four discrete subgroups. \n",
    "\n",
    "In this project you will consider the labels of the samples included in the `labels.csv` file where samples are labelled as MB-CL or Other. In this case, we have 51 samples of classic medulloblastoma (MB-CL) and 25 other types (namely: 6 desmoplastic nodular, 17 anaplastic and 2 medullomyoblastoma).\n",
    "\n",
    "In `medulloblastoma_genes.csv` each line represents a sample and each column represents a gene.\n",
    "\n",
    "\n",
    "**The goal is to cluster samples and (ideally) find \"MB-CL\" groups and \"Other MB\" groups.** "
   ]
  },
  {
   "cell_type": "markdown",
   "metadata": {},
   "source": [
    "## Team Identification\n",
    "\n",
    "**GROUP NNN**\n",
    "\n",
    "Students:\n",
    "\n",
    "* Student 1 - n_student1\n",
    "* Student 2 - n_student2\n",
    "* Student 3 - n_student3"
   ]
  },
  {
   "cell_type": "markdown",
   "metadata": {},
   "source": [
    "## 1. Load and Preprocess Dataset"
   ]
  },
  {
   "cell_type": "code",
   "execution_count": 1,
   "metadata": {},
   "outputs": [],
   "source": [
    "import pandas as pd\n",
    "import matplotlib.pyplot as plt\n",
    "import numpy as np"
   ]
  },
  {
   "cell_type": "markdown",
   "metadata": {},
   "source": [
    "At the end of this step you should have:\n",
    "* a 76 rows × 54675 columns matrix, **X**, containing the values of the 54675 features for each of the 76 samples.\n",
    "* a vector, **y**, with the 76 type of medulloblastoma, which you can use later to evaluate clustering quality."
   ]
  },
  {
   "cell_type": "markdown",
   "metadata": {},
   "source": [
    "The dataset to be analysed is **`medulloblastoma_genes.csv`**. It includes 76 samples of medulloblastoma (MB) with respective expression levels of 54.675 genes measured in children with ages between 3 and 16 years. Medulloblastoma is a malignant childhood brain tumour comprising four discrete subgroups. "
   ]
  },
  {
   "cell_type": "code",
   "execution_count": 2,
   "metadata": {},
   "outputs": [],
   "source": [
    "X = pd.read_csv(\"medulloblastoma_genes.csv\")"
   ]
  },
  {
   "cell_type": "code",
   "execution_count": 3,
   "metadata": {},
   "outputs": [],
   "source": [
    "X.to_pickle(\"./medulloblastoma_genes.pkl\")"
   ]
  },
  {
   "cell_type": "code",
   "execution_count": 4,
   "metadata": {},
   "outputs": [],
   "source": [
    "X = pd.read_pickle('medulloblastoma_genes.pkl')"
   ]
  },
  {
   "cell_type": "code",
   "execution_count": 5,
   "metadata": {},
   "outputs": [
    {
     "data": {
      "text/plain": [
       "0"
      ]
     },
     "execution_count": 5,
     "metadata": {},
     "output_type": "execute_result"
    }
   ],
   "source": [
    "X.isna().sum().sum() #checking for null values"
   ]
  },
  {
   "cell_type": "code",
   "execution_count": 6,
   "metadata": {},
   "outputs": [
    {
     "data": {
      "text/plain": [
       "0"
      ]
     },
     "execution_count": 6,
     "metadata": {},
     "output_type": "execute_result"
    }
   ],
   "source": [
    "X.duplicated().sum() #checking for duplicated features"
   ]
  },
  {
   "cell_type": "code",
   "execution_count": 7,
   "metadata": {},
   "outputs": [],
   "source": [
    "X.rename(columns = {'Unnamed: 0': 'samples'}, inplace = True)"
   ]
  },
  {
   "cell_type": "code",
   "execution_count": 8,
   "metadata": {},
   "outputs": [
    {
     "data": {
      "text/plain": [
       "76"
      ]
     },
     "execution_count": 8,
     "metadata": {},
     "output_type": "execute_result"
    }
   ],
   "source": [
    "X.samples.nunique() #there are 76 unique samples"
   ]
  },
  {
   "cell_type": "code",
   "execution_count": 9,
   "metadata": {},
   "outputs": [],
   "source": [
    "X_samples = X.samples"
   ]
  },
  {
   "cell_type": "code",
   "execution_count": 10,
   "metadata": {},
   "outputs": [],
   "source": [
    "X.drop(['samples'],axis=1, inplace=True) #removing the id"
   ]
  },
  {
   "cell_type": "code",
   "execution_count": 11,
   "metadata": {},
   "outputs": [
    {
     "data": {
      "text/plain": [
       "(76, 54675)"
      ]
     },
     "execution_count": 11,
     "metadata": {},
     "output_type": "execute_result"
    }
   ],
   "source": [
    "X.shape"
   ]
  },
  {
   "cell_type": "code",
   "execution_count": 13,
   "metadata": {},
   "outputs": [
    {
     "data": {
      "text/html": [
       "<div>\n",
       "<style scoped>\n",
       "    .dataframe tbody tr th:only-of-type {\n",
       "        vertical-align: middle;\n",
       "    }\n",
       "\n",
       "    .dataframe tbody tr th {\n",
       "        vertical-align: top;\n",
       "    }\n",
       "\n",
       "    .dataframe thead th {\n",
       "        text-align: right;\n",
       "    }\n",
       "</style>\n",
       "<table border=\"1\" class=\"dataframe\">\n",
       "  <thead>\n",
       "    <tr style=\"text-align: right;\">\n",
       "      <th></th>\n",
       "      <th>1007_s_at</th>\n",
       "      <th>1053_at</th>\n",
       "      <th>117_at</th>\n",
       "      <th>121_at</th>\n",
       "      <th>1255_g_at</th>\n",
       "      <th>1294_at</th>\n",
       "      <th>1316_at</th>\n",
       "      <th>1320_at</th>\n",
       "      <th>1405_i_at</th>\n",
       "      <th>1431_at</th>\n",
       "      <th>...</th>\n",
       "      <th>AFFX-r2-Ec-bioD-3_at</th>\n",
       "      <th>AFFX-r2-Ec-bioD-5_at</th>\n",
       "      <th>AFFX-r2-P1-cre-3_at</th>\n",
       "      <th>AFFX-r2-P1-cre-5_at</th>\n",
       "      <th>AFFX-ThrX-3_at</th>\n",
       "      <th>AFFX-ThrX-5_at</th>\n",
       "      <th>AFFX-ThrX-M_at</th>\n",
       "      <th>AFFX-TrpnX-3_at</th>\n",
       "      <th>AFFX-TrpnX-5_at</th>\n",
       "      <th>AFFX-TrpnX-M_at</th>\n",
       "    </tr>\n",
       "  </thead>\n",
       "  <tbody>\n",
       "    <tr>\n",
       "      <th>0</th>\n",
       "      <td>7.59594</td>\n",
       "      <td>6.14440</td>\n",
       "      <td>4.82431</td>\n",
       "      <td>5.67092</td>\n",
       "      <td>4.14155</td>\n",
       "      <td>5.48935</td>\n",
       "      <td>6.01078</td>\n",
       "      <td>5.17671</td>\n",
       "      <td>4.83708</td>\n",
       "      <td>4.77996</td>\n",
       "      <td>...</td>\n",
       "      <td>10.2364</td>\n",
       "      <td>10.1202</td>\n",
       "      <td>11.5560</td>\n",
       "      <td>11.2308</td>\n",
       "      <td>6.94803</td>\n",
       "      <td>6.42487</td>\n",
       "      <td>6.70991</td>\n",
       "      <td>4.48639</td>\n",
       "      <td>4.43082</td>\n",
       "      <td>3.48738</td>\n",
       "    </tr>\n",
       "    <tr>\n",
       "      <th>1</th>\n",
       "      <td>7.80665</td>\n",
       "      <td>6.19154</td>\n",
       "      <td>5.24439</td>\n",
       "      <td>5.62149</td>\n",
       "      <td>3.41773</td>\n",
       "      <td>5.70478</td>\n",
       "      <td>5.98896</td>\n",
       "      <td>3.45316</td>\n",
       "      <td>4.34121</td>\n",
       "      <td>4.28772</td>\n",
       "      <td>...</td>\n",
       "      <td>10.4747</td>\n",
       "      <td>10.4893</td>\n",
       "      <td>11.6799</td>\n",
       "      <td>11.3475</td>\n",
       "      <td>6.09785</td>\n",
       "      <td>4.38328</td>\n",
       "      <td>4.68583</td>\n",
       "      <td>3.40120</td>\n",
       "      <td>4.20916</td>\n",
       "      <td>4.40915</td>\n",
       "    </tr>\n",
       "  </tbody>\n",
       "</table>\n",
       "<p>2 rows × 54675 columns</p>\n",
       "</div>"
      ],
      "text/plain": [
       "   1007_s_at  1053_at   117_at   121_at  1255_g_at  1294_at  1316_at  1320_at  \\\n",
       "0    7.59594  6.14440  4.82431  5.67092    4.14155  5.48935  6.01078  5.17671   \n",
       "1    7.80665  6.19154  5.24439  5.62149    3.41773  5.70478  5.98896  3.45316   \n",
       "\n",
       "   1405_i_at  1431_at  ...  AFFX-r2-Ec-bioD-3_at  AFFX-r2-Ec-bioD-5_at  \\\n",
       "0    4.83708  4.77996  ...               10.2364               10.1202   \n",
       "1    4.34121  4.28772  ...               10.4747               10.4893   \n",
       "\n",
       "   AFFX-r2-P1-cre-3_at  AFFX-r2-P1-cre-5_at  AFFX-ThrX-3_at  AFFX-ThrX-5_at  \\\n",
       "0              11.5560              11.2308         6.94803         6.42487   \n",
       "1              11.6799              11.3475         6.09785         4.38328   \n",
       "\n",
       "   AFFX-ThrX-M_at  AFFX-TrpnX-3_at  AFFX-TrpnX-5_at  AFFX-TrpnX-M_at  \n",
       "0         6.70991          4.48639          4.43082          3.48738  \n",
       "1         4.68583          3.40120          4.20916          4.40915  \n",
       "\n",
       "[2 rows x 54675 columns]"
      ]
     },
     "execution_count": 13,
     "metadata": {},
     "output_type": "execute_result"
    }
   ],
   "source": [
    "X.head(2)"
   ]
  },
  {
   "cell_type": "markdown",
   "metadata": {},
   "source": [
    "In this project you will consider the labels of the samples included in the `labels.csv` file where samples are labelled as MB-CL or Other. In this case, we have 51 samples of classic medulloblastoma (MB-CL) and 25 other types (namely: 6 desmoplastic nodular, 17 anaplastic and 2 medullomyoblastoma).\n",
    "\n",
    "In `medulloblastoma_genes.csv` each line represents a sample and each column represents a gene.\n",
    "\n",
    "\n",
    "**The goal is to cluster samples and (ideally) find \"MB-CL\" groups and \"Other MB\" groups.** "
   ]
  },
  {
   "cell_type": "code",
   "execution_count": 14,
   "metadata": {},
   "outputs": [
    {
     "data": {
      "text/html": [
       "<div>\n",
       "<style scoped>\n",
       "    .dataframe tbody tr th:only-of-type {\n",
       "        vertical-align: middle;\n",
       "    }\n",
       "\n",
       "    .dataframe tbody tr th {\n",
       "        vertical-align: top;\n",
       "    }\n",
       "\n",
       "    .dataframe thead th {\n",
       "        text-align: right;\n",
       "    }\n",
       "</style>\n",
       "<table border=\"1\" class=\"dataframe\">\n",
       "  <thead>\n",
       "    <tr style=\"text-align: right;\">\n",
       "      <th></th>\n",
       "      <th>samples</th>\n",
       "      <th>class</th>\n",
       "    </tr>\n",
       "  </thead>\n",
       "  <tbody>\n",
       "    <tr>\n",
       "      <th>0</th>\n",
       "      <td>GSM918578</td>\n",
       "      <td>MB-CL</td>\n",
       "    </tr>\n",
       "    <tr>\n",
       "      <th>1</th>\n",
       "      <td>GSM918579</td>\n",
       "      <td>MB-CL</td>\n",
       "    </tr>\n",
       "    <tr>\n",
       "      <th>2</th>\n",
       "      <td>GSM918580</td>\n",
       "      <td>MB-CL</td>\n",
       "    </tr>\n",
       "    <tr>\n",
       "      <th>3</th>\n",
       "      <td>GSM918581</td>\n",
       "      <td>MB-CL</td>\n",
       "    </tr>\n",
       "    <tr>\n",
       "      <th>4</th>\n",
       "      <td>GSM918582</td>\n",
       "      <td>Other</td>\n",
       "    </tr>\n",
       "    <tr>\n",
       "      <th>...</th>\n",
       "      <td>...</td>\n",
       "      <td>...</td>\n",
       "    </tr>\n",
       "    <tr>\n",
       "      <th>71</th>\n",
       "      <td>GSM918649</td>\n",
       "      <td>Other</td>\n",
       "    </tr>\n",
       "    <tr>\n",
       "      <th>72</th>\n",
       "      <td>GSM918650</td>\n",
       "      <td>MB-CL</td>\n",
       "    </tr>\n",
       "    <tr>\n",
       "      <th>73</th>\n",
       "      <td>GSM918651</td>\n",
       "      <td>Other</td>\n",
       "    </tr>\n",
       "    <tr>\n",
       "      <th>74</th>\n",
       "      <td>GSM918652</td>\n",
       "      <td>MB-CL</td>\n",
       "    </tr>\n",
       "    <tr>\n",
       "      <th>75</th>\n",
       "      <td>GSM918653</td>\n",
       "      <td>MB-CL</td>\n",
       "    </tr>\n",
       "  </tbody>\n",
       "</table>\n",
       "<p>76 rows × 2 columns</p>\n",
       "</div>"
      ],
      "text/plain": [
       "      samples  class\n",
       "0   GSM918578  MB-CL\n",
       "1   GSM918579  MB-CL\n",
       "2   GSM918580  MB-CL\n",
       "3   GSM918581  MB-CL\n",
       "4   GSM918582  Other\n",
       "..        ...    ...\n",
       "71  GSM918649  Other\n",
       "72  GSM918650  MB-CL\n",
       "73  GSM918651  Other\n",
       "74  GSM918652  MB-CL\n",
       "75  GSM918653  MB-CL\n",
       "\n",
       "[76 rows x 2 columns]"
      ]
     },
     "execution_count": 14,
     "metadata": {},
     "output_type": "execute_result"
    }
   ],
   "source": [
    "y = pd.read_csv(\"labels.csv\")\n",
    "y"
   ]
  },
  {
   "cell_type": "code",
   "execution_count": 15,
   "metadata": {},
   "outputs": [],
   "source": [
    "y_samples = y.samples"
   ]
  },
  {
   "cell_type": "code",
   "execution_count": 16,
   "metadata": {},
   "outputs": [
    {
     "name": "stdout",
     "output_type": "stream",
     "text": [
      "Total number of classes =  76\n",
      "Output classes =  ['GSM918578' 'GSM918579' 'GSM918580' 'GSM918581' 'GSM918582' 'GSM918583'\n",
      " 'GSM918584' 'GSM918585' 'GSM918586' 'GSM918587' 'GSM918588' 'GSM918589'\n",
      " 'GSM918590' 'GSM918591' 'GSM918592' 'GSM918593' 'GSM918594' 'GSM918595'\n",
      " 'GSM918596' 'GSM918597' 'GSM918598' 'GSM918599' 'GSM918600' 'GSM918601'\n",
      " 'GSM918602' 'GSM918603' 'GSM918604' 'GSM918605' 'GSM918606' 'GSM918607'\n",
      " 'GSM918608' 'GSM918609' 'GSM918610' 'GSM918611' 'GSM918612' 'GSM918613'\n",
      " 'GSM918614' 'GSM918615' 'GSM918616' 'GSM918617' 'GSM918618' 'GSM918619'\n",
      " 'GSM918620' 'GSM918621' 'GSM918622' 'GSM918623' 'GSM918624' 'GSM918625'\n",
      " 'GSM918626' 'GSM918627' 'GSM918628' 'GSM918629' 'GSM918630' 'GSM918631'\n",
      " 'GSM918632' 'GSM918633' 'GSM918634' 'GSM918635' 'GSM918636' 'GSM918637'\n",
      " 'GSM918638' 'GSM918639' 'GSM918640' 'GSM918641' 'GSM918642' 'GSM918643'\n",
      " 'GSM918644' 'GSM918645' 'GSM918646' 'GSM918647' 'GSM918648' 'GSM918649'\n",
      " 'GSM918650' 'GSM918651' 'GSM918652' 'GSM918653']\n"
     ]
    }
   ],
   "source": [
    "classes = np.unique(y_samples)\n",
    "n_classes = len(classes)\n",
    "print('Total number of classes = ', n_classes) #there are 76 unique values as we expect\n",
    "print('Output classes = ', classes)"
   ]
  },
  {
   "cell_type": "code",
   "execution_count": 17,
   "metadata": {},
   "outputs": [
    {
     "data": {
      "text/plain": [
       "True"
      ]
     },
     "execution_count": 17,
     "metadata": {},
     "output_type": "execute_result"
    }
   ],
   "source": [
    "#sanity check\n",
    "(X_samples == y_samples).all()"
   ]
  },
  {
   "cell_type": "code",
   "execution_count": 18,
   "metadata": {},
   "outputs": [],
   "source": [
    "y.drop(['samples'],axis=1, inplace=True)"
   ]
  },
  {
   "cell_type": "code",
   "execution_count": 19,
   "metadata": {},
   "outputs": [
    {
     "data": {
      "text/html": [
       "<div>\n",
       "<style scoped>\n",
       "    .dataframe tbody tr th:only-of-type {\n",
       "        vertical-align: middle;\n",
       "    }\n",
       "\n",
       "    .dataframe tbody tr th {\n",
       "        vertical-align: top;\n",
       "    }\n",
       "\n",
       "    .dataframe thead th {\n",
       "        text-align: right;\n",
       "    }\n",
       "</style>\n",
       "<table border=\"1\" class=\"dataframe\">\n",
       "  <thead>\n",
       "    <tr style=\"text-align: right;\">\n",
       "      <th></th>\n",
       "      <th>index</th>\n",
       "      <th>class</th>\n",
       "    </tr>\n",
       "  </thead>\n",
       "  <tbody>\n",
       "    <tr>\n",
       "      <th>0</th>\n",
       "      <td>0</td>\n",
       "      <td>MB-CL</td>\n",
       "    </tr>\n",
       "    <tr>\n",
       "      <th>1</th>\n",
       "      <td>1</td>\n",
       "      <td>MB-CL</td>\n",
       "    </tr>\n",
       "    <tr>\n",
       "      <th>2</th>\n",
       "      <td>2</td>\n",
       "      <td>MB-CL</td>\n",
       "    </tr>\n",
       "    <tr>\n",
       "      <th>3</th>\n",
       "      <td>3</td>\n",
       "      <td>MB-CL</td>\n",
       "    </tr>\n",
       "    <tr>\n",
       "      <th>4</th>\n",
       "      <td>4</td>\n",
       "      <td>Other</td>\n",
       "    </tr>\n",
       "    <tr>\n",
       "      <th>...</th>\n",
       "      <td>...</td>\n",
       "      <td>...</td>\n",
       "    </tr>\n",
       "    <tr>\n",
       "      <th>71</th>\n",
       "      <td>71</td>\n",
       "      <td>Other</td>\n",
       "    </tr>\n",
       "    <tr>\n",
       "      <th>72</th>\n",
       "      <td>72</td>\n",
       "      <td>MB-CL</td>\n",
       "    </tr>\n",
       "    <tr>\n",
       "      <th>73</th>\n",
       "      <td>73</td>\n",
       "      <td>Other</td>\n",
       "    </tr>\n",
       "    <tr>\n",
       "      <th>74</th>\n",
       "      <td>74</td>\n",
       "      <td>MB-CL</td>\n",
       "    </tr>\n",
       "    <tr>\n",
       "      <th>75</th>\n",
       "      <td>75</td>\n",
       "      <td>MB-CL</td>\n",
       "    </tr>\n",
       "  </tbody>\n",
       "</table>\n",
       "<p>76 rows × 2 columns</p>\n",
       "</div>"
      ],
      "text/plain": [
       "    index  class\n",
       "0       0  MB-CL\n",
       "1       1  MB-CL\n",
       "2       2  MB-CL\n",
       "3       3  MB-CL\n",
       "4       4  Other\n",
       "..    ...    ...\n",
       "71     71  Other\n",
       "72     72  MB-CL\n",
       "73     73  Other\n",
       "74     74  MB-CL\n",
       "75     75  MB-CL\n",
       "\n",
       "[76 rows x 2 columns]"
      ]
     },
     "execution_count": 19,
     "metadata": {},
     "output_type": "execute_result"
    }
   ],
   "source": [
    "y = y.reset_index()\n",
    "y"
   ]
  },
  {
   "cell_type": "code",
   "execution_count": 20,
   "metadata": {},
   "outputs": [],
   "source": [
    "y.drop('index',axis=1,inplace=True)"
   ]
  },
  {
   "cell_type": "code",
   "execution_count": 21,
   "metadata": {},
   "outputs": [
    {
     "data": {
      "text/html": [
       "<div>\n",
       "<style scoped>\n",
       "    .dataframe tbody tr th:only-of-type {\n",
       "        vertical-align: middle;\n",
       "    }\n",
       "\n",
       "    .dataframe tbody tr th {\n",
       "        vertical-align: top;\n",
       "    }\n",
       "\n",
       "    .dataframe thead th {\n",
       "        text-align: right;\n",
       "    }\n",
       "</style>\n",
       "<table border=\"1\" class=\"dataframe\">\n",
       "  <thead>\n",
       "    <tr style=\"text-align: right;\">\n",
       "      <th></th>\n",
       "      <th>class</th>\n",
       "    </tr>\n",
       "  </thead>\n",
       "  <tbody>\n",
       "    <tr>\n",
       "      <th>0</th>\n",
       "      <td>MB-CL</td>\n",
       "    </tr>\n",
       "    <tr>\n",
       "      <th>1</th>\n",
       "      <td>MB-CL</td>\n",
       "    </tr>\n",
       "    <tr>\n",
       "      <th>2</th>\n",
       "      <td>MB-CL</td>\n",
       "    </tr>\n",
       "    <tr>\n",
       "      <th>3</th>\n",
       "      <td>MB-CL</td>\n",
       "    </tr>\n",
       "    <tr>\n",
       "      <th>4</th>\n",
       "      <td>Other</td>\n",
       "    </tr>\n",
       "    <tr>\n",
       "      <th>...</th>\n",
       "      <td>...</td>\n",
       "    </tr>\n",
       "    <tr>\n",
       "      <th>71</th>\n",
       "      <td>Other</td>\n",
       "    </tr>\n",
       "    <tr>\n",
       "      <th>72</th>\n",
       "      <td>MB-CL</td>\n",
       "    </tr>\n",
       "    <tr>\n",
       "      <th>73</th>\n",
       "      <td>Other</td>\n",
       "    </tr>\n",
       "    <tr>\n",
       "      <th>74</th>\n",
       "      <td>MB-CL</td>\n",
       "    </tr>\n",
       "    <tr>\n",
       "      <th>75</th>\n",
       "      <td>MB-CL</td>\n",
       "    </tr>\n",
       "  </tbody>\n",
       "</table>\n",
       "<p>76 rows × 1 columns</p>\n",
       "</div>"
      ],
      "text/plain": [
       "    class\n",
       "0   MB-CL\n",
       "1   MB-CL\n",
       "2   MB-CL\n",
       "3   MB-CL\n",
       "4   Other\n",
       "..    ...\n",
       "71  Other\n",
       "72  MB-CL\n",
       "73  Other\n",
       "74  MB-CL\n",
       "75  MB-CL\n",
       "\n",
       "[76 rows x 1 columns]"
      ]
     },
     "execution_count": 21,
     "metadata": {},
     "output_type": "execute_result"
    }
   ],
   "source": [
    "y"
   ]
  },
  {
   "cell_type": "markdown",
   "metadata": {},
   "source": [
    "## 2. Dimensionality Reduction"
   ]
  },
  {
   "cell_type": "markdown",
   "metadata": {},
   "source": [
    "As you already noticed the number of features (genes) is extremely high when compared to the number of objects to cluster (samples). In this context, you should perform dimensionality reduction, that is, reduce the number of features, in two ways:\n",
    "\n",
    "* [**Removing features with low variance**](http://scikit-learn.org/stable/modules/feature_selection.html)\n",
    "\n",
    "* [**Using Principal Component Analysis**](http://scikit-learn.org/stable/modules/generated/sklearn.decomposition.PCA.html)\n",
    "\n",
    "At the end of this step you should have two new matrices with the same number of rows, each with a different number of columns (features): **X_variance** and **X_PCA**. \n",
    "\n",
    "**Don't change X you will need it!**"
   ]
  },
  {
   "cell_type": "markdown",
   "metadata": {},
   "source": [
    "## 2.1 Removing features with low variance"
   ]
  },
  {
   "cell_type": "markdown",
   "metadata": {},
   "source": [
    "- A low variance feature means a feature that lacks information. In our X dataframe we have different variables which take different values and, as such, they have different variances. So we will scaling the features to compare their information on the same scale."
   ]
  },
  {
   "cell_type": "markdown",
   "metadata": {},
   "source": [
    "- All columns with variance lower than a given threshold are removed. A word of caution: variance is range dependent; therefore normalization is required before applying this technique."
   ]
  },
  {
   "cell_type": "markdown",
   "metadata": {},
   "source": [
    "- Usually, VarianceThreshold is used to remove features with variance equal to zero, that is constants that provide no information whatsoever."
   ]
  },
  {
   "cell_type": "markdown",
   "metadata": {},
   "source": [
    "- In order to remove features with low variance, we need first to define what is the reasonable threshold for that specific feature."
   ]
  },
  {
   "cell_type": "markdown",
   "metadata": {},
   "source": [
    "    - StandardScaler: all your features will be cenetered and normed, so their mean will be zero, and variance 1 (except for the constants, of course)\n",
    "    - MinMaxScaler by default will bring your features into a range [0;1] (the basic idea of minmaxscaler is to normalize your data that means you will have less variance in it.)"
   ]
  },
  {
   "cell_type": "code",
   "execution_count": 22,
   "metadata": {},
   "outputs": [],
   "source": [
    "from sklearn.model_selection import train_test_split\n",
    "from sklearn.preprocessing import StandardScaler\n",
    "from sklearn import preprocessing\n",
    "from sklearn.feature_selection import VarianceThreshold\n",
    "from sklearn.decomposition import PCA"
   ]
  },
  {
   "cell_type": "code",
   "execution_count": 23,
   "metadata": {},
   "outputs": [],
   "source": [
    "threshold_n=[0.95,0.9,0.85,0.8,0.75,0.7,0.65,0.6,0.55,0.5,0.45,0.4,0.35,0.3,0.25,0.2,0.15,0.1,0.05,0.0]"
   ]
  },
  {
   "cell_type": "code",
   "execution_count": 24,
   "metadata": {},
   "outputs": [],
   "source": [
    "low_var_pd = []\n",
    "for i in threshold_n:\n",
    "    constant_filter = VarianceThreshold(threshold=i)\n",
    "    constant_filter.fit(X)\n",
    "    low_var_pd.append((i, \n",
    "                      len(X.columns[constant_filter.get_support()]), \n",
    "                       len(X.columns)-len(X.columns[constant_filter.get_support()])))"
   ]
  },
  {
   "cell_type": "code",
   "execution_count": 25,
   "metadata": {},
   "outputs": [
    {
     "data": {
      "text/html": [
       "<div>\n",
       "<style scoped>\n",
       "    .dataframe tbody tr th:only-of-type {\n",
       "        vertical-align: middle;\n",
       "    }\n",
       "\n",
       "    .dataframe tbody tr th {\n",
       "        vertical-align: top;\n",
       "    }\n",
       "\n",
       "    .dataframe thead th {\n",
       "        text-align: right;\n",
       "    }\n",
       "</style>\n",
       "<table border=\"1\" class=\"dataframe\">\n",
       "  <thead>\n",
       "    <tr style=\"text-align: right;\">\n",
       "      <th></th>\n",
       "      <th>Threshold</th>\n",
       "      <th>Columns Remaining</th>\n",
       "      <th>Columns Removed</th>\n",
       "    </tr>\n",
       "  </thead>\n",
       "  <tbody>\n",
       "    <tr>\n",
       "      <th>0</th>\n",
       "      <td>0.95</td>\n",
       "      <td>2256</td>\n",
       "      <td>52419</td>\n",
       "    </tr>\n",
       "    <tr>\n",
       "      <th>1</th>\n",
       "      <td>0.90</td>\n",
       "      <td>2527</td>\n",
       "      <td>52148</td>\n",
       "    </tr>\n",
       "    <tr>\n",
       "      <th>2</th>\n",
       "      <td>0.85</td>\n",
       "      <td>2861</td>\n",
       "      <td>51814</td>\n",
       "    </tr>\n",
       "    <tr>\n",
       "      <th>3</th>\n",
       "      <td>0.80</td>\n",
       "      <td>3257</td>\n",
       "      <td>51418</td>\n",
       "    </tr>\n",
       "    <tr>\n",
       "      <th>4</th>\n",
       "      <td>0.75</td>\n",
       "      <td>3658</td>\n",
       "      <td>51017</td>\n",
       "    </tr>\n",
       "    <tr>\n",
       "      <th>5</th>\n",
       "      <td>0.70</td>\n",
       "      <td>4201</td>\n",
       "      <td>50474</td>\n",
       "    </tr>\n",
       "    <tr>\n",
       "      <th>6</th>\n",
       "      <td>0.65</td>\n",
       "      <td>4800</td>\n",
       "      <td>49875</td>\n",
       "    </tr>\n",
       "    <tr>\n",
       "      <th>7</th>\n",
       "      <td>0.60</td>\n",
       "      <td>5530</td>\n",
       "      <td>49145</td>\n",
       "    </tr>\n",
       "    <tr>\n",
       "      <th>8</th>\n",
       "      <td>0.55</td>\n",
       "      <td>6436</td>\n",
       "      <td>48239</td>\n",
       "    </tr>\n",
       "    <tr>\n",
       "      <th>9</th>\n",
       "      <td>0.50</td>\n",
       "      <td>7533</td>\n",
       "      <td>47142</td>\n",
       "    </tr>\n",
       "    <tr>\n",
       "      <th>10</th>\n",
       "      <td>0.45</td>\n",
       "      <td>9036</td>\n",
       "      <td>45639</td>\n",
       "    </tr>\n",
       "    <tr>\n",
       "      <th>11</th>\n",
       "      <td>0.40</td>\n",
       "      <td>11036</td>\n",
       "      <td>43639</td>\n",
       "    </tr>\n",
       "    <tr>\n",
       "      <th>12</th>\n",
       "      <td>0.35</td>\n",
       "      <td>13754</td>\n",
       "      <td>40921</td>\n",
       "    </tr>\n",
       "    <tr>\n",
       "      <th>13</th>\n",
       "      <td>0.30</td>\n",
       "      <td>18063</td>\n",
       "      <td>36612</td>\n",
       "    </tr>\n",
       "    <tr>\n",
       "      <th>14</th>\n",
       "      <td>0.25</td>\n",
       "      <td>25123</td>\n",
       "      <td>29552</td>\n",
       "    </tr>\n",
       "    <tr>\n",
       "      <th>15</th>\n",
       "      <td>0.20</td>\n",
       "      <td>34456</td>\n",
       "      <td>20219</td>\n",
       "    </tr>\n",
       "    <tr>\n",
       "      <th>16</th>\n",
       "      <td>0.15</td>\n",
       "      <td>43175</td>\n",
       "      <td>11500</td>\n",
       "    </tr>\n",
       "    <tr>\n",
       "      <th>17</th>\n",
       "      <td>0.10</td>\n",
       "      <td>50362</td>\n",
       "      <td>4313</td>\n",
       "    </tr>\n",
       "    <tr>\n",
       "      <th>18</th>\n",
       "      <td>0.05</td>\n",
       "      <td>54230</td>\n",
       "      <td>445</td>\n",
       "    </tr>\n",
       "    <tr>\n",
       "      <th>19</th>\n",
       "      <td>0.00</td>\n",
       "      <td>54675</td>\n",
       "      <td>0</td>\n",
       "    </tr>\n",
       "  </tbody>\n",
       "</table>\n",
       "</div>"
      ],
      "text/plain": [
       "    Threshold  Columns Remaining  Columns Removed\n",
       "0        0.95               2256            52419\n",
       "1        0.90               2527            52148\n",
       "2        0.85               2861            51814\n",
       "3        0.80               3257            51418\n",
       "4        0.75               3658            51017\n",
       "5        0.70               4201            50474\n",
       "6        0.65               4800            49875\n",
       "7        0.60               5530            49145\n",
       "8        0.55               6436            48239\n",
       "9        0.50               7533            47142\n",
       "10       0.45               9036            45639\n",
       "11       0.40              11036            43639\n",
       "12       0.35              13754            40921\n",
       "13       0.30              18063            36612\n",
       "14       0.25              25123            29552\n",
       "15       0.20              34456            20219\n",
       "16       0.15              43175            11500\n",
       "17       0.10              50362             4313\n",
       "18       0.05              54230              445\n",
       "19       0.00              54675                0"
      ]
     },
     "execution_count": 25,
     "metadata": {},
     "output_type": "execute_result"
    }
   ],
   "source": [
    "low_var_pd = pd.DataFrame(low_var_pd, columns=('Threshold', 'Columns Remaining', 'Columns Removed'))\n",
    "low_var_pd"
   ]
  },
  {
   "cell_type": "markdown",
   "metadata": {},
   "source": [
    "We decided to go with a variance of 0.8 because--"
   ]
  },
  {
   "cell_type": "code",
   "execution_count": 26,
   "metadata": {},
   "outputs": [],
   "source": [
    "selector = VarianceThreshold(0.8)\n",
    "selector= selector.fit(X)"
   ]
  },
  {
   "cell_type": "code",
   "execution_count": 27,
   "metadata": {},
   "outputs": [],
   "source": [
    "X_low_variance = X.loc[:, selector.get_support()]"
   ]
  },
  {
   "cell_type": "code",
   "execution_count": 28,
   "metadata": {},
   "outputs": [
    {
     "data": {
      "text/plain": [
       "<matplotlib.axes._subplots.AxesSubplot at 0x125828310>"
      ]
     },
     "execution_count": 28,
     "metadata": {},
     "output_type": "execute_result"
    },
    {
     "data": {
      "image/png": "[encoded data removed]",
      "text/plain": [
       "<Figure size 432x288 with 1 Axes>"
      ]
     },
     "metadata": {
      "needs_background": "light"
     },
     "output_type": "display_data"
    },
    {
     "data": {
      "image/png": "[encoded data removed]",
      "text/plain": [
       "<Figure size 432x288 with 1 Axes>"
      ]
     },
     "metadata": {
      "needs_background": "light"
     },
     "output_type": "display_data"
    }
   ],
   "source": [
    "low_var_pd.plot.line(x='Threshold', y='Columns Removed', c='r')\n",
    "low_var_pd.plot.line(x='Threshold', y='Columns Remaining', c='g')"
   ]
  },
  {
   "cell_type": "markdown",
   "metadata": {},
   "source": [
    "conclusion dos gráficos?"
   ]
  },
  {
   "cell_type": "markdown",
   "metadata": {},
   "source": [
    "## 2.2 Using Principal Component Analysis"
   ]
  },
  {
   "cell_type": "code",
   "execution_count": 29,
   "metadata": {},
   "outputs": [
    {
     "data": {
      "image/png": "[encoded data removed]",
      "text/plain": [
       "<Figure size 432x288 with 1 Axes>"
      ]
     },
     "metadata": {
      "needs_background": "light"
     },
     "output_type": "display_data"
    }
   ],
   "source": [
    "pca = PCA().fit(X) \n",
    "plt.plot(np.cumsum(pca.explained_variance_ratio_))\n",
    "plt.xlabel('number of components')\n",
    "plt.ylabel('cumulative explained variance');"
   ]
  },
  {
   "cell_type": "markdown",
   "metadata": {},
   "source": [
    "As we can see the first 10 components contain approximately 50% of the variance\n",
    "\n",
    "We'd need about 50 components to retain 90% of the variance (we would recover most of the essential characteristics of X_train)"
   ]
  },
  {
   "cell_type": "code",
   "execution_count": 30,
   "metadata": {},
   "outputs": [],
   "source": [
    "pca = PCA(0.95)\n",
    "X_pca = pca.fit_transform(X)"
   ]
  },
  {
   "cell_type": "code",
   "execution_count": 31,
   "metadata": {},
   "outputs": [],
   "source": [
    "explained_variance = pca.explained_variance_ratio_"
   ]
  },
  {
   "cell_type": "code",
   "execution_count": 32,
   "metadata": {},
   "outputs": [
    {
     "name": "stdout",
     "output_type": "stream",
     "text": [
      "Explained Variance: 66\n"
     ]
    }
   ],
   "source": [
    "print(\"Explained Variance: %s\" % len(pca.explained_variance_ratio_))"
   ]
  },
  {
   "cell_type": "markdown",
   "metadata": {},
   "source": [
    "At the end of this step you should have two new matrices with the same number of rows, each with a different number of columns (features): X_variance and X_PCA."
   ]
  },
  {
   "cell_type": "code",
   "execution_count": 33,
   "metadata": {},
   "outputs": [],
   "source": [
    "X_variance = X_low_variance\n",
    "X_PCA = X_pca"
   ]
  },
  {
   "cell_type": "code",
   "execution_count": 34,
   "metadata": {},
   "outputs": [
    {
     "data": {
      "text/plain": [
       "(76, 3257)"
      ]
     },
     "execution_count": 34,
     "metadata": {},
     "output_type": "execute_result"
    }
   ],
   "source": [
    "X_variance.shape"
   ]
  },
  {
   "cell_type": "code",
   "execution_count": 35,
   "metadata": {},
   "outputs": [
    {
     "data": {
      "text/plain": [
       "(76, 66)"
      ]
     },
     "execution_count": 35,
     "metadata": {},
     "output_type": "execute_result"
    }
   ],
   "source": [
    "X_PCA.shape"
   ]
  },
  {
   "cell_type": "markdown",
   "metadata": {},
   "source": [
    "With Removing features with low variance it reduced the number of features to 3257\n",
    "\n",
    "And with PCA to 66 features"
   ]
  },
  {
   "cell_type": "markdown",
   "metadata": {},
   "source": [
    "## 3. Clustering Samples using Partitional Clustering"
   ]
  },
  {
   "cell_type": "markdown",
   "metadata": {},
   "source": [
    "Use **`K`-means** to cluster the samples:\n",
    "\n",
    "* Cluster the original data (54.675 features): **X**.\n",
    "    * Use different values of `K`.\n",
    "    * For each value of `K` present the clustering by specifying how many samples MB-CL and Other are in each cluster.     \n",
    "    For instance, `{0: {'MB-CL': 51, 'Other': 0}, 1: {'MB-CL': 0, 'Other': 25}}` is the ideal clustering that we aimed at obtained with K-means when `K=2`, where the first cluster has 51 MB-CL samples and 0 Other samples and the second cluster has 0 MB-CL samples and 25 Other samples.\n",
    "    You can choose how to output this information.  **Tip**: You can explore the usage of contigency matrices.\n",
    "    * What is the best value of `K` ? Justify using the clustering results and the [Silhouette score](http://scikit-learn.org/stable/modules/generated/sklearn.metrics.silhouette_score.html).\n",
    "\n",
    "* Cluster the data obtained after removing features with low variance: **X_variance**.\n",
    "    * Study different values of `K` as above.\n",
    "\n",
    "* Cluster the data obtained after applying PCA: **X_PCA**.\n",
    "    * Study different values of `K` as above.\n",
    "\n",
    "* Compare the results obtained in the three datasets above for the best `K`. \n",
    "* Discuss the results."
   ]
  },
  {
   "cell_type": "code",
   "execution_count": 36,
   "metadata": {},
   "outputs": [],
   "source": [
    "from collections import Counter\n",
    "from sklearn.cluster import KMeans\n",
    "from sklearn.metrics import silhouette_score"
   ]
  },
  {
   "cell_type": "markdown",
   "metadata": {},
   "source": [
    "This function does: ------"
   ]
  },
  {
   "cell_type": "code",
   "execution_count": 37,
   "metadata": {},
   "outputs": [],
   "source": [
    "def get_samples_per_cluster_kmeans(k, X):\n",
    "    labels = np.array(y['class'])\n",
    "    for k in range(2, k):\n",
    "        kmeans = KMeans(n_clusters=k, random_state=0).fit(X)\n",
    "        pred_classes = kmeans.labels_\n",
    "        print('For K =', k)\n",
    "        for i in np.array(np.unique(pred_classes)):\n",
    "            print('Cluster ', i, dict(Counter(labels[np.where(pred_classes == i)]))) "
   ]
  },
  {
   "cell_type": "code",
   "execution_count": 38,
   "metadata": {},
   "outputs": [],
   "source": [
    "def get_ss_kmeans(k,X):\n",
    "    slc = {}\n",
    "    for k in range(2, k):\n",
    "        kmeans = KMeans(n_clusters=k, random_state=0).fit(X)\n",
    "        pred_classes = kmeans.labels_\n",
    "        slc[k] = silhouette_score(X,pred_classes)\n",
    "        print(\"For K =\", k, \"The avg SS is :\", np.round(silhouette_score(X, pred_classes),2))\n",
    "    plt.figure()\n",
    "    plt.plot(list(slc.keys()), list(slc.values()))\n",
    "    plt.xlabel(\"Number of clusters K\")\n",
    "    plt.ylabel(\"Silhouette scores\")\n",
    "    plt.show()  "
   ]
  },
  {
   "cell_type": "code",
   "execution_count": 39,
   "metadata": {},
   "outputs": [],
   "source": [
    "def comparing_ss_kmeans(k,X1, X2, X3):\n",
    "    slc1, slc2, slc3 = {}, {}, {}\n",
    "    for k in range(2, k):\n",
    "        kmeans1 = KMeans(n_clusters=k, random_state=0).fit(X1)\n",
    "        pred_classes1 = kmeans1.labels_\n",
    "        slc1[k] = silhouette_score(X1,pred_classes1)\n",
    "        \n",
    "        kmeans2 = KMeans(n_clusters=k, random_state=0).fit(X2)\n",
    "        pred_classes2 = kmeans2.labels_\n",
    "        slc2[k] = silhouette_score(X2,pred_classes2)\n",
    "        \n",
    "        kmeans3 = KMeans(n_clusters=k, random_state=0).fit(X3)\n",
    "        pred_classes3 = kmeans3.labels_\n",
    "        slc3[k] = silhouette_score(X3,pred_classes3)\n",
    "        \n",
    "    plt.figure()\n",
    "    plt.plot(list(slc1.keys()), list(slc1.values()), label='X')\n",
    "    plt.legend(loc=\"upper right\")\n",
    "    plt.plot(list(slc2.keys()), list(slc2.values()), label='X_variance')\n",
    "    plt.legend(loc=\"upper right\")\n",
    "    plt.plot(list(slc3.keys()), list(slc3.values()), label='X_PCA')\n",
    "    plt.legend(loc=\"upper right\")\n",
    "    plt.xlabel(\"Number of Clusters K\")\n",
    "    plt.ylabel(\"Silhouette Scores\")\n",
    "    plt.title('Comparing SS')\n",
    "    plt.show()  "
   ]
  },
  {
   "cell_type": "markdown",
   "metadata": {},
   "source": [
    "## 3.1 For the original data X"
   ]
  },
  {
   "cell_type": "markdown",
   "metadata": {},
   "source": [
    "* Cluster the original data (54.675 features): **X**.\n",
    "    * Use different values of `K`.\n",
    "    * For each value of `K` present the clustering by specifying how many samples MB-CL and Other are in each cluster.     \n",
    "    For instance, `{0: {'MB-CL': 51, 'Other': 0}, 1: {'MB-CL': 0, 'Other': 25}}` is the ideal clustering that we aimed at obtained with K-means when `K=2`, where the first cluster has 51 MB-CL samples and 0 Other samples and the second cluster has 0 MB-CL samples and 25 Other samples.\n",
    "    You can choose how to output this information.  **Tip**: You can explore the usage of contigency matrices.\n",
    "    * What is the best value of `K` ? Justify using the clustering results and the [Silhouette score](http://scikit-learn.org/stable/modules/generated/sklearn.metrics.silhouette_score.html).\n",
    "\n"
   ]
  },
  {
   "cell_type": "code",
   "execution_count": 41,
   "metadata": {},
   "outputs": [
    {
     "name": "stdout",
     "output_type": "stream",
     "text": [
      "For K = 2\n",
      "Cluster  0 {'MB-CL': 11, 'Other': 9}\n",
      "Cluster  1 {'MB-CL': 40, 'Other': 16}\n",
      "For K = 3\n",
      "Cluster  0 {'Other': 7, 'MB-CL': 6}\n",
      "Cluster  1 {'MB-CL': 34, 'Other': 8}\n",
      "Cluster  2 {'MB-CL': 11, 'Other': 10}\n",
      "For K = 4\n",
      "Cluster  0 {'Other': 12, 'MB-CL': 14}\n",
      "Cluster  1 {'MB-CL': 26, 'Other': 4}\n",
      "Cluster  2 {'MB-CL': 8}\n",
      "Cluster  3 {'Other': 9, 'MB-CL': 3}\n",
      "For K = 5\n",
      "Cluster  0 {'Other': 8, 'MB-CL': 6}\n",
      "Cluster  1 {'MB-CL': 13, 'Other': 2}\n",
      "Cluster  2 {'Other': 8, 'MB-CL': 3}\n",
      "Cluster  3 {'MB-CL': 8, 'Other': 2}\n",
      "Cluster  4 {'MB-CL': 21, 'Other': 5}\n"
     ]
    }
   ],
   "source": [
    "get_samples_per_cluster_kmeans(6, X) "
   ]
  },
  {
   "cell_type": "code",
   "execution_count": 42,
   "metadata": {},
   "outputs": [
    {
     "name": "stdout",
     "output_type": "stream",
     "text": [
      "For K = 2 The avg SS is : 0.1\n",
      "For K = 3 The avg SS is : 0.08\n",
      "For K = 4 The avg SS is : 0.08\n",
      "For K = 5 The avg SS is : 0.08\n"
     ]
    },
    {
     "data": {
      "image/png": "[encoded data removed]",
      "text/plain": [
       "<Figure size 432x288 with 1 Axes>"
      ]
     },
     "metadata": {
      "needs_background": "light"
     },
     "output_type": "display_data"
    }
   ],
   "source": [
    "get_ss_kmeans(6,X)"
   ]
  },
  {
   "cell_type": "markdown",
   "metadata": {},
   "source": [
    "## 3.2 X_variance"
   ]
  },
  {
   "cell_type": "code",
   "execution_count": 43,
   "metadata": {},
   "outputs": [
    {
     "name": "stdout",
     "output_type": "stream",
     "text": [
      "For K = 2\n",
      "Cluster  0 {'MB-CL': 11, 'Other': 10}\n",
      "Cluster  1 {'MB-CL': 40, 'Other': 15}\n",
      "For K = 3\n",
      "Cluster  0 {'Other': 8, 'MB-CL': 8}\n",
      "Cluster  1 {'MB-CL': 32, 'Other': 7}\n",
      "Cluster  2 {'MB-CL': 11, 'Other': 10}\n",
      "For K = 4\n",
      "Cluster  0 {'Other': 8, 'MB-CL': 3}\n",
      "Cluster  1 {'Other': 13, 'MB-CL': 18}\n",
      "Cluster  2 {'MB-CL': 8}\n",
      "Cluster  3 {'MB-CL': 22, 'Other': 4}\n",
      "For K = 5\n",
      "Cluster  0 {'Other': 8, 'MB-CL': 3}\n",
      "Cluster  1 {'Other': 10, 'MB-CL': 7}\n",
      "Cluster  2 {'MB-CL': 20, 'Other': 4}\n",
      "Cluster  3 {'MB-CL': 13, 'Other': 3}\n",
      "Cluster  4 {'MB-CL': 8}\n"
     ]
    }
   ],
   "source": [
    "get_samples_per_cluster_kmeans(6, X_variance)"
   ]
  },
  {
   "cell_type": "code",
   "execution_count": 44,
   "metadata": {},
   "outputs": [
    {
     "name": "stdout",
     "output_type": "stream",
     "text": [
      "For K = 2 The avg SS is : 0.2\n",
      "For K = 3 The avg SS is : 0.16\n",
      "For K = 4 The avg SS is : 0.18\n",
      "For K = 5 The avg SS is : 0.14\n"
     ]
    },
    {
     "data": {
      "image/png": "[encoded data removed]",
      "text/plain": [
       "<Figure size 432x288 with 1 Axes>"
      ]
     },
     "metadata": {
      "needs_background": "light"
     },
     "output_type": "display_data"
    }
   ],
   "source": [
    "get_ss_kmeans(6,X_variance)"
   ]
  },
  {
   "cell_type": "markdown",
   "metadata": {},
   "source": [
    "## 3.3 X_PCA"
   ]
  },
  {
   "cell_type": "code",
   "execution_count": 45,
   "metadata": {},
   "outputs": [
    {
     "name": "stdout",
     "output_type": "stream",
     "text": [
      "For K = 2\n",
      "Cluster  0 {'MB-CL': 40, 'Other': 15}\n",
      "Cluster  1 {'MB-CL': 11, 'Other': 10}\n",
      "For K = 3\n",
      "Cluster  0 {'Other': 7, 'MB-CL': 6}\n",
      "Cluster  1 {'MB-CL': 34, 'Other': 8}\n",
      "Cluster  2 {'MB-CL': 11, 'Other': 10}\n",
      "For K = 4\n",
      "Cluster  0 {'Other': 12, 'MB-CL': 17}\n",
      "Cluster  1 {'MB-CL': 23, 'Other': 4}\n",
      "Cluster  2 {'MB-CL': 8}\n",
      "Cluster  3 {'Other': 9, 'MB-CL': 3}\n",
      "For K = 5\n",
      "Cluster  0 {'Other': 9, 'MB-CL': 12}\n",
      "Cluster  1 {'MB-CL': 17, 'Other': 5}\n",
      "Cluster  2 {'MB-CL': 8}\n",
      "Cluster  3 {'Other': 9, 'MB-CL': 3}\n",
      "Cluster  4 {'MB-CL': 11, 'Other': 2}\n"
     ]
    }
   ],
   "source": [
    "get_samples_per_cluster_kmeans(6, X_PCA)"
   ]
  },
  {
   "cell_type": "code",
   "execution_count": 46,
   "metadata": {},
   "outputs": [
    {
     "name": "stdout",
     "output_type": "stream",
     "text": [
      "For K = 2 The avg SS is : 0.11\n",
      "For K = 3 The avg SS is : 0.09\n",
      "For K = 4 The avg SS is : 0.09\n",
      "For K = 5 The avg SS is : 0.08\n"
     ]
    },
    {
     "data": {
      "image/png": "[encoded data removed]",
      "text/plain": [
       "<Figure size 432x288 with 1 Axes>"
      ]
     },
     "metadata": {
      "needs_background": "light"
     },
     "output_type": "display_data"
    }
   ],
   "source": [
    "get_ss_kmeans(6,X_PCA)"
   ]
  },
  {
   "cell_type": "markdown",
   "metadata": {},
   "source": [
    "## 3.4 Comparing all"
   ]
  },
  {
   "cell_type": "code",
   "execution_count": 47,
   "metadata": {},
   "outputs": [
    {
     "data": {
      "image/png": "[encoded data removed]",
      "text/plain": [
       "<Figure size 432x288 with 1 Axes>"
      ]
     },
     "metadata": {
      "needs_background": "light"
     },
     "output_type": "display_data"
    }
   ],
   "source": [
    "comparing_ss_kmeans(6,X, X_variance, X_PCA)"
   ]
  },
  {
   "cell_type": "markdown",
   "metadata": {},
   "source": [
    "\n",
    "- Partitional clustering divides data objects into nonoverlapping groups. As such, object can be a member of more than one cluster, and every cluster must have at least one object.\n",
    "\n",
    "- Silhouette score is used to evaluate the quality of clusters (how well samples are clustered with other samples that are similar to each other.)\n",
    "\n",
    "\n",
    "- For all three datasets, we observed that the best K (the one that yieled the highest Silhouette Score) was 2, meaning that there are two clusters - which could indicate that when we proceed with feature selection with the selected variance threshold in (2), 2 can be the number of optimal clusters).\n",
    "\n",
    "- Keeping in mind that the best value for the SS is 1 and that values near 0 indicate overlapping clusters, we observed that when K=2, the average SS was the highest for the X_variance dataset (0.2), followed by X_PCA (0.12) and lastly the original X (0.1)"
   ]
  },
  {
   "cell_type": "markdown",
   "metadata": {},
   "source": [
    "## 4. Clustering Samples using Hierarchical Clustering"
   ]
  },
  {
   "cell_type": "markdown",
   "metadata": {},
   "source": [
    "Use a **Hierarchical Clustering Algorithm (HCA)** to cluster the samples: \n",
    "\n",
    "* Cluster the data in **X_variance**.\n",
    "    * Use **different linkage metrics**.\n",
    "    * Use different values of `K`.\n",
    "    * For each linkage metric and value of `K` present the clustering by specifying how many MB-CL and Other samples are in each cluster as you did before. \n",
    "    * What is the best linkage metric and the best value of `K`? Justify using the clustering results and the [Silhouette score](http://scikit-learn.org/stable/modules/generated/sklearn.metrics.silhouette_score.html).\n",
    "\n",
    "* Cluster the data in **X_PCA**.\n",
    "    * Study different linkage metrics and different values of `K` as above.\n",
    "\n",
    "* Compare the results obtained in the two datasets above for the best linkage metric and the best `K`. \n",
    "* Discuss the results"
   ]
  },
  {
   "cell_type": "code",
   "execution_count": 48,
   "metadata": {},
   "outputs": [],
   "source": [
    "from sklearn.cluster import AgglomerativeClustering"
   ]
  },
  {
   "cell_type": "markdown",
   "metadata": {},
   "source": [
    "descrever o q a função faz"
   ]
  },
  {
   "cell_type": "code",
   "execution_count": 50,
   "metadata": {},
   "outputs": [],
   "source": [
    "def get_samples_per_cluster_hca(k, X):\n",
    "    labels = np.array(y['class'])\n",
    "    linkage = ['ward', 'complete', 'average', 'single']\n",
    "    for k in range(2, k):\n",
    "        print('For K =', k)\n",
    "        for l in linkage:\n",
    "            print('Linkage method =',l)\n",
    "            clustering = AgglomerativeClustering(linkage=l,n_clusters=k).fit(X)\n",
    "            pred_classes = clustering.labels_\n",
    "            for i in np.array(np.unique(pred_classes)):\n",
    "                print('Cluster ', i, dict(Counter(labels[np.where(pred_classes == i)])))"
   ]
  },
  {
   "cell_type": "code",
   "execution_count": 51,
   "metadata": {},
   "outputs": [],
   "source": [
    "def comparing_ss_hca_methods(k,X):\n",
    "    slc1, slc2, slc3, slc4 = {}, {}, {}, {}\n",
    "    for k in range(2, k):\n",
    "        hca1 = AgglomerativeClustering(n_clusters=k, linkage='ward').fit(X)\n",
    "        pred_classes1 = hca1.labels_\n",
    "        slc1[k] = silhouette_score(X,pred_classes1)\n",
    "\n",
    "        hca2 = AgglomerativeClustering(n_clusters=k, linkage='complete').fit(X)\n",
    "        pred_classes2 = hca2.labels_\n",
    "        slc2[k] = silhouette_score(X,pred_classes2)\n",
    "\n",
    "        hca3 = AgglomerativeClustering(n_clusters=k, linkage='average').fit(X)\n",
    "        pred_classes3 = hca3.labels_\n",
    "        slc3[k] = silhouette_score(X,pred_classes3)\n",
    "             \n",
    "    plt.figure()\n",
    "    plt.plot(list(slc1.keys()), list(slc1.values()), label='Ward method')\n",
    "    plt.legend(loc=\"upper right\")\n",
    "    plt.plot(list(slc2.keys()), list(slc2.values()), label='Complete method')\n",
    "    plt.legend(loc=\"upper right\")\n",
    "    plt.plot(list(slc3.keys()), list(slc3.values()), label='Average method')\n",
    "    plt.legend(loc=\"upper right\")\n",
    "\n",
    "    plt.xlabel(\"Number of Clusters K\")\n",
    "    plt.ylabel(\"Silhouette Scores\")\n",
    "    plt.title('Comparing SS')\n",
    "    plt.show()  "
   ]
  },
  {
   "cell_type": "code",
   "execution_count": 55,
   "metadata": {},
   "outputs": [
    {
     "name": "stdout",
     "output_type": "stream",
     "text": [
      "For K = 2\n",
      "Linkage method = ward\n",
      "Cluster  0 {'MB-CL': 40, 'Other': 18}\n",
      "Cluster  1 {'MB-CL': 11, 'Other': 7}\n",
      "Linkage method = complete\n",
      "Cluster  0 {'MB-CL': 51, 'Other': 24}\n",
      "Cluster  1 {'Other': 1}\n",
      "Linkage method = average\n",
      "Cluster  0 {'MB-CL': 51, 'Other': 24}\n",
      "Cluster  1 {'Other': 1}\n",
      "Linkage method = single\n",
      "Cluster  0 {'MB-CL': 51, 'Other': 24}\n",
      "Cluster  1 {'Other': 1}\n",
      "For K = 3\n",
      "Linkage method = ward\n",
      "Cluster  0 {'MB-CL': 11, 'Other': 7}\n",
      "Cluster  1 {'MB-CL': 31, 'Other': 7}\n",
      "Cluster  2 {'Other': 11, 'MB-CL': 9}\n",
      "Linkage method = complete\n",
      "Cluster  0 {'MB-CL': 40, 'Other': 17}\n",
      "Cluster  1 {'Other': 1}\n",
      "Cluster  2 {'MB-CL': 11, 'Other': 7}\n",
      "Linkage method = average\n",
      "Cluster  0 {'MB-CL': 43, 'Other': 22}\n",
      "Cluster  1 {'Other': 1}\n",
      "Cluster  2 {'MB-CL': 8, 'Other': 2}\n",
      "Linkage method = single\n",
      "Cluster  0 {'MB-CL': 43, 'Other': 24}\n",
      "Cluster  1 {'Other': 1}\n",
      "Cluster  2 {'MB-CL': 8}\n",
      "For K = 4\n",
      "Linkage method = ward\n",
      "Cluster  0 {'MB-CL': 31, 'Other': 7}\n",
      "Cluster  1 {'MB-CL': 8}\n",
      "Cluster  2 {'Other': 11, 'MB-CL': 9}\n",
      "Cluster  3 {'Other': 7, 'MB-CL': 3}\n",
      "Linkage method = complete\n",
      "Cluster  0 {'MB-CL': 11, 'Other': 7}\n",
      "Cluster  1 {'MB-CL': 31, 'Other': 7}\n",
      "Cluster  2 {'Other': 10, 'MB-CL': 9}\n",
      "Cluster  3 {'Other': 1}\n",
      "Linkage method = average\n",
      "Cluster  0 {'MB-CL': 8, 'Other': 2}\n",
      "Cluster  1 {'Other': 7, 'MB-CL': 3}\n",
      "Cluster  2 {'MB-CL': 40, 'Other': 15}\n",
      "Cluster  3 {'Other': 1}\n",
      "Linkage method = single\n",
      "Cluster  0 {'MB-CL': 40, 'Other': 17}\n",
      "Cluster  1 {'Other': 7, 'MB-CL': 3}\n",
      "Cluster  2 {'MB-CL': 8}\n",
      "Cluster  3 {'Other': 1}\n",
      "For K = 5\n",
      "Linkage method = ward\n",
      "Cluster  0 {'Other': 11, 'MB-CL': 9}\n",
      "Cluster  1 {'Other': 3, 'MB-CL': 8}\n",
      "Cluster  2 {'MB-CL': 23, 'Other': 4}\n",
      "Cluster  3 {'Other': 7, 'MB-CL': 3}\n",
      "Cluster  4 {'MB-CL': 8}\n",
      "Linkage method = complete\n",
      "Cluster  0 {'Other': 10, 'MB-CL': 9}\n",
      "Cluster  1 {'MB-CL': 31, 'Other': 7}\n",
      "Cluster  2 {'MB-CL': 8}\n",
      "Cluster  3 {'Other': 1}\n",
      "Cluster  4 {'Other': 7, 'MB-CL': 3}\n",
      "Linkage method = average\n",
      "Cluster  0 {'MB-CL': 40, 'Other': 15}\n",
      "Cluster  1 {'MB-CL': 8}\n",
      "Cluster  2 {'Other': 2}\n",
      "Cluster  3 {'Other': 1}\n",
      "Cluster  4 {'Other': 7, 'MB-CL': 3}\n",
      "Linkage method = single\n",
      "Cluster  0 {'MB-CL': 40, 'Other': 16}\n",
      "Cluster  1 {'Other': 7, 'MB-CL': 3}\n",
      "Cluster  2 {'MB-CL': 8}\n",
      "Cluster  3 {'Other': 1}\n",
      "Cluster  4 {'Other': 1}\n"
     ]
    }
   ],
   "source": [
    "get_samples_per_cluster_hca(6, X_variance)"
   ]
  },
  {
   "cell_type": "code",
   "execution_count": 56,
   "metadata": {},
   "outputs": [
    {
     "name": "stdout",
     "output_type": "stream",
     "text": [
      "For K = 2\n",
      "Linkage method = ward\n",
      "Cluster  0 {'MB-CL': 21, 'Other': 18}\n",
      "Cluster  1 {'MB-CL': 30, 'Other': 7}\n",
      "Linkage method = complete\n",
      "Cluster  0 {'MB-CL': 50, 'Other': 24}\n",
      "Cluster  1 {'MB-CL': 1, 'Other': 1}\n",
      "Linkage method = average\n",
      "Cluster  0 {'MB-CL': 51, 'Other': 24}\n",
      "Cluster  1 {'Other': 1}\n",
      "Linkage method = single\n",
      "Cluster  0 {'MB-CL': 51, 'Other': 24}\n",
      "Cluster  1 {'Other': 1}\n",
      "For K = 3\n",
      "Linkage method = ward\n",
      "Cluster  0 {'MB-CL': 13, 'Other': 9}\n",
      "Cluster  1 {'MB-CL': 30, 'Other': 7}\n",
      "Cluster  2 {'Other': 9, 'MB-CL': 8}\n",
      "Linkage method = complete\n",
      "Cluster  0 {'MB-CL': 1, 'Other': 1}\n",
      "Cluster  1 {'MB-CL': 37, 'Other': 22}\n",
      "Cluster  2 {'MB-CL': 13, 'Other': 2}\n",
      "Linkage method = average\n",
      "Cluster  0 {'MB-CL': 50, 'Other': 24}\n",
      "Cluster  1 {'Other': 1}\n",
      "Cluster  2 {'MB-CL': 1}\n",
      "Linkage method = single\n",
      "Cluster  0 {'MB-CL': 50, 'Other': 24}\n",
      "Cluster  1 {'Other': 1}\n",
      "Cluster  2 {'MB-CL': 1}\n",
      "For K = 4\n",
      "Linkage method = ward\n",
      "Cluster  0 {'MB-CL': 30, 'Other': 7}\n",
      "Cluster  1 {'MB-CL': 10, 'Other': 2}\n",
      "Cluster  2 {'Other': 9, 'MB-CL': 8}\n",
      "Cluster  3 {'Other': 7, 'MB-CL': 3}\n",
      "Linkage method = complete\n",
      "Cluster  0 {'MB-CL': 37, 'Other': 22}\n",
      "Cluster  1 {'Other': 1}\n",
      "Cluster  2 {'MB-CL': 13, 'Other': 2}\n",
      "Cluster  3 {'MB-CL': 1}\n",
      "Linkage method = average\n",
      "Cluster  0 {'MB-CL': 45, 'Other': 24}\n",
      "Cluster  1 {'MB-CL': 5}\n",
      "Cluster  2 {'MB-CL': 1}\n",
      "Cluster  3 {'Other': 1}\n",
      "Linkage method = single\n",
      "Cluster  0 {'MB-CL': 49, 'Other': 24}\n",
      "Cluster  1 {'MB-CL': 1}\n",
      "Cluster  2 {'MB-CL': 1}\n",
      "Cluster  3 {'Other': 1}\n",
      "For K = 5\n",
      "Linkage method = ward\n",
      "Cluster  0 {'MB-CL': 10, 'Other': 2}\n",
      "Cluster  1 {'MB-CL': 13, 'Other': 2}\n",
      "Cluster  2 {'Other': 9, 'MB-CL': 8}\n",
      "Cluster  3 {'Other': 7, 'MB-CL': 3}\n",
      "Cluster  4 {'MB-CL': 17, 'Other': 5}\n",
      "Linkage method = complete\n",
      "Cluster  0 {'MB-CL': 30, 'Other': 12}\n",
      "Cluster  1 {'Other': 10, 'MB-CL': 7}\n",
      "Cluster  2 {'MB-CL': 13, 'Other': 2}\n",
      "Cluster  3 {'MB-CL': 1}\n",
      "Cluster  4 {'Other': 1}\n",
      "Linkage method = average\n",
      "Cluster  0 {'MB-CL': 44, 'Other': 23}\n",
      "Cluster  1 {'MB-CL': 1, 'Other': 1}\n",
      "Cluster  2 {'MB-CL': 1}\n",
      "Cluster  3 {'Other': 1}\n",
      "Cluster  4 {'MB-CL': 5}\n",
      "Linkage method = single\n",
      "Cluster  0 {'MB-CL': 49, 'Other': 23}\n",
      "Cluster  1 {'MB-CL': 1}\n",
      "Cluster  2 {'MB-CL': 1}\n",
      "Cluster  3 {'Other': 1}\n",
      "Cluster  4 {'Other': 1}\n"
     ]
    }
   ],
   "source": [
    "get_samples_per_cluster_hca(6, X_PCA)"
   ]
  },
  {
   "cell_type": "code",
   "execution_count": 54,
   "metadata": {},
   "outputs": [
    {
     "data": {
      "image/png": "[encoded data removed]",
      "text/plain": [
       "<Figure size 432x288 with 1 Axes>"
      ]
     },
     "metadata": {
      "needs_background": "light"
     },
     "output_type": "display_data"
    }
   ],
   "source": [
    "comparing_ss_hca_methods(6,X_variance)"
   ]
  },
  {
   "cell_type": "markdown",
   "metadata": {},
   "source": [
    "Analisar graºfico:--"
   ]
  },
  {
   "cell_type": "code",
   "execution_count": 53,
   "metadata": {},
   "outputs": [
    {
     "data": {
      "image/png": "[encoded data removed]",
      "text/plain": [
       "<Figure size 432x288 with 1 Axes>"
      ]
     },
     "metadata": {
      "needs_background": "light"
     },
     "output_type": "display_data"
    }
   ],
   "source": [
    "comparing_ss_hca_methods(6,X_PCA)"
   ]
  },
  {
   "cell_type": "markdown",
   "metadata": {},
   "source": [
    "Analisar graºfico:--"
   ]
  },
  {
   "cell_type": "markdown",
   "metadata": {},
   "source": [
    "## 5. Evaluating Clustering Results"
   ]
  },
  {
   "cell_type": "markdown",
   "metadata": {},
   "source": [
    "In this task you should compare the best results obtained using `K`-means and HCA \n",
    "1. **Without using ground truth**\n",
    "2. **Using ground truth (`Medulloblastoma Type`)**."
   ]
  },
  {
   "cell_type": "markdown",
   "metadata": {},
   "source": [
    "### 5.1. Without Using Ground Truth"
   ]
  },
  {
   "cell_type": "markdown",
   "metadata": {},
   "source": [
    "**Choose one adequate measure** from those available by Sciki-learn (https://scikit-learn.org/stable/modules/clustering.html#clustering-performance-evaluation) to evaluate the different clusterings. \n",
    "\n",
    "Discuss the results."
   ]
  },
  {
   "cell_type": "code",
   "execution_count": null,
   "metadata": {},
   "outputs": [],
   "source": [
    "# Write code in cells like this ...\n",
    "#https://stats.stackexchange.com/questions/21807/evaluation-measures-of-goodness-or-validity-of-clustering-without-having-truth"
   ]
  },
  {
   "cell_type": "markdown",
   "metadata": {},
   "source": [
    "### 5.2. Using Ground Truth"
   ]
  },
  {
   "cell_type": "markdown",
   "metadata": {},
   "source": [
    "**Choose one adequate measure** from those available by Sciki-learn (https://scikit-learn.org/stable/modules/clustering.html#clustering-performance-evaluation) to evaluate the different clusterings. \n",
    "\n",
    "Discuss the results."
   ]
  },
  {
   "cell_type": "code",
   "execution_count": 57,
   "metadata": {},
   "outputs": [],
   "source": [
    "import operator"
   ]
  },
  {
   "cell_type": "code",
   "execution_count": 59,
   "metadata": {},
   "outputs": [],
   "source": [
    "def comparing_kmeans_ground_truth(k,X):\n",
    "    labels_true=y['class']\n",
    "    slc = {}\n",
    "    for k in range(2, k):\n",
    "        kmeans = KMeans(n_clusters=k, random_state=0).fit(X)\n",
    "        pred_classes = kmeans.labels_\n",
    "        slc[k] = silhouette_score(X,pred_classes)\n",
    "    highest_ss_k = max(mydict.items(), key=operator.itemgetter(1))[0]\n",
    "    kmeans = KMeans(n_clusters=highest_ss_k, random_state=0).fit(X)\n",
    "    labels = kmeans.labels_\n",
    "    print('For K =', highest_ss_k)\n",
    "    print(\"Homogeneity: %0.3f\" % metrics.homogeneity_score(labels_true, labels))\n",
    "    print(\"Completeness: %0.3f\" % metrics.completeness_score(labels_true, labels))\n",
    "    print(\"V-measure: %0.3f\" % metrics.v_measure_score(labels_true, labels))\n",
    "    print(\"Adjusted Rand Index: %0.3f\"\n",
    "          % metrics.adjusted_rand_score(labels_true, labels))\n",
    "    print(\"Adjusted Mutual Information: %0.3f\"\n",
    "      % metrics.adjusted_mutual_info_score(labels_true, labels))"
   ]
  },
  {
   "cell_type": "code",
   "execution_count": 60,
   "metadata": {},
   "outputs": [
    {
     "ename": "NameError",
     "evalue": "name 'mydict' is not defined",
     "output_type": "error",
     "traceback": [
      "\u001b[0;31m---------------------------------------------------------------------------\u001b[0m",
      "\u001b[0;31mNameError\u001b[0m                                 Traceback (most recent call last)",
      "\u001b[0;32m<ipython-input-60-a5cfdb1a4f76>\u001b[0m in \u001b[0;36m<module>\u001b[0;34m\u001b[0m\n\u001b[0;32m----> 1\u001b[0;31m \u001b[0mcomparing_kmeans_ground_truth\u001b[0m\u001b[0;34m(\u001b[0m\u001b[0;36m6\u001b[0m\u001b[0;34m,\u001b[0m\u001b[0mX\u001b[0m\u001b[0;34m)\u001b[0m\u001b[0;34m\u001b[0m\u001b[0;34m\u001b[0m\u001b[0m\n\u001b[0m",
      "\u001b[0;32m<ipython-input-59-2b3d8524ea8a>\u001b[0m in \u001b[0;36mcomparing_kmeans_ground_truth\u001b[0;34m(k, X)\u001b[0m\n\u001b[1;32m      6\u001b[0m         \u001b[0mpred_classes\u001b[0m \u001b[0;34m=\u001b[0m \u001b[0mkmeans\u001b[0m\u001b[0;34m.\u001b[0m\u001b[0mlabels_\u001b[0m\u001b[0;34m\u001b[0m\u001b[0;34m\u001b[0m\u001b[0m\n\u001b[1;32m      7\u001b[0m         \u001b[0mslc\u001b[0m\u001b[0;34m[\u001b[0m\u001b[0mk\u001b[0m\u001b[0;34m]\u001b[0m \u001b[0;34m=\u001b[0m \u001b[0msilhouette_score\u001b[0m\u001b[0;34m(\u001b[0m\u001b[0mX\u001b[0m\u001b[0;34m,\u001b[0m\u001b[0mpred_classes\u001b[0m\u001b[0;34m)\u001b[0m\u001b[0;34m\u001b[0m\u001b[0;34m\u001b[0m\u001b[0m\n\u001b[0;32m----> 8\u001b[0;31m     \u001b[0mhighest_ss_k\u001b[0m \u001b[0;34m=\u001b[0m \u001b[0mmax\u001b[0m\u001b[0;34m(\u001b[0m\u001b[0mmydict\u001b[0m\u001b[0;34m.\u001b[0m\u001b[0mitems\u001b[0m\u001b[0;34m(\u001b[0m\u001b[0;34m)\u001b[0m\u001b[0;34m,\u001b[0m \u001b[0mkey\u001b[0m\u001b[0;34m=\u001b[0m\u001b[0moperator\u001b[0m\u001b[0;34m.\u001b[0m\u001b[0mitemgetter\u001b[0m\u001b[0;34m(\u001b[0m\u001b[0;36m1\u001b[0m\u001b[0;34m)\u001b[0m\u001b[0;34m)\u001b[0m\u001b[0;34m[\u001b[0m\u001b[0;36m0\u001b[0m\u001b[0;34m]\u001b[0m\u001b[0;34m\u001b[0m\u001b[0;34m\u001b[0m\u001b[0m\n\u001b[0m\u001b[1;32m      9\u001b[0m     \u001b[0mkmeans\u001b[0m \u001b[0;34m=\u001b[0m \u001b[0mKMeans\u001b[0m\u001b[0;34m(\u001b[0m\u001b[0mn_clusters\u001b[0m\u001b[0;34m=\u001b[0m\u001b[0mhighest_ss_k\u001b[0m\u001b[0;34m,\u001b[0m \u001b[0mrandom_state\u001b[0m\u001b[0;34m=\u001b[0m\u001b[0;36m0\u001b[0m\u001b[0;34m)\u001b[0m\u001b[0;34m.\u001b[0m\u001b[0mfit\u001b[0m\u001b[0;34m(\u001b[0m\u001b[0mX\u001b[0m\u001b[0;34m)\u001b[0m\u001b[0;34m\u001b[0m\u001b[0;34m\u001b[0m\u001b[0m\n\u001b[1;32m     10\u001b[0m     \u001b[0mlabels\u001b[0m \u001b[0;34m=\u001b[0m \u001b[0mkmeans\u001b[0m\u001b[0;34m.\u001b[0m\u001b[0mlabels_\u001b[0m\u001b[0;34m\u001b[0m\u001b[0;34m\u001b[0m\u001b[0m\n",
      "\u001b[0;31mNameError\u001b[0m: name 'mydict' is not defined"
     ]
    }
   ],
   "source": [
    "comparing_kmeans_ground_truth(6,X)"
   ]
  },
  {
   "cell_type": "code",
   "execution_count": null,
   "metadata": {},
   "outputs": [],
   "source": [
    "comparing_kmeans_ground_truth(6,X_variance)"
   ]
  },
  {
   "cell_type": "code",
   "execution_count": null,
   "metadata": {},
   "outputs": [],
   "source": [
    "comparing_kmeans_ground_truth(6,X_PCA)"
   ]
  },
  {
   "cell_type": "code",
   "execution_count": 61,
   "metadata": {},
   "outputs": [],
   "source": [
    "def comparing_hca_ground_truth(k,X):\n",
    "    labels_true=y['class']\n",
    "    slc = {}\n",
    "    for k in range(2, k):\n",
    "        hca = AgglomerativeClustering(n_clusters=k).fit(X)\n",
    "        pred_classes = hca.labels_\n",
    "        slc[k] = silhouette_score(X,pred_classes)\n",
    "        \n",
    "    highest_ss_k = max(mydict.items(), key=operator.itemgetter(1))[0]\n",
    "    hca1 = AgglomerativeClustering(n_clusters=highest_ss_k).fit(X)\n",
    "    labels = hca1.labels_\n",
    "    \n",
    "    print('For K =', highest_ss_k)\n",
    "    print(\"Homogeneity: %0.3f\" % metrics.homogeneity_score(labels_true, labels))\n",
    "    print(\"Completeness: %0.3f\" % metrics.completeness_score(labels_true, labels))\n",
    "    print(\"V-measure: %0.3f\" % metrics.v_measure_score(labels_true, labels))\n",
    "    print(\"Adjusted Rand Index: %0.3f\"\n",
    "          % metrics.adjusted_rand_score(labels_true, labels))\n",
    "    print(\"Adjusted Mutual Information: %0.3f\"\n",
    "      % metrics.adjusted_mutual_info_score(labels_true, labels))"
   ]
  },
  {
   "cell_type": "code",
   "execution_count": 62,
   "metadata": {},
   "outputs": [
    {
     "ename": "NameError",
     "evalue": "name 'mydict' is not defined",
     "output_type": "error",
     "traceback": [
      "\u001b[0;31m---------------------------------------------------------------------------\u001b[0m",
      "\u001b[0;31mNameError\u001b[0m                                 Traceback (most recent call last)",
      "\u001b[0;32m<ipython-input-62-dd46f51e8e80>\u001b[0m in \u001b[0;36m<module>\u001b[0;34m\u001b[0m\n\u001b[0;32m----> 1\u001b[0;31m \u001b[0mcomparing_hca_ground_truth\u001b[0m\u001b[0;34m(\u001b[0m\u001b[0;36m6\u001b[0m\u001b[0;34m,\u001b[0m\u001b[0mX\u001b[0m\u001b[0;34m)\u001b[0m\u001b[0;34m\u001b[0m\u001b[0;34m\u001b[0m\u001b[0m\n\u001b[0m",
      "\u001b[0;32m<ipython-input-61-335654c24c8b>\u001b[0m in \u001b[0;36mcomparing_hca_ground_truth\u001b[0;34m(k, X)\u001b[0m\n\u001b[1;32m      7\u001b[0m         \u001b[0mslc\u001b[0m\u001b[0;34m[\u001b[0m\u001b[0mk\u001b[0m\u001b[0;34m]\u001b[0m \u001b[0;34m=\u001b[0m \u001b[0msilhouette_score\u001b[0m\u001b[0;34m(\u001b[0m\u001b[0mX\u001b[0m\u001b[0;34m,\u001b[0m\u001b[0mpred_classes\u001b[0m\u001b[0;34m)\u001b[0m\u001b[0;34m\u001b[0m\u001b[0;34m\u001b[0m\u001b[0m\n\u001b[1;32m      8\u001b[0m \u001b[0;34m\u001b[0m\u001b[0m\n\u001b[0;32m----> 9\u001b[0;31m     \u001b[0mhighest_ss_k\u001b[0m \u001b[0;34m=\u001b[0m \u001b[0mmax\u001b[0m\u001b[0;34m(\u001b[0m\u001b[0mmydict\u001b[0m\u001b[0;34m.\u001b[0m\u001b[0mitems\u001b[0m\u001b[0;34m(\u001b[0m\u001b[0;34m)\u001b[0m\u001b[0;34m,\u001b[0m \u001b[0mkey\u001b[0m\u001b[0;34m=\u001b[0m\u001b[0moperator\u001b[0m\u001b[0;34m.\u001b[0m\u001b[0mitemgetter\u001b[0m\u001b[0;34m(\u001b[0m\u001b[0;36m1\u001b[0m\u001b[0;34m)\u001b[0m\u001b[0;34m)\u001b[0m\u001b[0;34m[\u001b[0m\u001b[0;36m0\u001b[0m\u001b[0;34m]\u001b[0m\u001b[0;34m\u001b[0m\u001b[0;34m\u001b[0m\u001b[0m\n\u001b[0m\u001b[1;32m     10\u001b[0m     \u001b[0mhca1\u001b[0m \u001b[0;34m=\u001b[0m \u001b[0mAgglomerativeClustering\u001b[0m\u001b[0;34m(\u001b[0m\u001b[0mn_clusters\u001b[0m\u001b[0;34m=\u001b[0m\u001b[0mhighest_ss_k\u001b[0m\u001b[0;34m)\u001b[0m\u001b[0;34m.\u001b[0m\u001b[0mfit\u001b[0m\u001b[0;34m(\u001b[0m\u001b[0mX\u001b[0m\u001b[0;34m)\u001b[0m\u001b[0;34m\u001b[0m\u001b[0;34m\u001b[0m\u001b[0m\n\u001b[1;32m     11\u001b[0m     \u001b[0mlabels\u001b[0m \u001b[0;34m=\u001b[0m \u001b[0mhca1\u001b[0m\u001b[0;34m.\u001b[0m\u001b[0mlabels_\u001b[0m\u001b[0;34m\u001b[0m\u001b[0;34m\u001b[0m\u001b[0m\n",
      "\u001b[0;31mNameError\u001b[0m: name 'mydict' is not defined"
     ]
    }
   ],
   "source": [
    "comparing_hca_ground_truth(6,X)"
   ]
  },
  {
   "cell_type": "code",
   "execution_count": null,
   "metadata": {},
   "outputs": [],
   "source": [
    "comparing_hca_ground_truth(6,X_variance)"
   ]
  },
  {
   "cell_type": "code",
   "execution_count": 860,
   "metadata": {},
   "outputs": [
    {
     "name": "stdout",
     "output_type": "stream",
     "text": [
      "For K = 2\n",
      "Homogeneity: 0.068\n",
      "Completeness: 0.062\n",
      "V-measure: 0.065\n",
      "Adjusted Rand Index: 0.058\n",
      "Adjusted Mutual Information: 0.055\n"
     ]
    }
   ],
   "source": [
    "comparing_hca_ground_truth(11,X_PCA)"
   ]
  },
  {
   "cell_type": "markdown",
   "metadata": {},
   "source": [
    "## 6. Clustering Samples using Density-based Clustering"
   ]
  },
  {
   "cell_type": "markdown",
   "metadata": {},
   "source": [
    "Use DBSCAN (https://scikit-learn.org/stable/modules/generated/sklearn.cluster.DBSCAN.html) or OPTICS (https://scikit-learn.org/stable/modules/generated/sklearn.cluster.OPTICS.html) to cluster the samples.\n",
    "\n",
    "Compare the results with those of K-means and HCA."
   ]
  },
  {
   "cell_type": "markdown",
   "metadata": {},
   "source": [
    "https://www.kdnuggets.com/2020/04/dbscan-clustering-algorithm-machine-learning.html"
   ]
  },
  {
   "cell_type": "code",
   "execution_count": 63,
   "metadata": {},
   "outputs": [],
   "source": [
    "from sklearn.cluster import DBSCAN\n",
    "from sklearn import metrics\n",
    "from sklearn.cluster import OPTICS, cluster_optics_dbscan"
   ]
  },
  {
   "cell_type": "code",
   "execution_count": 64,
   "metadata": {},
   "outputs": [],
   "source": [
    "def dbscan_func(X):\n",
    "    db = DBSCAN(min_samples=10).fit(X)\n",
    "    core_samples_mask = np.zeros_like(db.labels_, dtype=bool)\n",
    "    core_samples_mask[db.core_sample_indices_] = True\n",
    "    labels = db.labels_\n",
    "    n_clusters_ = len(set(labels)) - (1 if -1 in labels else 0)\n",
    "    n_noise_ = list(labels).count(-1)\n",
    "\n",
    "    print('Estimated number of clusters = %d' % n_clusters_)\n",
    "    print('Estimated number of noise points = %d' % n_noise_)"
   ]
  },
  {
   "cell_type": "code",
   "execution_count": 65,
   "metadata": {},
   "outputs": [
    {
     "name": "stdout",
     "output_type": "stream",
     "text": [
      "Estimated number of clusters = 0\n",
      "Estimated number of noise points = 76\n"
     ]
    }
   ],
   "source": [
    "dbscan_func(X)"
   ]
  },
  {
   "cell_type": "code",
   "execution_count": 66,
   "metadata": {},
   "outputs": [
    {
     "name": "stdout",
     "output_type": "stream",
     "text": [
      "Estimated number of clusters = 0\n",
      "Estimated number of noise points = 76\n"
     ]
    }
   ],
   "source": [
    "dbscan_func(X_variance)"
   ]
  },
  {
   "cell_type": "code",
   "execution_count": 67,
   "metadata": {},
   "outputs": [
    {
     "name": "stdout",
     "output_type": "stream",
     "text": [
      "Estimated number of clusters = 0\n",
      "Estimated number of noise points = 76\n"
     ]
    }
   ],
   "source": [
    "dbscan_func(X_PCA)"
   ]
  },
  {
   "cell_type": "markdown",
   "metadata": {},
   "source": [
    "## 7. Choose a Different Clustering Algorithm to Group the Samples\n",
    "\n",
    "Choose **a clustering algorithm** besides `K`-means, HCA and DBSCAN/OPTICS to cluster the samples. \n",
    "\n",
    "**Groups of 3 People** must choose two different algorithms.\n",
    "\n",
    "Justify your choice and compare the results with those of `K`-means, HCA and DBSCAN/OPTICS."
   ]
  },
  {
   "cell_type": "code",
   "execution_count": 68,
   "metadata": {},
   "outputs": [],
   "source": [
    "from sklearn.cluster import MiniBatchKMeans\n",
    "from sklearn.cluster import SpectralClustering"
   ]
  },
  {
   "cell_type": "code",
   "execution_count": 69,
   "metadata": {},
   "outputs": [],
   "source": [
    "def get_samples_per_cluster_mini_kmeans(k, X):\n",
    "    labels = np.array(y['class'])\n",
    "    for k in range(2, k):\n",
    "        mini_kmeans = MiniBatchKMeans(n_clusters=k, random_state=0).fit(X)\n",
    "        pred_classes = mini_kmeans.labels_\n",
    "\n",
    "        print('For K =', k)\n",
    "        for i in np.array(np.unique(pred_classes)):\n",
    "            print('Cluster ', i, dict(Counter(labels[np.where(pred_classes == i)]))) #labels -- ver"
   ]
  },
  {
   "cell_type": "code",
   "execution_count": 70,
   "metadata": {},
   "outputs": [],
   "source": [
    "def get_ss_mini_kmeans(k,X):\n",
    "    slc = {}\n",
    "    for k in range(2, k):\n",
    "        kmeans = MiniBatchKMeans(n_clusters=k, random_state=0).fit(X)\n",
    "        pred_classes = kmeans.labels_\n",
    "        slc[k] = silhouette_score(X,pred_classes)\n",
    "        print(\"For K =\", k, \"The avg SS is :\", np.round(silhouette_score(X, pred_classes),2))\n",
    "    plt.figure()\n",
    "    plt.plot(list(slc.keys()), list(slc.values()))\n",
    "    plt.xlabel(\"Number of clusters K\")\n",
    "    plt.ylabel(\"Silhouette scores\")\n",
    "    plt.show()  "
   ]
  },
  {
   "cell_type": "code",
   "execution_count": 71,
   "metadata": {},
   "outputs": [],
   "source": [
    "def get_samples_per_cluster_spec(k, X):\n",
    "    labels = np.array(y['class'])\n",
    "    for k in range(2, k):\n",
    "        mini_kmeans = SpectralClustering(n_clusters=k, random_state=0).fit(X)\n",
    "        pred_classes = mini_kmeans.labels_\n",
    "\n",
    "        print('For K =', k)\n",
    "        for i in np.array(np.unique(pred_classes)):\n",
    "            print('Cluster ', i, dict(Counter(labels[np.where(pred_classes == i)]))) #labels -- ver"
   ]
  },
  {
   "cell_type": "code",
   "execution_count": 80,
   "metadata": {},
   "outputs": [],
   "source": [
    "def get_ss_mini_spec(k,X):\n",
    "    slc = {}\n",
    "    for k in range(2, k):\n",
    "        kmeans = SpectralClustering(n_clusters=k, random_state=0).fit(X)\n",
    "        pred_classes = kmeans.labels_\n",
    "        slc[k] = silhouette_score(X,pred_classes)\n",
    "        print(\"For K =\", k, \"The avg SS is :\", np.round(silhouette_score(X, pred_classes),2))\n",
    "    plt.figure()\n",
    "    plt.plot(list(slc.keys()), list(slc.values()))\n",
    "    plt.xlabel(\"Number of clusters K\")\n",
    "    plt.ylabel(\"Silhouette scores\")\n",
    "    plt.show()  "
   ]
  },
  {
   "cell_type": "code",
   "execution_count": 72,
   "metadata": {},
   "outputs": [
    {
     "name": "stdout",
     "output_type": "stream",
     "text": [
      "For K = 2\n",
      "Cluster  0 {'MB-CL': 11, 'Other': 9}\n",
      "Cluster  1 {'MB-CL': 40, 'Other': 16}\n",
      "For K = 3\n",
      "Cluster  0 {'Other': 14, 'MB-CL': 17}\n",
      "Cluster  1 {'MB-CL': 24, 'Other': 8}\n",
      "Cluster  2 {'MB-CL': 10, 'Other': 3}\n",
      "For K = 4\n",
      "Cluster  0 {'MB-CL': 10, 'Other': 4}\n",
      "Cluster  1 {'MB-CL': 24, 'Other': 6}\n",
      "Cluster  2 {'Other': 7, 'MB-CL': 6}\n",
      "Cluster  3 {'MB-CL': 11, 'Other': 8}\n",
      "For K = 5\n",
      "Cluster  0 {'Other': 9, 'MB-CL': 6}\n",
      "Cluster  1 {'Other': 7, 'MB-CL': 3}\n",
      "Cluster  2 {'MB-CL': 9, 'Other': 3}\n",
      "Cluster  3 {'MB-CL': 25, 'Other': 6}\n",
      "Cluster  4 {'MB-CL': 8}\n"
     ]
    }
   ],
   "source": [
    "get_samples_per_cluster_mini_kmeans(6,X)"
   ]
  },
  {
   "cell_type": "code",
   "execution_count": 73,
   "metadata": {},
   "outputs": [
    {
     "name": "stdout",
     "output_type": "stream",
     "text": [
      "For K = 2\n",
      "Cluster  0 {'MB-CL': 40, 'Other': 15}\n",
      "Cluster  1 {'MB-CL': 11, 'Other': 10}\n",
      "For K = 3\n",
      "Cluster  0 {'MB-CL': 40, 'Other': 18}\n",
      "Cluster  1 {'Other': 7, 'MB-CL': 3}\n",
      "Cluster  2 {'MB-CL': 8}\n",
      "For K = 4\n",
      "Cluster  0 {'Other': 12, 'MB-CL': 13}\n",
      "Cluster  1 {'MB-CL': 27, 'Other': 6}\n",
      "Cluster  2 {'Other': 7, 'MB-CL': 3}\n",
      "Cluster  3 {'MB-CL': 8}\n",
      "For K = 5\n",
      "Cluster  0 {'MB-CL': 10, 'Other': 3}\n",
      "Cluster  1 {'Other': 8, 'MB-CL': 3}\n",
      "Cluster  2 {'Other': 10, 'MB-CL': 8}\n",
      "Cluster  3 {'MB-CL': 22, 'Other': 4}\n",
      "Cluster  4 {'MB-CL': 8}\n"
     ]
    }
   ],
   "source": [
    "get_samples_per_cluster_mini_kmeans(6,X_variance)"
   ]
  },
  {
   "cell_type": "code",
   "execution_count": 74,
   "metadata": {},
   "outputs": [
    {
     "name": "stdout",
     "output_type": "stream",
     "text": [
      "For K = 2\n",
      "Cluster  0 {'MB-CL': 11, 'Other': 9}\n",
      "Cluster  1 {'MB-CL': 40, 'Other': 16}\n",
      "For K = 3\n",
      "Cluster  0 {'Other': 14, 'MB-CL': 17}\n",
      "Cluster  1 {'MB-CL': 16, 'Other': 6}\n",
      "Cluster  2 {'MB-CL': 18, 'Other': 5}\n",
      "For K = 4\n",
      "Cluster  0 {'MB-CL': 5, 'Other': 5}\n",
      "Cluster  1 {'MB-CL': 20, 'Other': 6}\n",
      "Cluster  2 {'MB-CL': 11, 'Other': 10}\n",
      "Cluster  3 {'MB-CL': 15, 'Other': 4}\n",
      "For K = 5\n",
      "Cluster  0 {'Other': 8, 'MB-CL': 7}\n",
      "Cluster  1 {'Other': 7, 'MB-CL': 3}\n",
      "Cluster  2 {'MB-CL': 9, 'Other': 2}\n",
      "Cluster  3 {'MB-CL': 24, 'Other': 5}\n",
      "Cluster  4 {'MB-CL': 8, 'Other': 3}\n"
     ]
    }
   ],
   "source": [
    "get_samples_per_cluster_mini_kmeans(6,X_PCA)"
   ]
  },
  {
   "cell_type": "code",
   "execution_count": 803,
   "metadata": {},
   "outputs": [
    {
     "name": "stdout",
     "output_type": "stream",
     "text": [
      "For K = 2 The avg SS is : 0.1\n",
      "For K = 3 The avg SS is : 0.02\n",
      "For K = 4 The avg SS is : 0.06\n",
      "For K = 5 The avg SS is : 0.09\n",
      "For K = 6 The avg SS is : 0.06\n",
      "For K = 7 The avg SS is : 0.06\n",
      "For K = 8 The avg SS is : 0.07\n",
      "For K = 9 The avg SS is : 0.02\n",
      "For K = 10 The avg SS is : 0.03\n"
     ]
    },
    {
     "data": {
      "image/png": "[encoded data removed]",
      "text/plain": [
       "<Figure size 432x288 with 1 Axes>"
      ]
     },
     "metadata": {},
     "output_type": "display_data"
    }
   ],
   "source": [
    "get_ss_mini_kmeans(11,X)"
   ]
  },
  {
   "cell_type": "code",
   "execution_count": 75,
   "metadata": {},
   "outputs": [
    {
     "name": "stdout",
     "output_type": "stream",
     "text": [
      "For K = 2 The avg SS is : 0.2\n",
      "For K = 3 The avg SS is : 0.22\n",
      "For K = 4 The avg SS is : 0.19\n",
      "For K = 5 The avg SS is : 0.14\n"
     ]
    },
    {
     "data": {
      "image/png": "[encoded data removed]",
      "text/plain": [
       "<Figure size 432x288 with 1 Axes>"
      ]
     },
     "metadata": {
      "needs_background": "light"
     },
     "output_type": "display_data"
    }
   ],
   "source": [
    "get_ss_mini_kmeans(6,X_variance)"
   ]
  },
  {
   "cell_type": "code",
   "execution_count": 76,
   "metadata": {},
   "outputs": [
    {
     "name": "stdout",
     "output_type": "stream",
     "text": [
      "For K = 2 The avg SS is : 0.11\n",
      "For K = 3 The avg SS is : 0.04\n",
      "For K = 4 The avg SS is : 0.06\n",
      "For K = 5 The avg SS is : 0.09\n"
     ]
    },
    {
     "data": {
      "image/png": "[encoded data removed]",
      "text/plain": [
       "<Figure size 432x288 with 1 Axes>"
      ]
     },
     "metadata": {
      "needs_background": "light"
     },
     "output_type": "display_data"
    }
   ],
   "source": [
    "get_ss_mini_kmeans(6,X_PCA)"
   ]
  },
  {
   "cell_type": "code",
   "execution_count": 78,
   "metadata": {},
   "outputs": [
    {
     "name": "stderr",
     "output_type": "stream",
     "text": [
      "/opt/anaconda3/lib/python3.7/site-packages/sklearn/manifold/_spectral_embedding.py:236: UserWarning: Graph is not fully connected, spectral embedding may not work as expected.\n",
      "  warnings.warn(\"Graph is not fully connected, spectral embedding\"\n",
      "/opt/anaconda3/lib/python3.7/site-packages/sklearn/manifold/_spectral_embedding.py:236: UserWarning: Graph is not fully connected, spectral embedding may not work as expected.\n",
      "  warnings.warn(\"Graph is not fully connected, spectral embedding\"\n"
     ]
    },
    {
     "name": "stdout",
     "output_type": "stream",
     "text": [
      "For K = 2\n",
      "Cluster  0 {'MB-CL': 33, 'Other': 13}\n",
      "Cluster  1 {'MB-CL': 18, 'Other': 12}\n",
      "For K = 3\n",
      "Cluster  0 {'MB-CL': 17, 'Other': 7}\n",
      "Cluster  1 {'MB-CL': 23, 'Other': 8}\n",
      "Cluster  2 {'MB-CL': 11, 'Other': 10}\n"
     ]
    },
    {
     "name": "stderr",
     "output_type": "stream",
     "text": [
      "/opt/anaconda3/lib/python3.7/site-packages/sklearn/manifold/_spectral_embedding.py:236: UserWarning: Graph is not fully connected, spectral embedding may not work as expected.\n",
      "  warnings.warn(\"Graph is not fully connected, spectral embedding\"\n"
     ]
    },
    {
     "name": "stdout",
     "output_type": "stream",
     "text": [
      "For K = 4\n",
      "Cluster  0 {'MB-CL': 10, 'Other': 7}\n",
      "Cluster  1 {'MB-CL': 16, 'Other': 7}\n",
      "Cluster  2 {'MB-CL': 6, 'Other': 3}\n",
      "Cluster  3 {'MB-CL': 19, 'Other': 8}\n"
     ]
    },
    {
     "name": "stderr",
     "output_type": "stream",
     "text": [
      "/opt/anaconda3/lib/python3.7/site-packages/sklearn/manifold/_spectral_embedding.py:236: UserWarning: Graph is not fully connected, spectral embedding may not work as expected.\n",
      "  warnings.warn(\"Graph is not fully connected, spectral embedding\"\n"
     ]
    },
    {
     "name": "stdout",
     "output_type": "stream",
     "text": [
      "For K = 5\n",
      "Cluster  0 {'MB-CL': 4, 'Other': 3}\n",
      "Cluster  1 {'MB-CL': 10, 'Other': 4}\n",
      "Cluster  2 {'MB-CL': 17, 'Other': 9}\n",
      "Cluster  3 {'MB-CL': 2}\n",
      "Cluster  4 {'MB-CL': 18, 'Other': 9}\n"
     ]
    }
   ],
   "source": [
    "get_samples_per_cluster_spec(6, X)"
   ]
  },
  {
   "cell_type": "code",
   "execution_count": 77,
   "metadata": {},
   "outputs": [
    {
     "name": "stderr",
     "output_type": "stream",
     "text": [
      "/opt/anaconda3/lib/python3.7/site-packages/sklearn/manifold/_spectral_embedding.py:236: UserWarning: Graph is not fully connected, spectral embedding may not work as expected.\n",
      "  warnings.warn(\"Graph is not fully connected, spectral embedding\"\n"
     ]
    },
    {
     "name": "stdout",
     "output_type": "stream",
     "text": [
      "For K = 2\n",
      "Cluster  0 {'MB-CL': 30, 'Other': 18}\n",
      "Cluster  1 {'MB-CL': 21, 'Other': 7}\n",
      "For K = 3\n",
      "Cluster  0 {'MB-CL': 23, 'Other': 9}\n",
      "Cluster  1 {'MB-CL': 12, 'Other': 5}\n",
      "Cluster  2 {'MB-CL': 16, 'Other': 11}\n",
      "For K = 4\n",
      "Cluster  0 {'MB-CL': 17, 'Other': 8}\n",
      "Cluster  1 {'MB-CL': 13, 'Other': 4}\n",
      "Cluster  2 {'MB-CL': 9, 'Other': 6}\n",
      "Cluster  3 {'MB-CL': 12, 'Other': 7}\n"
     ]
    },
    {
     "name": "stderr",
     "output_type": "stream",
     "text": [
      "/opt/anaconda3/lib/python3.7/site-packages/sklearn/manifold/_spectral_embedding.py:236: UserWarning: Graph is not fully connected, spectral embedding may not work as expected.\n",
      "  warnings.warn(\"Graph is not fully connected, spectral embedding\"\n",
      "/opt/anaconda3/lib/python3.7/site-packages/sklearn/manifold/_spectral_embedding.py:236: UserWarning: Graph is not fully connected, spectral embedding may not work as expected.\n",
      "  warnings.warn(\"Graph is not fully connected, spectral embedding\"\n"
     ]
    },
    {
     "name": "stdout",
     "output_type": "stream",
     "text": [
      "For K = 5\n",
      "Cluster  0 {'MB-CL': 6, 'Other': 2}\n",
      "Cluster  1 {'MB-CL': 20, 'Other': 11}\n",
      "Cluster  2 {'MB-CL': 9, 'Other': 5}\n",
      "Cluster  3 {'MB-CL': 3}\n",
      "Cluster  4 {'MB-CL': 13, 'Other': 7}\n"
     ]
    },
    {
     "name": "stderr",
     "output_type": "stream",
     "text": [
      "/opt/anaconda3/lib/python3.7/site-packages/sklearn/manifold/_spectral_embedding.py:236: UserWarning: Graph is not fully connected, spectral embedding may not work as expected.\n",
      "  warnings.warn(\"Graph is not fully connected, spectral embedding\"\n"
     ]
    }
   ],
   "source": [
    "get_samples_per_cluster_spec(6, X_variance)"
   ]
  },
  {
   "cell_type": "code",
   "execution_count": 811,
   "metadata": {},
   "outputs": [
    {
     "name": "stdout",
     "output_type": "stream",
     "text": [
      "For K = 2\n",
      "Cluster  0 {'MB-CL': 23, 'Other': 13}\n",
      "Cluster  1 {'MB-CL': 28, 'Other': 12}\n"
     ]
    },
    {
     "name": "stderr",
     "output_type": "stream",
     "text": [
      "/Applications/anaconda3/lib/python3.6/site-packages/sklearn/manifold/_spectral_embedding.py:245: UserWarning: Graph is not fully connected, spectral embedding may not work as expected.\n",
      "  warnings.warn(\"Graph is not fully connected, spectral embedding\"\n",
      "/Applications/anaconda3/lib/python3.6/site-packages/sklearn/manifold/_spectral_embedding.py:245: UserWarning: Graph is not fully connected, spectral embedding may not work as expected.\n",
      "  warnings.warn(\"Graph is not fully connected, spectral embedding\"\n"
     ]
    },
    {
     "name": "stdout",
     "output_type": "stream",
     "text": [
      "For K = 3\n",
      "Cluster  0 {'MB-CL': 23, 'Other': 13}\n",
      "Cluster  1 {'MB-CL': 9, 'Other': 6}\n",
      "Cluster  2 {'MB-CL': 19, 'Other': 6}\n",
      "For K = 4\n",
      "Cluster  0 {'MB-CL': 1}\n",
      "Cluster  1 {'MB-CL': 31, 'Other': 15}\n",
      "Cluster  2 {'MB-CL': 3, 'Other': 5}\n",
      "Cluster  3 {'MB-CL': 16, 'Other': 5}\n"
     ]
    },
    {
     "name": "stderr",
     "output_type": "stream",
     "text": [
      "/Applications/anaconda3/lib/python3.6/site-packages/sklearn/manifold/_spectral_embedding.py:245: UserWarning: Graph is not fully connected, spectral embedding may not work as expected.\n",
      "  warnings.warn(\"Graph is not fully connected, spectral embedding\"\n",
      "/Applications/anaconda3/lib/python3.6/site-packages/sklearn/manifold/_spectral_embedding.py:245: UserWarning: Graph is not fully connected, spectral embedding may not work as expected.\n",
      "  warnings.warn(\"Graph is not fully connected, spectral embedding\"\n"
     ]
    },
    {
     "name": "stdout",
     "output_type": "stream",
     "text": [
      "For K = 5\n",
      "Cluster  0 {'MB-CL': 26, 'Other': 10}\n",
      "Cluster  1 {'Other': 13, 'MB-CL': 18}\n",
      "Cluster  2 {'MB-CL': 2}\n",
      "Cluster  3 {'MB-CL': 5, 'Other': 1}\n",
      "Cluster  4 {'Other': 1}\n"
     ]
    },
    {
     "name": "stderr",
     "output_type": "stream",
     "text": [
      "/Applications/anaconda3/lib/python3.6/site-packages/sklearn/manifold/_spectral_embedding.py:245: UserWarning: Graph is not fully connected, spectral embedding may not work as expected.\n",
      "  warnings.warn(\"Graph is not fully connected, spectral embedding\"\n"
     ]
    },
    {
     "name": "stdout",
     "output_type": "stream",
     "text": [
      "For K = 6\n",
      "Cluster  0 {'Other': 2, 'MB-CL': 1}\n",
      "Cluster  1 {'MB-CL': 14, 'Other': 10}\n",
      "Cluster  2 {'MB-CL': 14, 'Other': 4}\n",
      "Cluster  3 {'MB-CL': 13, 'Other': 6}\n",
      "Cluster  4 {'MB-CL': 3, 'Other': 1}\n",
      "Cluster  5 {'MB-CL': 6, 'Other': 2}\n"
     ]
    },
    {
     "name": "stderr",
     "output_type": "stream",
     "text": [
      "/Applications/anaconda3/lib/python3.6/site-packages/sklearn/manifold/_spectral_embedding.py:245: UserWarning: Graph is not fully connected, spectral embedding may not work as expected.\n",
      "  warnings.warn(\"Graph is not fully connected, spectral embedding\"\n"
     ]
    },
    {
     "name": "stdout",
     "output_type": "stream",
     "text": [
      "For K = 7\n",
      "Cluster  0 {'MB-CL': 18, 'Other': 11}\n",
      "Cluster  1 {'MB-CL': 5, 'Other': 2}\n",
      "Cluster  2 {'MB-CL': 8, 'Other': 5}\n",
      "Cluster  3 {'MB-CL': 6, 'Other': 5}\n",
      "Cluster  4 {'MB-CL': 5, 'Other': 1}\n",
      "Cluster  5 {'MB-CL': 8, 'Other': 1}\n",
      "Cluster  6 {'MB-CL': 1}\n"
     ]
    },
    {
     "name": "stderr",
     "output_type": "stream",
     "text": [
      "/Applications/anaconda3/lib/python3.6/site-packages/sklearn/manifold/_spectral_embedding.py:245: UserWarning: Graph is not fully connected, spectral embedding may not work as expected.\n",
      "  warnings.warn(\"Graph is not fully connected, spectral embedding\"\n"
     ]
    },
    {
     "name": "stdout",
     "output_type": "stream",
     "text": [
      "For K = 8\n",
      "Cluster  0 {'MB-CL': 11, 'Other': 9}\n",
      "Cluster  1 {'Other': 3, 'MB-CL': 2}\n",
      "Cluster  2 {'MB-CL': 7, 'Other': 1}\n",
      "Cluster  3 {'MB-CL': 1}\n",
      "Cluster  4 {'MB-CL': 20, 'Other': 8}\n",
      "Cluster  5 {'MB-CL': 5, 'Other': 2}\n",
      "Cluster  6 {'MB-CL': 4, 'Other': 1}\n",
      "Cluster  7 {'MB-CL': 1, 'Other': 1}\n"
     ]
    },
    {
     "name": "stderr",
     "output_type": "stream",
     "text": [
      "/Applications/anaconda3/lib/python3.6/site-packages/sklearn/manifold/_spectral_embedding.py:245: UserWarning: Graph is not fully connected, spectral embedding may not work as expected.\n",
      "  warnings.warn(\"Graph is not fully connected, spectral embedding\"\n"
     ]
    },
    {
     "name": "stdout",
     "output_type": "stream",
     "text": [
      "For K = 9\n",
      "Cluster  0 {'MB-CL': 2}\n",
      "Cluster  1 {'MB-CL': 13, 'Other': 6}\n",
      "Cluster  2 {'MB-CL': 1}\n",
      "Cluster  3 {'MB-CL': 7, 'Other': 8}\n",
      "Cluster  4 {'MB-CL': 10, 'Other': 6}\n",
      "Cluster  5 {'MB-CL': 1}\n",
      "Cluster  6 {'MB-CL': 15, 'Other': 5}\n",
      "Cluster  7 {'MB-CL': 1}\n",
      "Cluster  8 {'MB-CL': 1}\n"
     ]
    },
    {
     "name": "stderr",
     "output_type": "stream",
     "text": [
      "/Applications/anaconda3/lib/python3.6/site-packages/sklearn/manifold/_spectral_embedding.py:245: UserWarning: Graph is not fully connected, spectral embedding may not work as expected.\n",
      "  warnings.warn(\"Graph is not fully connected, spectral embedding\"\n"
     ]
    },
    {
     "name": "stdout",
     "output_type": "stream",
     "text": [
      "For K = 10\n",
      "Cluster  0 {'MB-CL': 6}\n",
      "Cluster  1 {'Other': 2, 'MB-CL': 1}\n",
      "Cluster  2 {'Other': 1, 'MB-CL': 1}\n",
      "Cluster  3 {'Other': 2, 'MB-CL': 2}\n",
      "Cluster  4 {'MB-CL': 1, 'Other': 2}\n",
      "Cluster  5 {'Other': 4, 'MB-CL': 3}\n",
      "Cluster  6 {'MB-CL': 15, 'Other': 3}\n",
      "Cluster  7 {'MB-CL': 20, 'Other': 10}\n",
      "Cluster  8 {'MB-CL': 1}\n",
      "Cluster  9 {'Other': 1, 'MB-CL': 1}\n"
     ]
    }
   ],
   "source": [
    "get_samples_per_cluster_spec(11, X_PCA)"
   ]
  },
  {
   "cell_type": "code",
   "execution_count": 812,
   "metadata": {},
   "outputs": [
    {
     "name": "stderr",
     "output_type": "stream",
     "text": [
      "/Applications/anaconda3/lib/python3.6/site-packages/sklearn/manifold/_spectral_embedding.py:245: UserWarning: Graph is not fully connected, spectral embedding may not work as expected.\n",
      "  warnings.warn(\"Graph is not fully connected, spectral embedding\"\n"
     ]
    },
    {
     "name": "stdout",
     "output_type": "stream",
     "text": [
      "For K = 2 The avg SS is : 0.01\n"
     ]
    },
    {
     "name": "stderr",
     "output_type": "stream",
     "text": [
      "/Applications/anaconda3/lib/python3.6/site-packages/sklearn/manifold/_spectral_embedding.py:245: UserWarning: Graph is not fully connected, spectral embedding may not work as expected.\n",
      "  warnings.warn(\"Graph is not fully connected, spectral embedding\"\n"
     ]
    },
    {
     "name": "stdout",
     "output_type": "stream",
     "text": [
      "For K = 3 The avg SS is : -0.01\n"
     ]
    },
    {
     "name": "stderr",
     "output_type": "stream",
     "text": [
      "/Applications/anaconda3/lib/python3.6/site-packages/sklearn/manifold/_spectral_embedding.py:245: UserWarning: Graph is not fully connected, spectral embedding may not work as expected.\n",
      "  warnings.warn(\"Graph is not fully connected, spectral embedding\"\n"
     ]
    },
    {
     "name": "stdout",
     "output_type": "stream",
     "text": [
      "For K = 4 The avg SS is : -0.02\n"
     ]
    },
    {
     "name": "stderr",
     "output_type": "stream",
     "text": [
      "/Applications/anaconda3/lib/python3.6/site-packages/sklearn/manifold/_spectral_embedding.py:245: UserWarning: Graph is not fully connected, spectral embedding may not work as expected.\n",
      "  warnings.warn(\"Graph is not fully connected, spectral embedding\"\n"
     ]
    },
    {
     "name": "stdout",
     "output_type": "stream",
     "text": [
      "For K = 5 The avg SS is : -0.03\n"
     ]
    },
    {
     "name": "stderr",
     "output_type": "stream",
     "text": [
      "/Applications/anaconda3/lib/python3.6/site-packages/sklearn/manifold/_spectral_embedding.py:245: UserWarning: Graph is not fully connected, spectral embedding may not work as expected.\n",
      "  warnings.warn(\"Graph is not fully connected, spectral embedding\"\n"
     ]
    },
    {
     "name": "stdout",
     "output_type": "stream",
     "text": [
      "For K = 6 The avg SS is : -0.03\n"
     ]
    },
    {
     "name": "stderr",
     "output_type": "stream",
     "text": [
      "/Applications/anaconda3/lib/python3.6/site-packages/sklearn/manifold/_spectral_embedding.py:245: UserWarning: Graph is not fully connected, spectral embedding may not work as expected.\n",
      "  warnings.warn(\"Graph is not fully connected, spectral embedding\"\n"
     ]
    },
    {
     "name": "stdout",
     "output_type": "stream",
     "text": [
      "For K = 7 The avg SS is : -0.07\n"
     ]
    },
    {
     "name": "stderr",
     "output_type": "stream",
     "text": [
      "/Applications/anaconda3/lib/python3.6/site-packages/sklearn/manifold/_spectral_embedding.py:245: UserWarning: Graph is not fully connected, spectral embedding may not work as expected.\n",
      "  warnings.warn(\"Graph is not fully connected, spectral embedding\"\n"
     ]
    },
    {
     "name": "stdout",
     "output_type": "stream",
     "text": [
      "For K = 8 The avg SS is : -0.07\n"
     ]
    },
    {
     "name": "stderr",
     "output_type": "stream",
     "text": [
      "/Applications/anaconda3/lib/python3.6/site-packages/sklearn/manifold/_spectral_embedding.py:245: UserWarning: Graph is not fully connected, spectral embedding may not work as expected.\n",
      "  warnings.warn(\"Graph is not fully connected, spectral embedding\"\n"
     ]
    },
    {
     "name": "stdout",
     "output_type": "stream",
     "text": [
      "For K = 9 The avg SS is : -0.12\n"
     ]
    },
    {
     "name": "stderr",
     "output_type": "stream",
     "text": [
      "/Applications/anaconda3/lib/python3.6/site-packages/sklearn/manifold/_spectral_embedding.py:245: UserWarning: Graph is not fully connected, spectral embedding may not work as expected.\n",
      "  warnings.warn(\"Graph is not fully connected, spectral embedding\"\n"
     ]
    },
    {
     "name": "stdout",
     "output_type": "stream",
     "text": [
      "For K = 10 The avg SS is : -0.1\n"
     ]
    },
    {
     "data": {
      "image/png": "[encoded data removed]",
      "text/plain": [
       "<Figure size 432x288 with 1 Axes>"
      ]
     },
     "metadata": {},
     "output_type": "display_data"
    }
   ],
   "source": [
    "get_ss_mini_spec(11,X)"
   ]
  },
  {
   "cell_type": "code",
   "execution_count": 82,
   "metadata": {},
   "outputs": [
    {
     "name": "stderr",
     "output_type": "stream",
     "text": [
      "/opt/anaconda3/lib/python3.7/site-packages/sklearn/manifold/_spectral_embedding.py:236: UserWarning: Graph is not fully connected, spectral embedding may not work as expected.\n",
      "  warnings.warn(\"Graph is not fully connected, spectral embedding\"\n"
     ]
    },
    {
     "name": "stdout",
     "output_type": "stream",
     "text": [
      "For K = 2 The avg SS is : -0.0\n",
      "For K = 3 The avg SS is : -0.02\n"
     ]
    },
    {
     "name": "stderr",
     "output_type": "stream",
     "text": [
      "/opt/anaconda3/lib/python3.7/site-packages/sklearn/manifold/_spectral_embedding.py:236: UserWarning: Graph is not fully connected, spectral embedding may not work as expected.\n",
      "  warnings.warn(\"Graph is not fully connected, spectral embedding\"\n",
      "/opt/anaconda3/lib/python3.7/site-packages/sklearn/manifold/_spectral_embedding.py:236: UserWarning: Graph is not fully connected, spectral embedding may not work as expected.\n",
      "  warnings.warn(\"Graph is not fully connected, spectral embedding\"\n"
     ]
    },
    {
     "name": "stdout",
     "output_type": "stream",
     "text": [
      "For K = 4 The avg SS is : -0.04\n",
      "For K = 5 The avg SS is : -0.04\n"
     ]
    },
    {
     "name": "stderr",
     "output_type": "stream",
     "text": [
      "/opt/anaconda3/lib/python3.7/site-packages/sklearn/manifold/_spectral_embedding.py:236: UserWarning: Graph is not fully connected, spectral embedding may not work as expected.\n",
      "  warnings.warn(\"Graph is not fully connected, spectral embedding\"\n"
     ]
    },
    {
     "data": {
      "image/png": "[encoded data removed]",
      "text/plain": [
       "<Figure size 432x288 with 1 Axes>"
      ]
     },
     "metadata": {
      "needs_background": "light"
     },
     "output_type": "display_data"
    }
   ],
   "source": [
    "get_ss_mini_spec(6,X_variance)"
   ]
  },
  {
   "cell_type": "code",
   "execution_count": 83,
   "metadata": {},
   "outputs": [
    {
     "name": "stderr",
     "output_type": "stream",
     "text": [
      "/opt/anaconda3/lib/python3.7/site-packages/sklearn/manifold/_spectral_embedding.py:236: UserWarning: Graph is not fully connected, spectral embedding may not work as expected.\n",
      "  warnings.warn(\"Graph is not fully connected, spectral embedding\"\n",
      "/opt/anaconda3/lib/python3.7/site-packages/sklearn/manifold/_spectral_embedding.py:236: UserWarning: Graph is not fully connected, spectral embedding may not work as expected.\n",
      "  warnings.warn(\"Graph is not fully connected, spectral embedding\"\n",
      "/opt/anaconda3/lib/python3.7/site-packages/sklearn/manifold/_spectral_embedding.py:236: UserWarning: Graph is not fully connected, spectral embedding may not work as expected.\n",
      "  warnings.warn(\"Graph is not fully connected, spectral embedding\"\n"
     ]
    },
    {
     "name": "stdout",
     "output_type": "stream",
     "text": [
      "For K = 2 The avg SS is : -0.0\n",
      "For K = 3 The avg SS is : -0.02\n",
      "For K = 4 The avg SS is : -0.02\n"
     ]
    },
    {
     "name": "stderr",
     "output_type": "stream",
     "text": [
      "/opt/anaconda3/lib/python3.7/site-packages/sklearn/manifold/_spectral_embedding.py:236: UserWarning: Graph is not fully connected, spectral embedding may not work as expected.\n",
      "  warnings.warn(\"Graph is not fully connected, spectral embedding\"\n"
     ]
    },
    {
     "name": "stdout",
     "output_type": "stream",
     "text": [
      "For K = 5 The avg SS is : -0.03\n"
     ]
    },
    {
     "data": {
      "image/png": "[encoded data removed]",
      "text/plain": [
       "<Figure size 432x288 with 1 Axes>"
      ]
     },
     "metadata": {
      "needs_background": "light"
     },
     "output_type": "display_data"
    }
   ],
   "source": [
    "get_ss_mini_spec(6,X_PCA)"
   ]
  },
  {
   "cell_type": "markdown",
   "metadata": {},
   "source": [
    "## 8. Conclusions"
   ]
  },
  {
   "cell_type": "markdown",
   "metadata": {},
   "source": [
    "Draw some conclusions about this project work. Can you highlight some insights about meduloblastoma types? "
   ]
  },
  {
   "cell_type": "code",
   "execution_count": null,
   "metadata": {},
   "outputs": [],
   "source": [
    "# Write code in cells like this ..."
   ]
  },
  {
   "cell_type": "markdown",
   "metadata": {},
   "source": [
    "Write text in cells like this..."
   ]
  }
 ],
 "metadata": {
  "kernelspec": {
   "display_name": "Python 3",
   "language": "python",
   "name": "python3"
  },
  "language_info": {
   "codemirror_mode": {
    "name": "ipython",
    "version": 3
   },
   "file_extension": ".py",
   "mimetype": "text/x-python",
   "name": "python",
   "nbconvert_exporter": "python",
   "pygments_lexer": "ipython3",
   "version": "3.8.3"
  }
 },
 "nbformat": 4,
 "nbformat_minor": 4
}
